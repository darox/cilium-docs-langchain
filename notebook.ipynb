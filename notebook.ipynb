{
  "cells": [
    {
      "attachments": {},
      "cell_type": "markdown",
      "metadata": {},
      "source": [
        "# GPT3.5-Turbo with Retrieval Augmentation over Cilium v1.13.x Docs\n",
        "\n",
        "In this notebook I'll work throught an example of using GPT3.5-Turbo with retrieval augmentation to answer questions about the Cilium v1.13.x Docs."
      ]
    },
    {
      "attachments": {},
      "cell_type": "markdown",
      "metadata": {},
      "source": [
        "Install the required dependencies"
      ]
    },
    {
      "cell_type": "code",
      "execution_count": 32,
      "metadata": {
        "colab": {
          "base_uri": "https://localhost:8080/"
        },
        "id": "_HDKlQO5svqI",
        "outputId": "4a57df82-5e46-4b60-f0c7-c408e3d0f5b0"
      },
      "outputs": [],
      "source": [
        "!pip install -qU bs4 tiktoken openai langchain \"pinecone-client[grpc]\" python-dotenv"
      ]
    },
    {
      "attachments": {},
      "cell_type": "markdown",
      "metadata": {},
      "source": [
        "I'm using a dotenv file to store environment variables like the OpenAI API key. You can also just set them directly in the notebook. "
      ]
    },
    {
      "cell_type": "code",
      "execution_count": 33,
      "metadata": {},
      "outputs": [
        {
          "name": "stdout",
          "output_type": "stream",
          "text": [
            "The dotenv extension is already loaded. To reload it, use:\n",
            "  %reload_ext dotenv\n"
          ]
        }
      ],
      "source": [
        "%load_ext dotenv\n",
        "%dotenv"
      ]
    },
    {
      "attachments": {},
      "cell_type": "markdown",
      "metadata": {},
      "source": [
        "https://docs.cilium.io/en/v1.13 is the starting point for the docs. From here we will look for all links to other pages and scrape them.\n"
      ]
    },
    {
      "cell_type": "code",
      "execution_count": 34,
      "metadata": {
        "colab": {
          "base_uri": "https://localhost:8080/"
        },
        "id": "xo9gYhGPr_DQ",
        "outputId": "f1b00acf-b7f0-48e3-abf6-8b0d8a86ffd2"
      },
      "outputs": [],
      "source": [
        "import requests\n",
        "\n",
        "res = requests.get(\"https://docs.cilium.io/en/v1.13\")"
      ]
    },
    {
      "attachments": {},
      "cell_type": "markdown",
      "metadata": {},
      "source": [
        "A quick check to see whether we can extract the text from and links from the docs."
      ]
    },
    {
      "cell_type": "code",
      "execution_count": 35,
      "metadata": {
        "colab": {
          "base_uri": "https://localhost:8080/"
        },
        "id": "n40_0MtlsKgM",
        "outputId": "e0978f3f-2b1a-4d95-c8c6-5e73a5f35f56"
      },
      "outputs": [
        {
          "name": "stdout",
          "output_type": "stream",
          "text": [
            "» Welcome to Cilium’s documentation! Welcome to Cilium’s documentation! The documentation is divided into the following sections: Cilium Quick Installation: Provides a simple tutorial for running a small Cilium setup on your laptop. Intended as an easy way to get your hands dirty applying Cilium security policies between containers. Getting Started : Details instructions for installing, configuring, and troubleshooting Cilium in different deployment modes. Network Policy : Detailed walkthrough of the policy language structure and the supported formats. Monitoring & Metrics : Instructions for configuring metrics collection from Cilium. Troubleshooting : Describes how to troubleshoot Cilium in different deployment modes. BPF and XDP Reference Guide : Provides a technical deep dive of eBPF and XDP technology, primarily focused at developers. API Reference : Details the Cilium agent API for interacting with a local Cilium instance. Development : Gives background to those looking to develop and contribute modifications to the Cilium code or documentation. A hands-on tutorial in a live environment is also available for users looking for a way to quickly get started and experiment with Cilium. Overview Introduction to Cilium & Hubble What is Cilium? What is Hubble? Why Cilium & Hubble? Functionality Overview Component Overview Cilium Hubble eBPF Data Store Getting Started Cilium Quick Installation Create the Cluster Install the Cilium CLI Install Cilium Validate the Installation Next Steps Hubble Introduction Setting up Hubble Observability Enable Hubble in Cilium Install the Hubble Client Validate Hubble API Access Next Steps Hubble Configuration TLS certificates Service Map & Hubble UI Enable the Hubble UI Open the Hubble UI Inspecting a wide variety of network traffic Inspecting Network Flows with the CLI Inspecting the cluster’s network traffic with Hubble Relay Getting Started with the Star Wars Demo Deploy the Demo Application Check Current Access Apply an L3/L4 Policy Inspecting the Policy Apply and Test HTTP-aware L7 Policy Clean-up Terminology Labels Endpoint Identity Node Getting Help FAQ Slack GitHub Training Enterprise support Security Bugs Advanced Installation Considerations on Node Pool Taints and Unmanaged Pods Installation using Helm Install Cilium Restart unmanaged Pods Validate the Installation Next Steps Migrating a cluster to Cilium Background Requirements Limitations Overview Migration procedure Installation with K8s distributions Installation with external etcd Installation on OpenShift OKD Installation Using K3s Installation k0s Using k0sctl Installation Using Kind CNI Chaining External Installers Installation using Kops Installation using Kubespray Installation using kubeadm Installation using Rancher Installation using Rancher Kubernetes Engine Installation Using Rancher Desktop Networking Networking Concepts Routing IP Address Management (IPAM) Masquerading IPv4 Fragment Handling Kubernetes Networking Introduction Concepts Requirements Configuration Network Policy Kubernetes Without kube-proxy Endpoint CRD EndpointSlice CRD CiliumEndpointSlice (beta) Kubernetes Compatibility Cilium CRD schema validation Troubleshooting Bandwidth Manager Kata Containers with Cilium Configuring IPAM Modes Local Redirect Policy (beta) BGP Using Kube-Router to Run BGP Using BIRD to run BGP BGP (beta) Cilium BGP Control Plane LoadBalancer IP Address Management (LB IPAM) eBPF Datapath Introduction Life of a Packet eBPF Maps Iptables Usage Multi-cluster Networking Multi-Cluster (Cluster Mesh) Setting up Cluster Mesh Load-balancing & Service Discovery Network Policy Service Affinity AKS-to-AKS Clustermesh Preparation External networking Setting up Support for External Workloads (beta) Egress Gateway Service Mesh Kubernetes Ingress Support L7-Aware Traffic Management Gateway API Support Getting Started Using Istio Setup Cilium Step 2: Install cilium-istioctl Step 3: Deploy the Bookinfo Application V1 Step 4: Canary and Deploy the Reviews Service V2 Step 5: Deploy the Product Page Service V2 Step 6: Clean Up VXLAN Tunnel Endpoint (VTEP) Integration (beta) Enable VXLAN Tunnel Endpoint (VTEP) integration How to test VXLAN Tunnel Endpoint (VTEP) Integration Limitations LoadBalancer IP Address Management (LB IPAM) Pools Services Security Network Security Introduction Identity-Based Policy Enforcement Proxy Injection Transparent Encryption Network Policy Policy Enforcement Modes Rule Basics Layer 3 Examples Layer 4 Examples Layer 7 Examples Deny Policies Host Policies Using Kubernetes Constructs in Policy Endpoint Lifecycle Troubleshooting Caveats Network Policy Security Tutorials Identity-Aware and HTTP-Aware Policy Enforcement Locking Down External Access with DNS-Based Policies Inspecting TLS Encrypted Connections with Cilium Securing a Kafka Cluster Securing gRPC Securing Elasticsearch Securing a Cassandra Database Securing Memcached Locking Down External Access Using AWS Metadata Creating Policies from Verdicts Host Firewall Threat Model Scope and Prerequisites Methodology Reference Architecture The Threat Model Overall Recommendations Observability Running Prometheus & Grafana Install Prometheus & Grafana Deploy Cilium and Hubble with metrics enabled How to access Grafana How to access Prometheus Examples Monitoring & Metrics Cilium Metrics Hubble Metrics Example Prometheus & Grafana Deployment Metrics Reference Layer 7 Protocol Visibility Troubleshooting Limitations Operations System Requirements Summary Architecture Support Linux Distribution Compatibility & Considerations Linux Kernel Required Kernel Versions for Advanced Features Key-Value store clang+LLVM iproute2 Firewall Rules Mounted eBPF filesystem Privileges Upgrade Guide Running pre-flight check (Required) Upgrading Cilium Version Specific Notes Advanced Configuration cilium-config ConfigMap Making Changes Core Agent Security Performance & Scalability Tuning Guide CNI Performance Benchmark Scalability Troubleshooting Component & Cluster Health Observing Flows with Hubble Observing flows with Hubble Relay Connectivity Problems Policy Troubleshooting etcd (kvstore) Cluster Mesh Troubleshooting Service Mesh Troubleshooting Symptom Library Useful Scripts Reporting a problem Community Governance Cilium Committer Grant/Revocation Policy Voting Templates Weekly Community Meeting Slack Slack channels Special Interest Groups All SIGs How to create a SIG Roadmap Major Feature Status Focus Areas Influencing the Roadmap Contributor Guide Development How To Contribute Development Setup Building Container Images Code Overview Debugging Hubble Introducing New CRDs Release Management Organization Backporting process Generic Release Process Release Candidate Process Feature Release Process Testing CI / Jenkins End-To-End Testing Framework Integration Testing BPF Unit and Integration Testing Documentation Documentation Style Documentation Testing API Reference Introduction How to access the API Compatibility Guarantees API Reference gRPC API Reference Internals Code Overview Hubble internals Cilium Operator Security Identities Reference Command Cheatsheet Command utilities: Command examples: Kubernetes examples: Command Reference cilium-agent cilium cilium-health cilium-operator cilium-operator-aws cilium-operator-azure cilium-operator-generic Key-Value Store Helm Reference Key-Value Store Layout Leases Debugging Further Reading Related Material Presentations Podcasts Community blog posts Glossary BPF and XDP Reference Guide BPF and XDP Reference Guide BPF Architecture Development Tools Debugging and Testing Program Types Further Reading Next © Copyright Cilium Authors. Revision 8f2445df. Built with Sphinx using a theme provided by Read the Docs.\n",
            "['https://docs.cilium.io/en/v1.13/overview/intro/', 'https://docs.cilium.io/en/v1.13/overview/component-overview/', 'https://docs.cilium.io/en/v1.13/gettingstarted/k8s-install-default/', 'https://docs.cilium.io/en/v1.13/gettingstarted/hubble_intro/', 'https://docs.cilium.io/en/v1.13/gettingstarted/hubble_setup/', 'https://docs.cilium.io/en/v1.13/gettingstarted/hubble-configuration/', 'https://docs.cilium.io/en/v1.13/gettingstarted/hubble/', 'https://docs.cilium.io/en/v1.13/gettingstarted/hubble_cli/', 'https://docs.cilium.io/en/v1.13/gettingstarted/demo/', 'https://docs.cilium.io/en/v1.13/gettingstarted/terminology/', 'https://docs.cilium.io/en/v1.13/gettingstarted/gettinghelp/', 'https://docs.cilium.io/en/v1.13/installation/taints/', 'https://docs.cilium.io/en/v1.13/installation/k8s-install-helm/', 'https://docs.cilium.io/en/v1.13/installation/k8s-install-migration/', 'https://docs.cilium.io/en/v1.13/installation/k8s-toc/', 'https://docs.cilium.io/en/v1.13/installation/external-toc/', 'https://docs.cilium.io/en/v1.13/network/concepts/', 'https://docs.cilium.io/en/v1.13/network/kubernetes/', 'https://docs.cilium.io/en/v1.13/network/bgp-toc/', 'https://docs.cilium.io/en/v1.13/network/ebpf/', 'https://docs.cilium.io/en/v1.13/network/clustermesh/', 'https://docs.cilium.io/en/v1.13/network/external-toc/', 'https://docs.cilium.io/en/v1.13/network/servicemesh/', 'https://docs.cilium.io/en/v1.13/network/istio/', 'https://docs.cilium.io/en/v1.13/network/vtep/', 'https://docs.cilium.io/en/v1.13/network/lb-ipam/', 'https://docs.cilium.io/en/v1.13/security/network/', 'https://docs.cilium.io/en/v1.13/security/policy/', 'https://docs.cilium.io/en/v1.13/security/tutorial-toc/', 'https://docs.cilium.io/en/v1.13/security/threat-model/', 'https://docs.cilium.io/en/v1.13/observability/grafana/', 'https://docs.cilium.io/en/v1.13/observability/metrics/', 'https://docs.cilium.io/en/v1.13/observability/visibility/', 'https://docs.cilium.io/en/v1.13/operations/system_requirements/', 'https://docs.cilium.io/en/v1.13/operations/upgrade/', 'https://docs.cilium.io/en/v1.13/configuration/', 'https://docs.cilium.io/en/v1.13/operations/performance/', 'https://docs.cilium.io/en/v1.13/operations/troubleshooting/', 'https://docs.cilium.io/en/v1.13/community/governance/', 'https://docs.cilium.io/en/v1.13/community/community/', 'https://docs.cilium.io/en/v1.13/community/community/#slack', 'https://docs.cilium.io/en/v1.13/community/community/#special-interest-groups', 'https://docs.cilium.io/en/v1.13/community/roadmap/', 'https://docs.cilium.io/en/v1.13/contributing/development/', 'https://docs.cilium.io/en/v1.13/contributing/release/', 'https://docs.cilium.io/en/v1.13/contributing/testing/', 'https://docs.cilium.io/en/v1.13/contributing/docs/', 'https://docs.cilium.io/en/v1.13/api/', 'https://docs.cilium.io/en/v1.13/grpcapi/', 'https://docs.cilium.io/en/v1.13/internals/', 'https://docs.cilium.io/en/v1.13/cheatsheet/', 'https://docs.cilium.io/en/v1.13/cmdref/', 'https://docs.cilium.io/en/v1.13/helm-reference/', 'https://docs.cilium.io/en/v1.13/kvstore/', 'https://docs.cilium.io/en/v1.13/further_reading/', 'https://docs.cilium.io/en/v1.13/glossary/', 'https://docs.cilium.io/en/v1.13/bpf/', 'https://docs.cilium.io/en/v1.13/gettingstarted/k8s-install-default/#k8s-install-quick', 'https://docs.cilium.io/en/v1.13/#getting-started', 'https://docs.cilium.io/en/v1.13/security/policy/#network-policy', 'https://docs.cilium.io/en/v1.13/observability/metrics/#metrics', 'https://docs.cilium.io/en/v1.13/operations/troubleshooting/#admin-guide', 'https://docs.cilium.io/en/v1.13/bpf/#bpf-guide', 'https://docs.cilium.io/en/v1.13/api/#api-ref', 'https://docs.cilium.io/en/v1.13/contributing/development/#dev-guide', 'https://docs.cilium.io/en/v1.13/overview/intro/', 'https://docs.cilium.io/en/v1.13/overview/intro/#what-is-cilium', 'https://docs.cilium.io/en/v1.13/overview/intro/#what-is-hubble', 'https://docs.cilium.io/en/v1.13/overview/intro/#why-cilium-hubble', 'https://docs.cilium.io/en/v1.13/overview/intro/#functionality-overview', 'https://docs.cilium.io/en/v1.13/overview/component-overview/', 'https://docs.cilium.io/en/v1.13/overview/component-overview/#cilium', 'https://docs.cilium.io/en/v1.13/overview/component-overview/#hubble', 'https://docs.cilium.io/en/v1.13/overview/component-overview/#ebpf', 'https://docs.cilium.io/en/v1.13/overview/component-overview/#data-store', 'https://docs.cilium.io/en/v1.13/gettingstarted/k8s-install-default/', 'https://docs.cilium.io/en/v1.13/gettingstarted/k8s-install-default/#create-the-cluster', 'https://docs.cilium.io/en/v1.13/gettingstarted/k8s-install-default/#install-the-cilium-cli', 'https://docs.cilium.io/en/v1.13/gettingstarted/k8s-install-default/#install-cilium', 'https://docs.cilium.io/en/v1.13/gettingstarted/k8s-install-default/#validate-the-installation', 'https://docs.cilium.io/en/v1.13/gettingstarted/k8s-install-default/#next-steps', 'https://docs.cilium.io/en/v1.13/gettingstarted/hubble_intro/', 'https://docs.cilium.io/en/v1.13/gettingstarted/hubble_setup/', 'https://docs.cilium.io/en/v1.13/gettingstarted/hubble_setup/#enable-hubble-in-cilium', 'https://docs.cilium.io/en/v1.13/gettingstarted/hubble_setup/#install-the-hubble-client', 'https://docs.cilium.io/en/v1.13/gettingstarted/hubble_setup/#validate-hubble-api-access', 'https://docs.cilium.io/en/v1.13/gettingstarted/hubble_setup/#next-steps', 'https://docs.cilium.io/en/v1.13/gettingstarted/hubble-configuration/', 'https://docs.cilium.io/en/v1.13/gettingstarted/hubble-configuration/#tls-certificates', 'https://docs.cilium.io/en/v1.13/gettingstarted/hubble/', 'https://docs.cilium.io/en/v1.13/gettingstarted/hubble/#enable-the-hubble-ui', 'https://docs.cilium.io/en/v1.13/gettingstarted/hubble/#open-the-hubble-ui', 'https://docs.cilium.io/en/v1.13/gettingstarted/hubble/#inspecting-a-wide-variety-of-network-traffic', 'https://docs.cilium.io/en/v1.13/gettingstarted/hubble_cli/', 'https://docs.cilium.io/en/v1.13/gettingstarted/hubble_cli/#inspecting-the-cluster-s-network-traffic-with-hubble-relay', 'https://docs.cilium.io/en/v1.13/gettingstarted/demo/', 'https://docs.cilium.io/en/v1.13/gettingstarted/demo/#deploy-the-demo-application', 'https://docs.cilium.io/en/v1.13/gettingstarted/demo/#check-current-access', 'https://docs.cilium.io/en/v1.13/gettingstarted/demo/#apply-an-l3-l4-policy', 'https://docs.cilium.io/en/v1.13/gettingstarted/demo/#inspecting-the-policy', 'https://docs.cilium.io/en/v1.13/gettingstarted/demo/#apply-and-test-http-aware-l7-policy', 'https://docs.cilium.io/en/v1.13/gettingstarted/demo/#clean-up', 'https://docs.cilium.io/en/v1.13/gettingstarted/terminology/', 'https://docs.cilium.io/en/v1.13/gettingstarted/terminology/#labels', 'https://docs.cilium.io/en/v1.13/gettingstarted/terminology/#endpoints', 'https://docs.cilium.io/en/v1.13/gettingstarted/terminology/#identity', 'https://docs.cilium.io/en/v1.13/gettingstarted/terminology/#node', 'https://docs.cilium.io/en/v1.13/gettingstarted/gettinghelp/', 'https://docs.cilium.io/en/v1.13/gettingstarted/gettinghelp/#faq', 'https://docs.cilium.io/en/v1.13/gettingstarted/gettinghelp/#slack', 'https://docs.cilium.io/en/v1.13/gettingstarted/gettinghelp/#github', 'https://docs.cilium.io/en/v1.13/gettingstarted/gettinghelp/#training', 'https://docs.cilium.io/en/v1.13/gettingstarted/gettinghelp/#enterprise-support', 'https://docs.cilium.io/en/v1.13/gettingstarted/gettinghelp/#security-bugs', 'https://docs.cilium.io/en/v1.13/installation/taints/', 'https://docs.cilium.io/en/v1.13/installation/k8s-install-helm/', 'https://docs.cilium.io/en/v1.13/installation/k8s-install-helm/#install-cilium', 'https://docs.cilium.io/en/v1.13/installation/k8s-install-helm/#restart-unmanaged-pods', 'https://docs.cilium.io/en/v1.13/installation/k8s-install-helm/#validate-the-installation', 'https://docs.cilium.io/en/v1.13/installation/k8s-install-helm/#next-steps', 'https://docs.cilium.io/en/v1.13/installation/k8s-install-migration/', 'https://docs.cilium.io/en/v1.13/installation/k8s-install-migration/#background', 'https://docs.cilium.io/en/v1.13/installation/k8s-install-migration/#requirements', 'https://docs.cilium.io/en/v1.13/installation/k8s-install-migration/#limitations', 'https://docs.cilium.io/en/v1.13/installation/k8s-install-migration/#overview', 'https://docs.cilium.io/en/v1.13/installation/k8s-install-migration/#migration-procedure', 'https://docs.cilium.io/en/v1.13/installation/k8s-toc/', 'https://docs.cilium.io/en/v1.13/installation/k8s-install-external-etcd/', 'https://docs.cilium.io/en/v1.13/installation/k8s-install-openshift-okd/', 'https://docs.cilium.io/en/v1.13/installation/k3s/', 'https://docs.cilium.io/en/v1.13/installation/k0s/', 'https://docs.cilium.io/en/v1.13/installation/kind/', 'https://docs.cilium.io/en/v1.13/installation/cni-chaining/', 'https://docs.cilium.io/en/v1.13/installation/external-toc/', 'https://docs.cilium.io/en/v1.13/installation/k8s-install-kops/', 'https://docs.cilium.io/en/v1.13/installation/k8s-install-kubespray/', 'https://docs.cilium.io/en/v1.13/installation/k8s-install-kubeadm/', 'https://docs.cilium.io/en/v1.13/installation/k8s-install-rancher-existing-nodes/', 'https://docs.cilium.io/en/v1.13/installation/k8s-install-rke/', 'https://docs.cilium.io/en/v1.13/installation/rancher-desktop/', 'https://docs.cilium.io/en/v1.13/network/concepts/', 'https://docs.cilium.io/en/v1.13/network/concepts/routing/', 'https://docs.cilium.io/en/v1.13/network/concepts/ipam/', 'https://docs.cilium.io/en/v1.13/network/concepts/masquerading/', 'https://docs.cilium.io/en/v1.13/network/concepts/fragmentation/', 'https://docs.cilium.io/en/v1.13/network/kubernetes/', 'https://docs.cilium.io/en/v1.13/network/kubernetes/intro/', 'https://docs.cilium.io/en/v1.13/network/kubernetes/concepts/', 'https://docs.cilium.io/en/v1.13/network/kubernetes/requirements/', 'https://docs.cilium.io/en/v1.13/network/kubernetes/configuration/', 'https://docs.cilium.io/en/v1.13/network/kubernetes/policy/', 'https://docs.cilium.io/en/v1.13/network/kubernetes/kubeproxy-free/', 'https://docs.cilium.io/en/v1.13/network/kubernetes/ciliumendpoint/', 'https://docs.cilium.io/en/v1.13/network/kubernetes/ciliumendpointslice/', 'https://docs.cilium.io/en/v1.13/network/kubernetes/ciliumendpointslice_beta/', 'https://docs.cilium.io/en/v1.13/network/kubernetes/compatibility/', 'https://docs.cilium.io/en/v1.13/network/kubernetes/compatibility/#cilium-crd-schema-validation', 'https://docs.cilium.io/en/v1.13/network/kubernetes/troubleshooting/', 'https://docs.cilium.io/en/v1.13/network/kubernetes/bandwidth-manager/', 'https://docs.cilium.io/en/v1.13/network/kubernetes/kata/', 'https://docs.cilium.io/en/v1.13/network/kubernetes/ipam/', 'https://docs.cilium.io/en/v1.13/network/kubernetes/local-redirect-policy/', 'https://docs.cilium.io/en/v1.13/network/bgp-toc/', 'https://docs.cilium.io/en/v1.13/network/kube-router/', 'https://docs.cilium.io/en/v1.13/network/bird/', 'https://docs.cilium.io/en/v1.13/network/bgp/', 'https://docs.cilium.io/en/v1.13/network/bgp-control-plane/', 'https://docs.cilium.io/en/v1.13/network/lb-ipam/', 'https://docs.cilium.io/en/v1.13/network/ebpf/', 'https://docs.cilium.io/en/v1.13/network/ebpf/intro/', 'https://docs.cilium.io/en/v1.13/network/ebpf/lifeofapacket/', 'https://docs.cilium.io/en/v1.13/network/ebpf/maps/', 'https://docs.cilium.io/en/v1.13/network/ebpf/iptables/', 'https://docs.cilium.io/en/v1.13/network/clustermesh/', 'https://docs.cilium.io/en/v1.13/network/clustermesh/intro/', 'https://docs.cilium.io/en/v1.13/network/clustermesh/clustermesh/', 'https://docs.cilium.io/en/v1.13/network/clustermesh/services/', 'https://docs.cilium.io/en/v1.13/network/clustermesh/policy/', 'https://docs.cilium.io/en/v1.13/network/clustermesh/affinity/', 'https://docs.cilium.io/en/v1.13/network/clustermesh/aks-clustermesh-prep/', 'https://docs.cilium.io/en/v1.13/network/external-toc/', 'https://docs.cilium.io/en/v1.13/network/external-workloads/', 'https://docs.cilium.io/en/v1.13/network/egress-gateway/', 'https://docs.cilium.io/en/v1.13/network/servicemesh/', 'https://docs.cilium.io/en/v1.13/network/servicemesh/ingress/', 'https://docs.cilium.io/en/v1.13/network/servicemesh/l7-traffic-management/', 'https://docs.cilium.io/en/v1.13/network/servicemesh/gateway-api/gateway-api/', 'https://docs.cilium.io/en/v1.13/network/istio/', 'https://docs.cilium.io/en/v1.13/network/istio/#setup-cilium', 'https://docs.cilium.io/en/v1.13/network/istio/#step-2-install-cilium-istioctl', 'https://docs.cilium.io/en/v1.13/network/istio/#step-3-deploy-the-bookinfo-application-v1', 'https://docs.cilium.io/en/v1.13/network/istio/#step-4-canary-and-deploy-the-reviews-service-v2', 'https://docs.cilium.io/en/v1.13/network/istio/#step-5-deploy-the-product-page-service-v2', 'https://docs.cilium.io/en/v1.13/network/istio/#step-6-clean-up', 'https://docs.cilium.io/en/v1.13/network/vtep/', 'https://docs.cilium.io/en/v1.13/network/vtep/#enable-vxlan-tunnel-endpoint-vtep-integration', 'https://docs.cilium.io/en/v1.13/network/vtep/#how-to-test-vxlan-tunnel-endpoint-vtep-integration', 'https://docs.cilium.io/en/v1.13/network/vtep/#limitations', 'https://docs.cilium.io/en/v1.13/network/lb-ipam/', 'https://docs.cilium.io/en/v1.13/network/lb-ipam/#pools', 'https://docs.cilium.io/en/v1.13/network/lb-ipam/#services', 'https://docs.cilium.io/en/v1.13/security/network/', 'https://docs.cilium.io/en/v1.13/security/network/intro/', 'https://docs.cilium.io/en/v1.13/security/network/identity/', 'https://docs.cilium.io/en/v1.13/security/network/policyenforcement/', 'https://docs.cilium.io/en/v1.13/security/network/proxy/', 'https://docs.cilium.io/en/v1.13/security/network/encryption/', 'https://docs.cilium.io/en/v1.13/security/policy/', 'https://docs.cilium.io/en/v1.13/security/policy/intro/', 'https://docs.cilium.io/en/v1.13/security/policy/intro/#rule-basics', 'https://docs.cilium.io/en/v1.13/security/policy/language/', 'https://docs.cilium.io/en/v1.13/security/policy/language/#layer-4-examples', 'https://docs.cilium.io/en/v1.13/security/policy/language/#layer-7-examples', 'https://docs.cilium.io/en/v1.13/security/policy/language/#deny-policies', 'https://docs.cilium.io/en/v1.13/security/policy/language/#host-policies', 'https://docs.cilium.io/en/v1.13/security/policy/kubernetes/', 'https://docs.cilium.io/en/v1.13/security/policy/lifecycle/', 'https://docs.cilium.io/en/v1.13/security/policy/troubleshooting/', 'https://docs.cilium.io/en/v1.13/security/policy/caveats/', 'https://docs.cilium.io/en/v1.13/security/tutorial-toc/', 'https://docs.cilium.io/en/v1.13/security/http/', 'https://docs.cilium.io/en/v1.13/security/dns/', 'https://docs.cilium.io/en/v1.13/security/tls-visibility/', 'https://docs.cilium.io/en/v1.13/security/kafka/', 'https://docs.cilium.io/en/v1.13/security/grpc/', 'https://docs.cilium.io/en/v1.13/security/elasticsearch/', 'https://docs.cilium.io/en/v1.13/security/cassandra/', 'https://docs.cilium.io/en/v1.13/security/memcached/', 'https://docs.cilium.io/en/v1.13/security/aws/', 'https://docs.cilium.io/en/v1.13/security/policy-creation/', 'https://docs.cilium.io/en/v1.13/security/host-firewall/', 'https://docs.cilium.io/en/v1.13/security/threat-model/', 'https://docs.cilium.io/en/v1.13/security/threat-model/#scope-and-prerequisites', 'https://docs.cilium.io/en/v1.13/security/threat-model/#methodology', 'https://docs.cilium.io/en/v1.13/security/threat-model/#reference-architecture', 'https://docs.cilium.io/en/v1.13/security/threat-model/#the-threat-model', 'https://docs.cilium.io/en/v1.13/security/threat-model/#overall-recommendations', 'https://docs.cilium.io/en/v1.13/observability/grafana/', 'https://docs.cilium.io/en/v1.13/observability/grafana/#install-prometheus-grafana', 'https://docs.cilium.io/en/v1.13/observability/grafana/#deploy-cilium-and-hubble-with-metrics-enabled', 'https://docs.cilium.io/en/v1.13/observability/grafana/#how-to-access-grafana', 'https://docs.cilium.io/en/v1.13/observability/grafana/#how-to-access-prometheus', 'https://docs.cilium.io/en/v1.13/observability/grafana/#examples', 'https://docs.cilium.io/en/v1.13/observability/metrics/', 'https://docs.cilium.io/en/v1.13/observability/metrics/#cilium-metrics', 'https://docs.cilium.io/en/v1.13/observability/metrics/#hubble-metrics', 'https://docs.cilium.io/en/v1.13/observability/metrics/#example-prometheus-grafana-deployment', 'https://docs.cilium.io/en/v1.13/observability/metrics/#metrics-reference', 'https://docs.cilium.io/en/v1.13/observability/visibility/', 'https://docs.cilium.io/en/v1.13/observability/visibility/#troubleshooting', 'https://docs.cilium.io/en/v1.13/observability/visibility/#limitations', 'https://docs.cilium.io/en/v1.13/operations/system_requirements/', 'https://docs.cilium.io/en/v1.13/operations/system_requirements/#summary', 'https://docs.cilium.io/en/v1.13/operations/system_requirements/#architecture-support', 'https://docs.cilium.io/en/v1.13/operations/system_requirements/#linux-distribution-compatibility-considerations', 'https://docs.cilium.io/en/v1.13/operations/system_requirements/#linux-kernel', 'https://docs.cilium.io/en/v1.13/operations/system_requirements/#required-kernel-versions-for-advanced-features', 'https://docs.cilium.io/en/v1.13/operations/system_requirements/#key-value-store', 'https://docs.cilium.io/en/v1.13/operations/system_requirements/#id4', 'https://docs.cilium.io/en/v1.13/operations/system_requirements/#iproute2-requirements', 'https://docs.cilium.io/en/v1.13/operations/system_requirements/#firewall-rules', 'https://docs.cilium.io/en/v1.13/operations/system_requirements/#mounted-ebpf-filesystem', 'https://docs.cilium.io/en/v1.13/operations/system_requirements/#privileges', 'https://docs.cilium.io/en/v1.13/operations/upgrade/', 'https://docs.cilium.io/en/v1.13/operations/upgrade/#running-pre-flight-check-required', 'https://docs.cilium.io/en/v1.13/operations/upgrade/#upgrading-cilium', 'https://docs.cilium.io/en/v1.13/operations/upgrade/#version-specific-notes', 'https://docs.cilium.io/en/v1.13/operations/upgrade/#advanced', 'https://docs.cilium.io/en/v1.13/configuration/', 'https://docs.cilium.io/en/v1.13/configuration/#cilium-config-configmap', 'https://docs.cilium.io/en/v1.13/configuration/#making-changes', 'https://docs.cilium.io/en/v1.13/configuration/#core-agent', 'https://docs.cilium.io/en/v1.13/configuration/#security', 'https://docs.cilium.io/en/v1.13/operations/performance/', 'https://docs.cilium.io/en/v1.13/operations/performance/tuning/', 'https://docs.cilium.io/en/v1.13/operations/performance/benchmark/', 'https://docs.cilium.io/en/v1.13/operations/performance/scalability/', 'https://docs.cilium.io/en/v1.13/operations/troubleshooting/', 'https://docs.cilium.io/en/v1.13/operations/troubleshooting/#component-cluster-health', 'https://docs.cilium.io/en/v1.13/operations/troubleshooting/#observing-flows-with-hubble', 'https://docs.cilium.io/en/v1.13/operations/troubleshooting/#observing-flows-with-hubble-relay', 'https://docs.cilium.io/en/v1.13/operations/troubleshooting/#connectivity-problems', 'https://docs.cilium.io/en/v1.13/operations/troubleshooting/#policy-troubleshooting', 'https://docs.cilium.io/en/v1.13/operations/troubleshooting/#etcd-kvstore', 'https://docs.cilium.io/en/v1.13/operations/troubleshooting/#cluster-mesh-troubleshooting', 'https://docs.cilium.io/en/v1.13/operations/troubleshooting/#service-mesh-troubleshooting', 'https://docs.cilium.io/en/v1.13/operations/troubleshooting/#symptom-library', 'https://docs.cilium.io/en/v1.13/operations/troubleshooting/#useful-scripts', 'https://docs.cilium.io/en/v1.13/operations/troubleshooting/#reporting-a-problem', 'https://docs.cilium.io/en/v1.13/community/governance/', 'https://docs.cilium.io/en/v1.13/community/governance/commit_access/', 'https://docs.cilium.io/en/v1.13/community/governance/commit_access/#voting', 'https://docs.cilium.io/en/v1.13/community/governance/commit_access/#templates', 'https://docs.cilium.io/en/v1.13/community/community/', 'https://docs.cilium.io/en/v1.13/community/community/#slack', 'https://docs.cilium.io/en/v1.13/community/community/#slack-channels', 'https://docs.cilium.io/en/v1.13/community/community/#special-interest-groups', 'https://docs.cilium.io/en/v1.13/community/community/#all-sigs', 'https://docs.cilium.io/en/v1.13/community/community/#how-to-create-a-sig', 'https://docs.cilium.io/en/v1.13/community/roadmap/', 'https://docs.cilium.io/en/v1.13/community/roadmap/#major-feature-status', 'https://docs.cilium.io/en/v1.13/community/roadmap/#focus-areas', 'https://docs.cilium.io/en/v1.13/community/roadmap/#influencing-the-roadmap', 'https://docs.cilium.io/en/v1.13/contributing/development/', 'https://docs.cilium.io/en/v1.13/contributing/development/contributing_guide/', 'https://docs.cilium.io/en/v1.13/contributing/development/dev_setup/', 'https://docs.cilium.io/en/v1.13/contributing/development/images/', 'https://docs.cilium.io/en/v1.13/contributing/development/codeoverview/', 'https://docs.cilium.io/en/v1.13/contributing/development/debugging/', 'https://docs.cilium.io/en/v1.13/contributing/development/hubble/', 'https://docs.cilium.io/en/v1.13/contributing/development/introducing_new_crds/', 'https://docs.cilium.io/en/v1.13/contributing/release/', 'https://docs.cilium.io/en/v1.13/contributing/release/organization/', 'https://docs.cilium.io/en/v1.13/contributing/release/backports/', 'https://docs.cilium.io/en/v1.13/contributing/release/stable/', 'https://docs.cilium.io/en/v1.13/contributing/release/rc/', 'https://docs.cilium.io/en/v1.13/contributing/release/feature/', 'https://docs.cilium.io/en/v1.13/contributing/testing/', 'https://docs.cilium.io/en/v1.13/contributing/testing/ci/', 'https://docs.cilium.io/en/v1.13/contributing/testing/e2e/', 'https://docs.cilium.io/en/v1.13/contributing/testing/unit/', 'https://docs.cilium.io/en/v1.13/contributing/testing/bpf/', 'https://docs.cilium.io/en/v1.13/contributing/docs/', 'https://docs.cilium.io/en/v1.13/contributing/docs/docsstyle/', 'https://docs.cilium.io/en/v1.13/contributing/docs/docstest/', 'https://docs.cilium.io/en/v1.13/api/', 'https://docs.cilium.io/en/v1.13/api/#introduction', 'https://docs.cilium.io/en/v1.13/api/#how-to-access-the-api', 'https://docs.cilium.io/en/v1.13/api/#compatibility-guarantees', 'https://docs.cilium.io/en/v1.13/api/#id2', 'https://docs.cilium.io/en/v1.13/grpcapi/', 'https://docs.cilium.io/en/v1.13/internals/', 'https://docs.cilium.io/en/v1.13/contributing/development/codeoverview/', 'https://docs.cilium.io/en/v1.13/internals/hubble/', 'https://docs.cilium.io/en/v1.13/internals/cilium_operator/', 'https://docs.cilium.io/en/v1.13/internals/security-identities/', 'https://docs.cilium.io/en/v1.13/cheatsheet/', 'https://docs.cilium.io/en/v1.13/cheatsheet/#command-utilities', 'https://docs.cilium.io/en/v1.13/cheatsheet/#command-examples', 'https://docs.cilium.io/en/v1.13/cheatsheet/#kubernetes-examples', 'https://docs.cilium.io/en/v1.13/cmdref/', 'https://docs.cilium.io/en/v1.13/cmdref/cilium-agent/', 'https://docs.cilium.io/en/v1.13/cmdref/cli_index/', 'https://docs.cilium.io/en/v1.13/cmdref/cilium-health/', 'https://docs.cilium.io/en/v1.13/cmdref/cilium-operator/', 'https://docs.cilium.io/en/v1.13/cmdref/cilium-operator-aws/', 'https://docs.cilium.io/en/v1.13/cmdref/cilium-operator-azure/', 'https://docs.cilium.io/en/v1.13/cmdref/cilium-operator-generic/', 'https://docs.cilium.io/en/v1.13/cmdref/kvstore/', 'https://docs.cilium.io/en/v1.13/helm-reference/', 'https://docs.cilium.io/en/v1.13/kvstore/', 'https://docs.cilium.io/en/v1.13/kvstore/#layout', 'https://docs.cilium.io/en/v1.13/kvstore/#leases', 'https://docs.cilium.io/en/v1.13/kvstore/#debugging', 'https://docs.cilium.io/en/v1.13/further_reading/', 'https://docs.cilium.io/en/v1.13/further_reading/#related-material', 'https://docs.cilium.io/en/v1.13/further_reading/#presentations', 'https://docs.cilium.io/en/v1.13/further_reading/#podcasts', 'https://docs.cilium.io/en/v1.13/further_reading/#community-blog-posts', 'https://docs.cilium.io/en/v1.13/glossary/', 'https://docs.cilium.io/en/v1.13/bpf/', 'https://docs.cilium.io/en/v1.13/bpf/architecture/', 'https://docs.cilium.io/en/v1.13/bpf/toolchain/', 'https://docs.cilium.io/en/v1.13/bpf/debug_and_test/', 'https://docs.cilium.io/en/v1.13/bpf/progtypes/', 'https://docs.cilium.io/en/v1.13/bpf/resources/']\n"
          ]
        }
      ],
      "source": [
        "from bs4 import BeautifulSoup\n",
        "import urllib.parse\n",
        "import html\n",
        "import re\n",
        "\n",
        "domain = \"https://docs.cilium.io/en/v1.13/\"\n",
        "domain_full = domain\n",
        "\n",
        "soup = BeautifulSoup(res.text, 'html.parser')\n",
        "\n",
        "# Find all links to local pages on the website\n",
        "local_links = []\n",
        "for link in soup.find_all('a', href=True, class_=[\"reference\", \"internal\"]):\n",
        "    href = link['href']\n",
        "\n",
        "    if not href.startswith(\"https://\") and not href.startswith(\"http://\") and not href.startswith(\"dns:query;ignoreAAAA\") and not href.startswith(\"mailto:\"):\n",
        "      local_links.append(urllib.parse.urljoin(domain_full, href))\n",
        "\n",
        "# Find the main content using CSS selectors\n",
        "main_content = soup.select('body div section div div')[0]\n",
        "\n",
        "# Extract the HTML code of the main content\n",
        "main_content_html = str(main_content)\n",
        "\n",
        "# Extract the plaintext of the main content\n",
        "main_content_text = main_content.get_text()\n",
        "\n",
        "# Remove all HTML tags\n",
        "main_content_text = re.sub(r'<[^>]+>', '', main_content_text)\n",
        "\n",
        "# Remove extra white space\n",
        "main_content_text = ' '.join(main_content_text.split())\n",
        "\n",
        "# Replace HTML entities with their corresponding characters\n",
        "main_content_text = html.unescape(main_content_text)\n",
        "\n",
        "print(main_content_text)\n",
        "print(local_links)"
      ]
    },
    {
      "attachments": {},
      "cell_type": "markdown",
      "metadata": {},
      "source": [
        "A function that returns the link, the text and any sublinks from a given page."
      ]
    },
    {
      "cell_type": "code",
      "execution_count": 36,
      "metadata": {
        "id": "OcIkny_6xiZJ"
      },
      "outputs": [],
      "source": [
        "def scrape(url: str):\n",
        "    res = requests.get(url)\n",
        "    if res.status_code != 200:\n",
        "        print(f\"{res.status_code} for '{url}'\")\n",
        "        return None\n",
        "    soup = BeautifulSoup(res.text, 'html.parser')\n",
        "\n",
        "    # Find all links to local pages on the website\n",
        "    local_links = []\n",
        "    for link in soup.find_all('a', href=True, class_=[\"reference\", \"internal\"]):\n",
        "      href = link['href']\n",
        "\n",
        "      if not href.startswith(\"https://\") and not href.startswith(\"http://\") and not href.startswith(\"dns:query;ignoreAAAA\") and not href.startswith(\"mailto:\"):\n",
        "        local_links.append(urllib.parse.urljoin(domain_full, href))\n",
        "\n",
        "    # Find the main content using CSS selectors\n",
        "    main_content = soup.select('body div section div div')[0]\n",
        "\n",
        "    # Extract the HTML code of the main content\n",
        "    main_content_html = str(main_content)\n",
        "\n",
        "    # Extract the plaintext of the main content\n",
        "    main_content_text = main_content.get_text()\n",
        "\n",
        "    # Remove all HTML tags\n",
        "    main_content_text = re.sub(r'<[^>]+>', '', main_content_text)\n",
        "\n",
        "    # Remove extra white space\n",
        "    main_content_text = ' '.join(main_content_text.split())\n",
        "\n",
        "    # Replace HTML entities with their corresponding characters\n",
        "    main_content_text = html.unescape(main_content_text)\n",
        "    \n",
        "    # return as json\n",
        "    return {\n",
        "        \"url\": url,\n",
        "        \"text\": main_content_text\n",
        "    }, local_links"
      ]
    },
    {
      "attachments": {},
      "cell_type": "markdown",
      "metadata": {},
      "source": [
        "Now loop through all links and execute the scrape function against them."
      ]
    },
    {
      "cell_type": "code",
      "execution_count": null,
      "metadata": {
        "colab": {
          "base_uri": "https://localhost:8080/"
        },
        "id": "NGUGao9_uNH3",
        "outputId": "1d4a4e02-7ace-49a9-98d5-f5b4304779b0"
      },
      "outputs": [],
      "source": [
        "links = [\"https://docs.cilium.io/en/v1.13/\"]\n",
        "scraped = set()\n",
        "data = []\n",
        "\n",
        "while True:\n",
        "    if len(links) == 0:\n",
        "        print(\"Complete\")\n",
        "        break\n",
        "    url = links[0]\n",
        "    print(url)\n",
        "    res = scrape(url)\n",
        "    scraped.add(url)\n",
        "    if res is not None:\n",
        "        page_content, local_links = res\n",
        "        data.append(page_content)\n",
        "        # add new links to links list\n",
        "        links.extend(local_links)\n",
        "        # remove duplicates\n",
        "        links = list(set(links))\n",
        "    # remove links already scraped\n",
        "    links = [link for link in links if link not in scraped]"
      ]
    },
    {
      "cell_type": "code",
      "execution_count": 38,
      "metadata": {
        "colab": {
          "base_uri": "https://localhost:8080/"
        },
        "id": "F0tUQRxtzqF0",
        "outputId": "a7a9b799-98cb-41a2-a696-fc9f00579773"
      },
      "outputs": [
        {
          "data": {
            "text/plain": [
              "{'url': 'https://docs.cilium.io/en/v1.13/api/#compatibility-guarantees',\n",
              " 'text': '» API Reference API Reference\\uf0c1 Introduction\\uf0c1 The Cilium API is JSON based and provided by the cilium-agent. The purpose of the API is to provide visibility and control over an individual agent instance. In general, all API calls affect only the resources managed by the individual cilium-agent serving the API. A few selected API calls such as the security identity resolution provides cluster wide visibility. Such API calls are marked specifically. Unless noted otherwise, API calls will only affect local agent resources. How to access the API\\uf0c1 CLI Client\\uf0c1 The easiest way to access the API is via the cilium CLI client. cilium will automatically locate the API of the agent running on the same node and access it. However, using the -H or --host flag, the cilium client can be pointed to an arbitrary API address. Example\\uf0c1 $ cilium -H unix:///var/run/cilium/cilium.sock [...] Golang Package\\uf0c1 The following Go packages can be used to access the API: Package Description pkg/client Main client API abstraction api/v1/models API resource data type models Example\\uf0c1 The full example can be found in the cilium/client-example repository. import ( \"fmt\" \"github.com/cilium/cilium/pkg/client\" ) func main() { c, err := client.NewDefaultClient() if err != nil { ... } endpoints, err := c.EndpointList() if err != nil { ... } for _, ep := range endpoints { fmt.Printf(\"%8d %14s %16s %32s\\\\n\", ep.ID, ep.ContainerName, ep.Addressing.IPV4, ep.Addressing.IPV6) } Compatibility Guarantees\\uf0c1 Cilium API is stable as of version 1.0, backward compatibility will be upheld for whole lifecycle of Cilium 1.x. API Reference\\uf0c1 GET /cluster/nodes\\uf0c1 Get nodes information stored in the cilium-agent Status Codes 200 OK – Success Request Headers client-id – Client UUID should be used when the client wants to request a diff of nodes added and / or removed since the last time that client has made a request. GET /healthz\\uf0c1 Get health of Cilium daemon Returns health and status information of the Cilium daemon and related components such as the local container runtime, connected datastore, Kubernetes integration and Hubble. Status Codes 200 OK – Success Request Headers brief – Brief will return a brief representation of the Cilium status. Response JSON Object bandwidth-manager.congestionControl (string) – bandwidth-manager.devices[] (string) – bandwidth-manager.enabled (boolean) – Is bandwidth manager enabled bpf-maps.dynamic-size-ratio (number) – Ratio of total system memory to use for dynamic sizing of BPF maps bpf-maps.maps[].name (string) – Name of the BPF map bpf-maps.maps[].size (integer) – Size of the BPF map cilium.msg (string) – Human readable status/error/warning message cilium.state (string) – State the component is in client-id (integer) – When supported by the API, this client ID should be used by the client when making another request to the server. See for example “/cluster/nodes”. clock-source.hertz (integer) – Kernel Hz clock-source.mode (string) – Datapath clock source cluster (any) – Status of cluster +k8s:deepcopy-gen=true cluster-mesh (any) – Status of ClusterMesh +k8s:deepcopy-gen=true cni-chaining (any) – Status of CNI chaining +k8s:deepcopy-gen=true cni-file.msg (string) – Human readable status/error/warning message cni-file.state (string) – State the component is in container-runtime.msg (string) – Human readable status/error/warning message container-runtime.state (string) – State the component is in controllers[].configuration.error-retry (boolean) – Retry on error controllers[].configuration.error-retry-base (string) – Base error retry back-off time controllers[].configuration.interval (string) – Regular synchronization interval controllers[].name (string) – Name of controller controllers[].status.consecutive-failure-count (integer) – Number of consecutive errors since last success controllers[].status.failure-count (integer) – Total number of failed runs controllers[].status.last-failure-msg (string) – Error message of last failed run controllers[].status.last-failure-timestamp (string) – Timestamp of last error controllers[].status.last-success-timestamp (string) – Timestamp of last success controllers[].status.success-count (integer) – Total number of successful runs controllers[].uuid (string) – UUID of controller encryption (any) – Status of transparent encryption +k8s:deepcopy-gen=true host-firewall.devices[] (string) – host-firewall.mode (string) – host-routing.mode (string) – Datapath routing mode hubble.metrics.state (string) – State of the Hubble metrics hubble.msg (string) – Human readable status/error/warning message hubble.observer.current-flows (integer) – Current number of flows this Hubble observer stores hubble.observer.max-flows (integer) – Maximum number of flows this Hubble observer is able to store hubble.observer.seen-flows (integer) – Total number of flows this Hubble observer has seen hubble.observer.uptime (string) – Uptime of this Hubble observer instance hubble.state (string) – State the component is in identity-range (any) – Status of identity range of the cluster +k8s:deepcopy-gen=true ipam (any) – Status of IP address management +k8s:deepcopy-gen=true ipv6-big-tcp.enabled (boolean) – Is IPv6 BIG TCP enabled kube-proxy-replacement.deviceList[].ip[] (string) – kube-proxy-replacement.deviceList[].name (string) – kube-proxy-replacement.devices[] (string) – kube-proxy-replacement.directRoutingDevice (string) – kube-proxy-replacement.features.bpfSocketLBHostnsOnly (boolean) – flag bpf-lb-sock-hostns-only kube-proxy-replacement.features.externalIPs.enabled (boolean) – kube-proxy-replacement.features.gracefulTermination.enabled (boolean) – kube-proxy-replacement.features.hostPort.enabled (boolean) – kube-proxy-replacement.features.hostReachableServices.enabled (boolean) – kube-proxy-replacement.features.hostReachableServices.protocols[] (string) – kube-proxy-replacement.features.nat46X64.enabled (boolean) – kube-proxy-replacement.features.nat46X64.gateway.enabled (boolean) – kube-proxy-replacement.features.nat46X64.gateway.prefixes[] (string) – kube-proxy-replacement.features.nat46X64.service.enabled (boolean) – kube-proxy-replacement.features.nodePort.acceleration (string) – kube-proxy-replacement.features.nodePort.algorithm (string) – kube-proxy-replacement.features.nodePort.enabled (boolean) – kube-proxy-replacement.features.nodePort.lutSize (integer) – kube-proxy-replacement.features.nodePort.mode (string) – kube-proxy-replacement.features.nodePort.portMax (integer) – kube-proxy-replacement.features.nodePort.portMin (integer) – kube-proxy-replacement.features.sessionAffinity.enabled (boolean) – kube-proxy-replacement.features.socketLB.enabled (boolean) – kube-proxy-replacement.features.socketLBTracing.enabled (boolean) – kube-proxy-replacement.mode (string) – kubernetes.k8s-api-versions[] (string) – kubernetes.msg (string) – Human readable status/error/warning message kubernetes.state (string) – State the component is in kvstore.msg (string) – Human readable status/error/warning message kvstore.state (string) – State the component is in masquerading.enabled (boolean) – masquerading.enabledProtocols.ipv4 (boolean) – Is masquerading enabled for IPv4 traffic masquerading.enabledProtocols.ipv6 (boolean) – Is masquerading enabled for IPv6 traffic masquerading.ip-masq-agent (boolean) – Is BPF ip-masq-agent enabled masquerading.mode (string) – masquerading.snat-exclusion-cidr (string) – This field is obsolete, please use snat-exclusion-cidr-v4 or snat-exclusion-cidr-v6. masquerading.snat-exclusion-cidr-v4 (string) – SnatExclusionCIDRv4 exempts SNAT from being performed on any packet sent to an IPv4 address that belongs to this CIDR. masquerading.snat-exclusion-cidr-v6 (string) – SnatExclusionCIDRv6 exempts SNAT from being performed on any packet sent to an IPv6 address that belongs to this CIDR. For IPv6 we only do masquerading in iptables mode. nodeMonitor (any) – Status of the node monitor proxy.ip (string) – IP address that the proxy listens on proxy.port-range (string) – Port range used for proxying proxy.redirects[].name (string) – Name of the proxy redirect proxy.redirects[].proxy (string) – Name of the proxy this redirect points to proxy.redirects[].proxy-port (integer) – Host port that this redirect points to proxy.total-ports (integer) – Total number of listening proxy ports proxy.total-redirects (integer) – Total number of ports configured to redirect to proxies stale (object) – List of stale information in the status GET /config\\uf0c1 Get configuration of Cilium daemon Returns the configuration of the Cilium daemon. Status Codes 200 OK – Success Response JSON Object spec.options (object) – Map of configuration key/value pairs. spec.policy-enforcement (string) – The policy-enforcement mode status.GROMaxSize (integer) – Maximum GRO size on workload facing devices status.GSOMaxSize (integer) – Maximum GSO size on workload facing devices status.addressing.ipv4.address-type (string) – Node address type, one of HostName, ExternalIP or InternalIP status.addressing.ipv4.alloc-range (string) – Address pool to be used for local endpoints status.addressing.ipv4.enabled (boolean) – True if address family is enabled status.addressing.ipv4.ip (string) – IP address of node status.addressing.ipv6.address-type (string) – Node address type, one of HostName, ExternalIP or InternalIP status.addressing.ipv6.alloc-range (string) – Address pool to be used for local endpoints status.addressing.ipv6.enabled (boolean) – True if address family is enabled status.addressing.ipv6.ip (string) – IP address of node status.daemonConfigurationMap (any) – Config map which contains all the active daemon configurations status.datapathMode (string) – Datapath mode status.deviceMTU (integer) – MTU on workload facing devices status.egress-multi-home-ip-rule-compat (boolean) – Configured compatibility mode for –egress-multi-home-ip-rule-compat status.immutable (object) – Map of configuration key/value pairs. status.ipam-mode (string) – Configured IPAM mode status.k8s-configuration (string) – status.k8s-endpoint (string) – status.kvstoreConfiguration (any) – Configuration used for the kvstore status.masquerade (boolean) – status.masqueradeProtocols.ipv4 (boolean) – Status of masquerading for IPv4 traffic status.masqueradeProtocols.ipv6 (boolean) – Status of masquerading for IPv6 traffic status.nodeMonitor (any) – Status of the node monitor status.realized.options (object) – Map of configuration key/value pairs. status.realized.policy-enforcement (string) – The policy-enforcement mode status.routeMTU (integer) – MTU for network facing routes PATCH /config\\uf0c1 Modify daemon configuration Updates the daemon configuration by applying the provided ConfigurationMap and regenerates & recompiles all required datapath components. Request JSON Object options (object) – Map of configuration key/value pairs. policy-enforcement (string) – The policy-enforcement mode Status Codes 200 OK – Success 400 Bad Request – Bad configuration parameters 500 Internal Server Error – Recompilation failed GET /endpoint/{id}\\uf0c1 Get endpoint by endpoint ID Returns endpoint information Parameters id (string) – String describing an endpoint with the format [prefix:]id. If no prefix is specified, a prefix of cilium-local: is assumed. Not all endpoints will be addressable by all endpoint ID prefixes with the exception of the local Cilium UUID which is assigned to all endpoints. Supported endpoint id prefixes: cilium-local: Local Cilium endpoint UUID, e.g. cilium-local:3389595 cilium-global: Global Cilium endpoint UUID, e.g. cilium-global:cluster1:nodeX:452343 container-id: Container runtime ID, e.g. container-id:22222 container-name: Container name, e.g. container-name:foobar pod-name: pod name for this container if K8s is enabled, e.g. pod-name:default:foobar docker-endpoint: Docker libnetwork endpoint ID, e.g. docker-endpoint:4444 Status Codes 200 OK – Success 400 Bad Request – Invalid endpoint ID format for specified type 404 Not Found – Endpoint not found 429 Too Many Requests – Rate-limiting too many requests in the given time frame Response JSON Object id (integer) – The cilium-agent-local ID of the endpoint spec.label-configuration.user[] (string) – spec.options (object) – Map of configuration key/value pairs. status.controllers[].configuration.error-retry (boolean) – Retry on error status.controllers[].configuration.error-retry-base (string) – Base error retry back-off time status.controllers[].configuration.interval (string) – Regular synchronization interval status.controllers[].name (string) – Name of controller status.controllers[].status.consecutive-failure-count (integer) – Number of consecutive errors since last success status.controllers[].status.failure-count (integer) – Total number of failed runs status.controllers[].status.last-failure-msg (string) – Error message of last failed run status.controllers[].status.last-failure-timestamp (string) – Timestamp of last error status.controllers[].status.last-success-timestamp (string) – Timestamp of last success status.controllers[].status.success-count (integer) – Total number of successful runs status.controllers[].uuid (string) – UUID of controller status.external-identifiers.container-id (string) – ID assigned by container runtime status.external-identifiers.container-name (string) – Name assigned to container status.external-identifiers.docker-endpoint-id (string) – Docker endpoint ID status.external-identifiers.docker-network-id (string) – Docker network ID status.external-identifiers.k8s-namespace (string) – K8s namespace for this endpoint status.external-identifiers.k8s-pod-name (string) – K8s pod name for this endpoint status.external-identifiers.pod-name (string) – K8s pod for this endpoint(Deprecated, use K8sPodName and K8sNamespace instead) status.health.bpf (string) – A common set of statuses for endpoint health * OK = All components operational * Bootstrap = This component is being created * Pending = A change is being processed to be applied * Warning = This component is not applying up-to-date policies (but is still applying the previous version) * Failure = An error has occurred and no policy is being applied * Disabled = This endpoint is disabled and will not handle traffic status.health.connected (boolean) – Is this endpoint reachable status.health.overallHealth (string) – A common set of statuses for endpoint health * OK = All components operational * Bootstrap = This component is being created * Pending = A change is being processed to be applied * Warning = This component is not applying up-to-date policies (but is still applying the previous version) * Failure = An error has occurred and no policy is being applied * Disabled = This endpoint is disabled and will not handle traffic status.health.policy (string) – A common set of statuses for endpoint health * OK = All components operational * Bootstrap = This component is being created * Pending = A change is being processed to be applied * Warning = This component is not applying up-to-date policies (but is still applying the previous version) * Failure = An error has occurred and no policy is being applied * Disabled = This endpoint is disabled and will not handle traffic status.identity.id (integer) – Unique identifier status.identity.labelsSHA256 (string) – SHA256 of labels status.identity.labels[] (string) – status.labels.derived[] (string) – status.labels.disabled[] (string) – status.labels.realized.user[] (string) – status.labels.security-relevant[] (string) – status.log[].code (string) – Code indicate type of status change status.log[].message (string) – Status message status.log[].state (string) – State of endpoint status.log[].timestamp (string) – Timestamp when status change occurred status.namedPorts[].name (string) – Optional layer 4 port name status.namedPorts[].port (integer) – Layer 4 port number status.namedPorts[].protocol (string) – Layer 4 protocol status.networking.addressing[].ipv4 (string) – IPv4 address status.networking.addressing[].ipv4-expiration-uuid (string) – UUID of IPv4 expiration timer status.networking.addressing[].ipv6 (string) – IPv6 address status.networking.addressing[].ipv6-expiration-uuid (string) – UUID of IPv6 expiration timer status.networking.host-addressing.ipv4.address-type (string) – Node address type, one of HostName, ExternalIP or InternalIP status.networking.host-addressing.ipv4.alloc-range (string) – Address pool to be used for local endpoints status.networking.host-addressing.ipv4.enabled (boolean) – True if address family is enabled status.networking.host-addressing.ipv4.ip (string) – IP address of node status.networking.host-addressing.ipv6.address-type (string) – Node address type, one of HostName, ExternalIP or InternalIP status.networking.host-addressing.ipv6.alloc-range (string) – Address pool to be used for local endpoints status.networking.host-addressing.ipv6.enabled (boolean) – True if address family is enabled status.networking.host-addressing.ipv6.ip (string) – IP address of node status.networking.host-mac (string) – MAC address status.networking.interface-index (integer) – Index of network device status.networking.interface-name (string) – Name of network device status.networking.mac (string) – MAC address status.policy.proxy-policy-revision (integer) – The policy revision currently enforced in the proxy for this endpoint status.policy.proxy-statistics[].allocated-proxy-port (integer) – The port the proxy is listening on status.policy.proxy-statistics[].location (string) – Location of where the redirect is installed status.policy.proxy-statistics[].port (integer) – The port subject to the redirect status.policy.proxy-statistics[].protocol (string) – Name of the L7 protocol status.policy.proxy-statistics[].statistics.requests.denied (integer) – Number of messages denied status.policy.proxy-statistics[].statistics.requests.error (integer) – Number of errors while parsing messages status.policy.proxy-statistics[].statistics.requests.forwarded (integer) – Number of messages forwarded status.policy.proxy-statistics[].statistics.requests.received (integer) – Number of messages received status.policy.proxy-statistics[].statistics.responses.denied (integer) – Number of messages denied status.policy.proxy-statistics[].statistics.responses.error (integer) – Number of errors while parsing messages status.policy.proxy-statistics[].statistics.responses.forwarded (integer) – Number of messages forwarded status.policy.proxy-statistics[].statistics.responses.received (integer) – Number of messages received status.policy.realized.allowed-egress-identities[] (integer) – status.policy.realized.allowed-ingress-identities[] (integer) – status.policy.realized.build (integer) – Build number of calculated policy in use status.policy.realized.cidr-policy.egress[] (any) – A policy rule including the rule labels it derives from +k8s:deepcopy-gen=true status.policy.realized.cidr-policy.ingress[] (any) – A policy rule including the rule labels it derives from +k8s:deepcopy-gen=true status.policy.realized.denied-egress-identities[] (integer) – status.policy.realized.denied-ingress-identities[] (integer) – status.policy.realized.id (integer) – Own identity of endpoint status.policy.realized.l4.egress[] (any) – A policy rule including the rule labels it derives from +k8s:deepcopy-gen=true status.policy.realized.l4.ingress[] (any) – A policy rule including the rule labels it derives from +k8s:deepcopy-gen=true status.policy.realized.policy-enabled (string) – Whether policy enforcement is enabled (ingress, egress, both or none) status.policy.realized.policy-revision (integer) – The agent-local policy revision status.policy.spec.allowed-egress-identities[] (integer) – status.policy.spec.allowed-ingress-identities[] (integer) – status.policy.spec.build (integer) – Build number of calculated policy in use status.policy.spec.cidr-policy.egress[] (any) – A policy rule including the rule labels it derives from +k8s:deepcopy-gen=true status.policy.spec.cidr-policy.ingress[] (any) – A policy rule including the rule labels it derives from +k8s:deepcopy-gen=true status.policy.spec.denied-egress-identities[] (integer) – status.policy.spec.denied-ingress-identities[] (integer) – status.policy.spec.id (integer) – Own identity of endpoint status.policy.spec.l4.egress[] (any) – A policy rule including the rule labels it derives from +k8s:deepcopy-gen=true status.policy.spec.l4.ingress[] (any) – A policy rule including the rule labels it derives from +k8s:deepcopy-gen=true status.policy.spec.policy-enabled (string) – Whether policy enforcement is enabled (ingress, egress, both or none) status.policy.spec.policy-revision (integer) – The agent-local policy revision status.realized.label-configuration.user[] (string) – status.realized.options (object) – Map of configuration key/value pairs. status.state (string) – State of endpoint (required) PUT /endpoint/{id}\\uf0c1 Create endpoint Creates a new endpoint Parameters id (string) – String describing an endpoint with the format [prefix:]id. If no prefix is specified, a prefix of cilium-local: is assumed. Not all endpoints will be addressable by all endpoint ID prefixes with the exception of the local Cilium UUID which is assigned to all endpoints. Supported endpoint id prefixes: cilium-local: Local Cilium endpoint UUID, e.g. cilium-local:3389595 cilium-global: Global Cilium endpoint UUID, e.g. cilium-global:cluster1:nodeX:452343 container-id: Container runtime ID, e.g. container-id:22222 container-name: Container name, e.g. container-name:foobar pod-name: pod name for this container if K8s is enabled, e.g. pod-name:default:foobar docker-endpoint: Docker libnetwork endpoint ID, e.g. docker-endpoint:4444 Request JSON Object addressing.ipv4 (string) – IPv4 address addressing.ipv4-expiration-uuid (string) – UUID of IPv4 expiration timer addressing.ipv6 (string) – IPv6 address addressing.ipv6-expiration-uuid (string) – UUID of IPv6 expiration timer container-id (string) – ID assigned by container runtime container-name (string) – Name assigned to container datapath-configuration.disable-sip-verification (boolean) – Disable source IP verification for the endpoint. datapath-configuration.external-ipam (boolean) – Indicates that IPAM is done external to Cilium. This will prevent the IP from being released and re-allocation of the IP address is skipped on restore. datapath-configuration.install-endpoint-route (boolean) – Installs a route in the Linux routing table pointing to the device of the endpoint’s interface. datapath-configuration.require-arp-passthrough (boolean) – Enable ARP passthrough mode datapath-configuration.require-egress-prog (boolean) – Endpoint requires a host-facing egress program to be attached to implement ingress policy and reverse NAT. datapath-configuration.require-routing (boolean) – Endpoint requires BPF routing to be enabled, when disabled, routing is delegated to Linux routing. datapath-map-id (integer) – ID of datapath tail call map docker-endpoint-id (string) – Docker endpoint ID docker-network-id (string) – Docker network ID host-mac (string) – MAC address id (integer) – Local endpoint ID interface-index (integer) – Index of network device interface-name (string) – Name of network device k8s-namespace (string) – Kubernetes namespace name k8s-pod-name (string) – Kubernetes pod name labels[] (string) – mac (string) – MAC address pid (integer) – Process ID of the workload belonging to this endpoint policy-enabled (boolean) – Whether policy enforcement is enabled or not state (string) – State of endpoint (required) sync-build-endpoint (boolean) – Whether to build an endpoint synchronously Status Codes 201 Created – Created 400 Bad Request – Invalid endpoint in request 409 Conflict – Endpoint already exists 429 Too Many Requests – Rate-limiting too many requests in the given time frame 500 Internal Server Error – Endpoint creation failed PATCH /endpoint/{id}\\uf0c1 Modify existing endpoint Applies the endpoint change request to an existing endpoint Parameters id (string) – String describing an endpoint with the format [prefix:]id. If no prefix is specified, a prefix of cilium-local: is assumed. Not all endpoints will be addressable by all endpoint ID prefixes with the exception of the local Cilium UUID which is assigned to all endpoints. Supported endpoint id prefixes: cilium-local: Local Cilium endpoint UUID, e.g. cilium-local:3389595 cilium-global: Global Cilium endpoint UUID, e.g. cilium-global:cluster1:nodeX:452343 container-id: Container runtime ID, e.g. container-id:22222 container-name: Container name, e.g. container-name:foobar pod-name: pod name for this container if K8s is enabled, e.g. pod-name:default:foobar docker-endpoint: Docker libnetwork endpoint ID, e.g. docker-endpoint:4444 Request JSON Object addressing.ipv4 (string) – IPv4 address addressing.ipv4-expiration-uuid (string) – UUID of IPv4 expiration timer addressing.ipv6 (string) – IPv6 address addressing.ipv6-expiration-uuid (string) – UUID of IPv6 expiration timer container-id (string) – ID assigned by container runtime container-name (string) – Name assigned to container datapath-configuration.disable-sip-verification (boolean) – Disable source IP verification for the endpoint. datapath-configuration.external-ipam (boolean) – Indicates that IPAM is done external to Cilium. This will prevent the IP from being released and re-allocation of the IP address is skipped on restore. datapath-configuration.install-endpoint-route (boolean) – Installs a route in the Linux routing table pointing to the device of the endpoint’s interface. datapath-configuration.require-arp-passthrough (boolean) – Enable ARP passthrough mode datapath-configuration.require-egress-prog (boolean) – Endpoint requires a host-facing egress program to be attached to implement ingress policy and reverse NAT. datapath-configuration.require-routing (boolean) – Endpoint requires BPF routing to be enabled, when disabled, routing is delegated to Linux routing. datapath-map-id (integer) – ID of datapath tail call map docker-endpoint-id (string) – Docker endpoint ID docker-network-id (string) – Docker network ID host-mac (string) – MAC address id (integer) – Local endpoint ID interface-index (integer) – Index of network device interface-name (string) – Name of network device k8s-namespace (string) – Kubernetes namespace name k8s-pod-name (string) – Kubernetes pod name labels[] (string) – mac (string) – MAC address pid (integer) – Process ID of the workload belonging to this endpoint policy-enabled (boolean) – Whether policy enforcement is enabled or not state (string) – State of endpoint (required) sync-build-endpoint (boolean) – Whether to build an endpoint synchronously Status Codes 200 OK – Success 400 Bad Request – Invalid modify endpoint request 404 Not Found – Endpoint does not exist 429 Too Many Requests – Rate-limiting too many requests in the given time frame 500 Internal Server Error – Endpoint update failed DELETE /endpoint/{id}\\uf0c1 Delete endpoint Deletes the endpoint specified by the ID. Deletion is imminent and atomic, if the deletion request is valid and the endpoint exists, deletion will occur even if errors are encountered in the process. If errors have been encountered, the code 202 will be returned, otherwise 200 on success. All resources associated with the endpoint will be freed and the workload represented by the endpoint will be disconnected.It will no longer be able to initiate or receive communications of any sort. Parameters id (string) – String describing an endpoint with the format [prefix:]id. If no prefix is specified, a prefix of cilium-local: is assumed. Not all endpoints will be addressable by all endpoint ID prefixes with the exception of the local Cilium UUID which is assigned to all endpoints. Supported endpoint id prefixes: cilium-local: Local Cilium endpoint UUID, e.g. cilium-local:3389595 cilium-global: Global Cilium endpoint UUID, e.g. cilium-global:cluster1:nodeX:452343 container-id: Container runtime ID, e.g. container-id:22222 container-name: Container name, e.g. container-name:foobar pod-name: pod name for this container if K8s is enabled, e.g. pod-name:default:foobar docker-endpoint: Docker libnetwork endpoint ID, e.g. docker-endpoint:4444 Status Codes 200 OK – Success 206 Partial Content – Deleted with a number of errors encountered 400 Bad Request – Invalid endpoint ID format for specified type. Details in error message 404 Not Found – Endpoint not found 429 Too Many Requests – Rate-limiting too many requests in the given time frame GET /endpoint\\uf0c1 Retrieves a list of endpoints that have metadata matching the provided parameters. Retrieves a list of endpoints that have metadata matching the provided parameters, or all endpoints if no parameters provided. Request JSON Object [] (string) – Status Codes 200 OK – Success 404 Not Found – Endpoints with provided parameters not found 429 Too Many Requests – Rate-limiting too many requests in the given time frame Response JSON Object [].id (integer) – The cilium-agent-local ID of the endpoint [].spec.label-configuration.user[] (string) – [].spec.options (object) – Map of configuration key/value pairs. [].status.controllers[].configuration.error-retry (boolean) – Retry on error [].status.controllers[].configuration.error-retry-base (string) – Base error retry back-off time [].status.controllers[].configuration.interval (string) – Regular synchronization interval [].status.controllers[].name (string) – Name of controller [].status.controllers[].status.consecutive-failure-count (integer) – Number of consecutive errors since last success [].status.controllers[].status.failure-count (integer) – Total number of failed runs [].status.controllers[].status.last-failure-msg (string) – Error message of last failed run [].status.controllers[].status.last-failure-timestamp (string) – Timestamp of last error [].status.controllers[].status.last-success-timestamp (string) – Timestamp of last success [].status.controllers[].status.success-count (integer) – Total number of successful runs [].status.controllers[].uuid (string) – UUID of controller [].status.external-identifiers.container-id (string) – ID assigned by container runtime [].status.external-identifiers.container-name (string) – Name assigned to container [].status.external-identifiers.docker-endpoint-id (string) – Docker endpoint ID [].status.external-identifiers.docker-network-id (string) – Docker network ID [].status.external-identifiers.k8s-namespace (string) – K8s namespace for this endpoint [].status.external-identifiers.k8s-pod-name (string) – K8s pod name for this endpoint [].status.external-identifiers.pod-name (string) – K8s pod for this endpoint(Deprecated, use K8sPodName and K8sNamespace instead) [].status.health.bpf (string) – A common set of statuses for endpoint health * OK = All components operational * Bootstrap = This component is being created * Pending = A change is being processed to be applied * Warning = This component is not applying up-to-date policies (but is still applying the previous version) * Failure = An error has occurred and no policy is being applied * Disabled = This endpoint is disabled and will not handle traffic [].status.health.connected (boolean) – Is this endpoint reachable [].status.health.overallHealth (string) – A common set of statuses for endpoint health * OK = All components operational * Bootstrap = This component is being created * Pending = A change is being processed to be applied * Warning = This component is not applying up-to-date policies (but is still applying the previous version) * Failure = An error has occurred and no policy is being applied * Disabled = This endpoint is disabled and will not handle traffic [].status.health.policy (string) – A common set of statuses for endpoint health * OK = All components operational * Bootstrap = This component is being created * Pending = A change is being processed to be applied * Warning = This component is not applying up-to-date policies (but is still applying the previous version) * Failure = An error has occurred and no policy is being applied * Disabled = This endpoint is disabled and will not handle traffic [].status.identity.id (integer) – Unique identifier [].status.identity.labelsSHA256 (string) – SHA256 of labels [].status.identity.labels[] (string) – [].status.labels.derived[] (string) – [].status.labels.disabled[] (string) – [].status.labels.realized.user[] (string) – [].status.labels.security-relevant[] (string) – [].status.log[].code (string) – Code indicate type of status change [].status.log[].message (string) – Status message [].status.log[].state (string) – State of endpoint [].status.log[].timestamp (string) – Timestamp when status change occurred [].status.namedPorts[].name (string) – Optional layer 4 port name [].status.namedPorts[].port (integer) – Layer 4 port number [].status.namedPorts[].protocol (string) – Layer 4 protocol [].status.networking.addressing[].ipv4 (string) – IPv4 address [].status.networking.addressing[].ipv4-expiration-uuid (string) – UUID of IPv4 expiration timer [].status.networking.addressing[].ipv6 (string) – IPv6 address [].status.networking.addressing[].ipv6-expiration-uuid (string) – UUID of IPv6 expiration timer [].status.networking.host-addressing.ipv4.address-type (string) – Node address type, one of HostName, ExternalIP or InternalIP [].status.networking.host-addressing.ipv4.alloc-range (string) – Address pool to be used for local endpoints [].status.networking.host-addressing.ipv4.enabled (boolean) – True if address family is enabled [].status.networking.host-addressing.ipv4.ip (string) – IP address of node [].status.networking.host-addressing.ipv6.address-type (string) – Node address type, one of HostName, ExternalIP or InternalIP [].status.networking.host-addressing.ipv6.alloc-range (string) – Address pool to be used for local endpoints [].status.networking.host-addressing.ipv6.enabled (boolean) – True if address family is enabled [].status.networking.host-addressing.ipv6.ip (string) – IP address of node [].status.networking.host-mac (string) – MAC address [].status.networking.interface-index (integer) – Index of network device [].status.networking.interface-name (string) – Name of network device [].status.networking.mac (string) – MAC address [].status.policy.proxy-policy-revision (integer) – The policy revision currently enforced in the proxy for this endpoint [].status.policy.proxy-statistics[].allocated-proxy-port (integer) – The port the proxy is listening on [].status.policy.proxy-statistics[].location (string) – Location of where the redirect is installed [].status.policy.proxy-statistics[].port (integer) – The port subject to the redirect [].status.policy.proxy-statistics[].protocol (string) – Name of the L7 protocol [].status.policy.proxy-statistics[].statistics.requests.denied (integer) – Number of messages denied [].status.policy.proxy-statistics[].statistics.requests.error (integer) – Number of errors while parsing messages [].status.policy.proxy-statistics[].statistics.requests.forwarded (integer) – Number of messages forwarded [].status.policy.proxy-statistics[].statistics.requests.received (integer) – Number of messages received [].status.policy.proxy-statistics[].statistics.responses.denied (integer) – Number of messages denied [].status.policy.proxy-statistics[].statistics.responses.error (integer) – Number of errors while parsing messages [].status.policy.proxy-statistics[].statistics.responses.forwarded (integer) – Number of messages forwarded [].status.policy.proxy-statistics[].statistics.responses.received (integer) – Number of messages received [].status.policy.realized.allowed-egress-identities[] (integer) – [].status.policy.realized.allowed-ingress-identities[] (integer) – [].status.policy.realized.build (integer) – Build number of calculated policy in use [].status.policy.realized.cidr-policy.egress[] (any) – A policy rule including the rule labels it derives from +k8s:deepcopy-gen=true [].status.policy.realized.cidr-policy.ingress[] (any) – A policy rule including the rule labels it derives from +k8s:deepcopy-gen=true [].status.policy.realized.denied-egress-identities[] (integer) – [].status.policy.realized.denied-ingress-identities[] (integer) – [].status.policy.realized.id (integer) – Own identity of endpoint [].status.policy.realized.l4.egress[] (any) – A policy rule including the rule labels it derives from +k8s:deepcopy-gen=true [].status.policy.realized.l4.ingress[] (any) – A policy rule including the rule labels it derives from +k8s:deepcopy-gen=true [].status.policy.realized.policy-enabled (string) – Whether policy enforcement is enabled (ingress, egress, both or none) [].status.policy.realized.policy-revision (integer) – The agent-local policy revision [].status.policy.spec.allowed-egress-identities[] (integer) – [].status.policy.spec.allowed-ingress-identities[] (integer) – [].status.policy.spec.build (integer) – Build number of calculated policy in use [].status.policy.spec.cidr-policy.egress[] (any) – A policy rule including the rule labels it derives from +k8s:deepcopy-gen=true [].status.policy.spec.cidr-policy.ingress[] (any) – A policy rule including the rule labels it derives from +k8s:deepcopy-gen=true [].status.policy.spec.denied-egress-identities[] (integer) – [].status.policy.spec.denied-ingress-identities[] (integer) – [].status.policy.spec.id (integer) – Own identity of endpoint [].status.policy.spec.l4.egress[] (any) – A policy rule including the rule labels it derives from +k8s:deepcopy-gen=true [].status.policy.spec.l4.ingress[] (any) – A policy rule including the rule labels it derives from +k8s:deepcopy-gen=true [].status.policy.spec.policy-enabled (string) – Whether policy enforcement is enabled (ingress, egress, both or none) [].status.policy.spec.policy-revision (integer) – The agent-local policy revision [].status.realized.label-configuration.user[] (string) – [].status.realized.options (object) – Map of configuration key/value pairs. [].status.state (string) – State of endpoint (required) GET /endpoint/{id}/config\\uf0c1 Retrieve endpoint configuration Retrieves the configuration of the specified endpoint. Parameters id (string) – String describing an endpoint with the format [prefix:]id. If no prefix is specified, a prefix of cilium-local: is assumed. Not all endpoints will be addressable by all endpoint ID prefixes with the exception of the local Cilium UUID which is assigned to all endpoints. Supported endpoint id prefixes: cilium-local: Local Cilium endpoint UUID, e.g. cilium-local:3389595 cilium-global: Global Cilium endpoint UUID, e.g. cilium-global:cluster1:nodeX:452343 container-id: Container runtime ID, e.g. container-id:22222 container-name: Container name, e.g. container-name:foobar pod-name: pod name for this container if K8s is enabled, e.g. pod-name:default:foobar docker-endpoint: Docker libnetwork endpoint ID, e.g. docker-endpoint:4444 Status Codes 200 OK – Success 404 Not Found – Endpoint not found 429 Too Many Requests – Rate-limiting too many requests in the given time frame Response JSON Object error (string) – immutable (object) – Map of configuration key/value pairs. realized.label-configuration.user[] (string) – realized.options (object) – Map of configuration key/value pairs. PATCH /endpoint/{id}/config\\uf0c1 Modify mutable endpoint configuration Update the configuration of an existing endpoint and regenerates & recompiles the corresponding programs automatically. Parameters id (string) – String describing an endpoint with the format [prefix:]id. If no prefix is specified, a prefix of cilium-local: is assumed. Not all endpoints will be addressable by all endpoint ID prefixes with the exception of the local Cilium UUID which is assigned to all endpoints. Supported endpoint id prefixes: cilium-local: Local Cilium endpoint UUID, e.g. cilium-local:3389595 cilium-global: Global Cilium endpoint UUID, e.g. cilium-global:cluster1:nodeX:452343 container-id: Container runtime ID, e.g. container-id:22222 container-name: Container name, e.g. container-name:foobar pod-name: pod name for this container if K8s is enabled, e.g. pod-name:default:foobar docker-endpoint: Docker libnetwork endpoint ID, e.g. docker-endpoint:4444 Request JSON Object label-configuration.user[] (string) – options (object) – Map of configuration key/value pairs. Status Codes 200 OK – Success 400 Bad Request – Invalid configuration request 404 Not Found – Endpoint not found 429 Too Many Requests – Rate-limiting too many requests in the given time frame 500 Internal Server Error – Update failed. Details in message. GET /endpoint/{id}/labels\\uf0c1 Retrieves the list of labels associated with an endpoint. Parameters id (string) – String describing an endpoint with the format [prefix:]id. If no prefix is specified, a prefix of cilium-local: is assumed. Not all endpoints will be addressable by all endpoint ID prefixes with the exception of the local Cilium UUID which is assigned to all endpoints. Supported endpoint id prefixes: cilium-local: Local Cilium endpoint UUID, e.g. cilium-local:3389595 cilium-global: Global Cilium endpoint UUID, e.g. cilium-global:cluster1:nodeX:452343 container-id: Container runtime ID, e.g. container-id:22222 container-name: Container name, e.g. container-name:foobar pod-name: pod name for this container if K8s is enabled, e.g. pod-name:default:foobar docker-endpoint: Docker libnetwork endpoint ID, e.g. docker-endpoint:4444 Status Codes 200 OK – Success 404 Not Found – Endpoint not found 429 Too Many Requests – Rate-limiting too many requests in the given time frame Response JSON Object spec.user[] (string) – status.derived[] (string) – status.disabled[] (string) – status.realized.user[] (string) – status.security-relevant[] (string) – PATCH /endpoint/{id}/labels\\uf0c1 Set label configuration of endpoint Sets labels associated with an endpoint. These can be user provided or derived from the orchestration system. Parameters id (string) – String describing an endpoint with the format [prefix:]id. If no prefix is specified, a prefix of cilium-local: is assumed. Not all endpoints will be addressable by all endpoint ID prefixes with the exception of the local Cilium UUID which is assigned to all endpoints. Supported endpoint id prefixes: cilium-local: Local Cilium endpoint UUID, e.g. cilium-local:3389595 cilium-global: Global Cilium endpoint UUID, e.g. cilium-global:cluster1:nodeX:452343 container-id: Container runtime ID, e.g. container-id:22222 container-name: Container name, e.g. container-name:foobar pod-name: pod name for this container if K8s is enabled, e.g. pod-name:default:foobar docker-endpoint: Docker libnetwork endpoint ID, e.g. docker-endpoint:4444 Request JSON Object user[] (string) – Status Codes 200 OK – Success 404 Not Found – Endpoint not found 429 Too Many Requests – Rate-limiting too many requests in the given time frame 500 Internal Server Error – Error while updating labels GET /endpoint/{id}/log\\uf0c1 Retrieves the status logs associated with this endpoint. Parameters id (string) – String describing an endpoint with the format [prefix:]id. If no prefix is specified, a prefix of cilium-local: is assumed. Not all endpoints will be addressable by all endpoint ID prefixes with the exception of the local Cilium UUID which is assigned to all endpoints. Supported endpoint id prefixes: cilium-local: Local Cilium endpoint UUID, e.g. cilium-local:3389595 cilium-global: Global Cilium endpoint UUID, e.g. cilium-global:cluster1:nodeX:452343 container-id: Container runtime ID, e.g. container-id:22222 container-name: Container name, e.g. container-name:foobar pod-name: pod name for this container if K8s is enabled, e.g. pod-name:default:foobar docker-endpoint: Docker libnetwork endpoint ID, e.g. docker-endpoint:4444 Status Codes 200 OK – Success 400 Bad Request – Invalid identity provided 404 Not Found – Endpoint not found 429 Too Many Requests – Rate-limiting too many requests in the given time frame Response JSON Object [].code (string) – Code indicate type of status change [].message (string) – Status message [].state (string) – State of endpoint [].timestamp (string) – Timestamp when status change occurred GET /endpoint/{id}/healthz\\uf0c1 Retrieves the status logs associated with this endpoint. Parameters id (string) – String describing an endpoint with the format [prefix:]id. If no prefix is specified, a prefix of cilium-local: is assumed. Not all endpoints will be addressable by all endpoint ID prefixes with the exception of the local Cilium UUID which is assigned to all endpoints. Supported endpoint id prefixes: cilium-local: Local Cilium endpoint UUID, e.g. cilium-local:3389595 cilium-global: Global Cilium endpoint UUID, e.g. cilium-global:cluster1:nodeX:452343 container-id: Container runtime ID, e.g. container-id:22222 container-name: Container name, e.g. container-name:foobar pod-name: pod name for this container if K8s is enabled, e.g. pod-name:default:foobar docker-endpoint: Docker libnetwork endpoint ID, e.g. docker-endpoint:4444 Status Codes 200 OK – Success 400 Bad Request – Invalid identity provided 404 Not Found – Endpoint not found 429 Too Many Requests – Rate-limiting too many requests in the given time frame Response JSON Object bpf (string) – A common set of statuses for endpoint health * OK = All components operational * Bootstrap = This component is being created * Pending = A change is being processed to be applied * Warning = This component is not applying up-to-date policies (but is still applying the previous version) * Failure = An error has occurred and no policy is being applied * Disabled = This endpoint is disabled and will not handle traffic connected (boolean) – Is this endpoint reachable overallHealth (string) – A common set of statuses for endpoint health * OK = All components operational * Bootstrap = This component is being created * Pending = A change is being processed to be applied * Warning = This component is not applying up-to-date policies (but is still applying the previous version) * Failure = An error has occurred and no policy is being applied * Disabled = This endpoint is disabled and will not handle traffic policy (string) – A common set of statuses for endpoint health * OK = All components operational * Bootstrap = This component is being created * Pending = A change is being processed to be applied * Warning = This component is not applying up-to-date policies (but is still applying the previous version) * Failure = An error has occurred and no policy is being applied * Disabled = This endpoint is disabled and will not handle traffic GET /identity\\uf0c1 Retrieves a list of identities that have metadata matching the provided parameters. Retrieves a list of identities that have metadata matching the provided parameters, or all identities if no parameters are provided. Request JSON Object [] (string) – Status Codes 200 OK – Success 404 Not Found – Identities with provided parameters not found 520 – Identity storage unreachable. Likely a network problem. 521 – Invalid identity format in storage Response JSON Object [].id (integer) – Unique identifier [].labelsSHA256 (string) – SHA256 of labels [].labels[] (string) – GET /identity/{id}\\uf0c1 Retrieve identity Parameters id (string) – Cluster wide unique identifier of a security identity. Status Codes 200 OK – Success 400 Bad Request – Invalid identity provided 404 Not Found – Identity not found 520 – Identity storage unreachable. Likely a network problem. 521 – Invalid identity format in storage Response JSON Object id (integer) – Unique identifier labelsSHA256 (string) – SHA256 of labels labels[] (string) – GET /identity/endpoints\\uf0c1 Retrieve identities which are being used by local endpoints Status Codes 200 OK – Success 404 Not Found – Set of identities which are being used by local endpoints could not be found. Response JSON Object [].identity.id (integer) – Unique identifier [].identity.labelsSHA256 (string) – SHA256 of labels [].identity.labels[] (string) – [].refCount (integer) – number of endpoints consuming this identity locally (should always be > 0) POST /ipam\\uf0c1 Allocate an IP address Query Parameters family (string) – owner (string) – Status Codes 201 Created – Success 502 Bad Gateway – Allocation failure Request Headers expiration – Response JSON Object address.ipv4 (string) – IPv4 address address.ipv4-expiration-uuid (string) – UUID of IPv4 expiration timer address.ipv6 (string) – IPv6 address address.ipv6-expiration-uuid (string) – UUID of IPv6 expiration timer host-addressing.ipv4.address-type (string) – Node address type, one of HostName, ExternalIP or InternalIP host-addressing.ipv4.alloc-range (string) – Address pool to be used for local endpoints host-addressing.ipv4.enabled (boolean) – True if address family is enabled host-addressing.ipv4.ip (string) – IP address of node host-addressing.ipv6.address-type (string) – Node address type, one of HostName, ExternalIP or InternalIP host-addressing.ipv6.alloc-range (string) – Address pool to be used for local endpoints host-addressing.ipv6.enabled (boolean) – True if address family is enabled host-addressing.ipv6.ip (string) – IP address of node ipv4.cidrs[] (string) – ipv4.expiration-uuid (string) – The UUID for the expiration timer. Set when expiration has been enabled while allocating. ipv4.gateway (string) – IP of gateway ipv4.interface-number (string) – InterfaceNumber is a field for generically identifying an interface. This is only useful in ENI mode. ipv4.ip (string) – Allocated IP for endpoint ipv4.master-mac (string) – MAC of master interface if address is a slave/secondary of a master interface ipv6.cidrs[] (string) – ipv6.expiration-uuid (string) – The UUID for the expiration timer. Set when expiration has been enabled while allocating. ipv6.gateway (string) – IP of gateway ipv6.interface-number (string) – InterfaceNumber is a field for generically identifying an interface. This is only useful in ENI mode. ipv6.ip (string) – Allocated IP for endpoint ipv6.master-mac (string) – MAC of master interface if address is a slave/secondary of a master interface POST /ipam/{ip}\\uf0c1 Allocate an IP address Parameters ip (string) – IP address Query Parameters owner (string) – Status Codes 200 OK – Success 400 Bad Request – Invalid IP address 409 Conflict – IP already allocated 500 Internal Server Error – IP allocation failure. Details in message. 501 Not Implemented – Allocation for address family disabled DELETE /ipam/{ip}\\uf0c1 Release an allocated IP address Parameters ip (string) – IP address or owner name Status Codes 200 OK – Success 400 Bad Request – Invalid IP address 404 Not Found – IP address not found 500 Internal Server Error – Address release failure 501 Not Implemented – Allocation for address family disabled GET /policy\\uf0c1 Retrieve entire policy tree Returns the entire policy tree with all children. Request JSON Object [] (string) – Status Codes 200 OK – Success 404 Not Found – No policy rules found Response JSON Object policy (string) – Policy definition as JSON. revision (integer) – Revision number of the policy. Incremented each time the policy is changed in the agent’s repository PUT /policy\\uf0c1 Create or update a policy (sub)tree Status Codes 200 OK – Success 400 Bad Request – Invalid policy 460 – Invalid path 500 Internal Server Error – Policy import failed Response JSON Object policy (string) – Policy definition as JSON. revision (integer) – Revision number of the policy. Incremented each time the policy is changed in the agent’s repository DELETE /policy\\uf0c1 Delete a policy (sub)tree Request JSON Object [] (string) – Status Codes 200 OK – Success 400 Bad Request – Invalid request 404 Not Found – Policy not found 500 Internal Server Error – Error while deleting policy Response JSON Object policy (string) – Policy definition as JSON. revision (integer) – Revision number of the policy. Incremented each time the policy is changed in the agent’s repository GET /policy/resolve\\uf0c1 Resolve policy for an identity context Request JSON Object from.labels[] (string) – to.dports[].name (string) – Optional layer 4 port name to.dports[].port (integer) – Layer 4 port number to.dports[].protocol (string) – Layer 4 protocol to.labels[] (string) – verbose (boolean) – Enable verbose tracing. Status Codes 200 OK – Success Response JSON Object log (string) – verdict (string) – GET /policy/selectors\\uf0c1 See what selectors match which identities Status Codes 200 OK – Success Response JSON Object [].identities[] (integer) – [].selector (string) – string form of selector [].users (integer) – number of users of this selector in the cache GET /lrp\\uf0c1 Retrieve list of all local redirect policies Status Codes 200 OK – Success Response JSON Object [].frontend-mappings[].backends[].backend-address.ip (string) – Layer 3 address (required) [].frontend-mappings[].backends[].backend-address.nodeName (string) – Optional name of the node on which this backend runs [].frontend-mappings[].backends[].backend-address.port (integer) – Layer 4 port number [].frontend-mappings[].backends[].backend-address.preferred (boolean) – Indicator if this backend is preferred in the context of clustermesh service affinity. The value is set based on related annotation of global service. Applicable for active state only. [].frontend-mappings[].backends[].backend-address.state (string) – State of the backend for load-balancing service traffic [].frontend-mappings[].backends[].backend-address.weight (integer) – Backend weight [].frontend-mappings[].backends[].pod-id (string) – Namespace and name of the backend pod [].frontend-mappings[].frontend-address.ip (string) – Layer 3 address [].frontend-mappings[].frontend-address.port (integer) – Layer 4 port number [].frontend-mappings[].frontend-address.protocol (string) – Layer 4 protocol [].frontend-mappings[].frontend-address.scope (string) – Load balancing scope for frontend address [].frontend-type (string) – LRP frontend type [].lrp-type (string) – LRP config type [].name (string) – LRP service name [].namespace (string) – LRP service namespace [].service-id (string) – matching k8s service namespace and name [].uid (string) – Unique identification GET /service\\uf0c1 Retrieve list of all services Status Codes 200 OK – Success Response JSON Object [].spec.backend-addresses[].ip (string) – Layer 3 address (required) [].spec.backend-addresses[].nodeName (string) – Optional name of the node on which this backend runs [].spec.backend-addresses[].port (integer) – Layer 4 port number [].spec.backend-addresses[].preferred (boolean) – Indicator if this backend is preferred in the context of clustermesh service affinity. The value is set based on related annotation of global service. Applicable for active state only. [].spec.backend-addresses[].state (string) – State of the backend for load-balancing service traffic [].spec.backend-addresses[].weight (integer) – Backend weight [].spec.flags.extTrafficPolicy (string) – Service external traffic policy [].spec.flags.healthCheckNodePort (integer) – Service health check node port [].spec.flags.intTrafficPolicy (string) – Service internal traffic policy [].spec.flags.name (string) – Service name (e.g. Kubernetes service name) [].spec.flags.namespace (string) – Service namespace (e.g. Kubernetes namespace) [].spec.flags.natPolicy (string) – Service protocol NAT policy [].spec.flags.trafficPolicy (string) – Service external traffic policy (deprecated in favor of extTrafficPolicy) [].spec.flags.type (string) – Service type [].spec.frontend-address.ip (string) – Layer 3 address [].spec.frontend-address.port (integer) – Layer 4 port number [].spec.frontend-address.protocol (string) – Layer 4 protocol [].spec.frontend-address.scope (string) – Load balancing scope for frontend address [].spec.id (integer) – Unique identification [].spec.updateServices (boolean) – Update all services selecting the backends with their given states (id and frontend are ignored) [].status.realized.backend-addresses[].ip (string) – Layer 3 address (required) [].status.realized.backend-addresses[].nodeName (string) – Optional name of the node on which this backend runs [].status.realized.backend-addresses[].port (integer) – Layer 4 port number [].status.realized.backend-addresses[].preferred (boolean) – Indicator if this backend is preferred in the context of clustermesh service affinity. The value is set based on related annotation of global service. Applicable for active state only. [].status.realized.backend-addresses[].state (string) – State of the backend for load-balancing service traffic [].status.realized.backend-addresses[].weight (integer) – Backend weight [].status.realized.flags.extTrafficPolicy (string) – Service external traffic policy [].status.realized.flags.healthCheckNodePort (integer) – Service health check node port [].status.realized.flags.intTrafficPolicy (string) – Service internal traffic policy [].status.realized.flags.name (string) – Service name (e.g. Kubernetes service name) [].status.realized.flags.namespace (string) – Service namespace (e.g. Kubernetes namespace) [].status.realized.flags.natPolicy (string) – Service protocol NAT policy [].status.realized.flags.trafficPolicy (string) – Service external traffic policy (deprecated in favor of extTrafficPolicy) [].status.realized.flags.type (string) – Service type [].status.realized.frontend-address.ip (string) – Layer 3 address [].status.realized.frontend-address.port (integer) – Layer 4 port number [].status.realized.frontend-address.protocol (string) – Layer 4 protocol [].status.realized.frontend-address.scope (string) – Load balancing scope for frontend address [].status.realized.id (integer) – Unique identification [].status.realized.updateServices (boolean) – Update all services selecting the backends with their given states (id and frontend are ignored) GET /service/{id}\\uf0c1 Retrieve configuration of a service Parameters id (integer) – ID of service Status Codes 200 OK – Success 404 Not Found – Service not found Response JSON Object spec.backend-addresses[].ip (string) – Layer 3 address (required) spec.backend-addresses[].nodeName (string) – Optional name of the node on which this backend runs spec.backend-addresses[].port (integer) – Layer 4 port number spec.backend-addresses[].preferred (boolean) – Indicator if this backend is preferred in the context of clustermesh service affinity. The value is set based on related annotation of global service. Applicable for active state only. spec.backend-addresses[].state (string) – State of the backend for load-balancing service traffic spec.backend-addresses[].weight (integer) – Backend weight spec.flags.extTrafficPolicy (string) – Service external traffic policy spec.flags.healthCheckNodePort (integer) – Service health check node port spec.flags.intTrafficPolicy (string) – Service internal traffic policy spec.flags.name (string) – Service name (e.g. Kubernetes service name) spec.flags.namespace (string) – Service namespace (e.g. Kubernetes namespace) spec.flags.natPolicy (string) – Service protocol NAT policy spec.flags.trafficPolicy (string) – Service external traffic policy (deprecated in favor of extTrafficPolicy) spec.flags.type (string) – Service type spec.frontend-address.ip (string) – Layer 3 address spec.frontend-address.port (integer) – Layer 4 port number spec.frontend-address.protocol (string) – Layer 4 protocol spec.frontend-address.scope (string) – Load balancing scope for frontend address spec.id (integer) – Unique identification spec.updateServices (boolean) – Update all services selecting the backends with their given states (id and frontend are ignored) status.realized.backend-addresses[].ip (string) – Layer 3 address (required) status.realized.backend-addresses[].nodeName (string) – Optional name of the node on which this backend runs status.realized.backend-addresses[].port (integer) – Layer 4 port number status.realized.backend-addresses[].preferred (boolean) – Indicator if this backend is preferred in the context of clustermesh service affinity. The value is set based on related annotation of global service. Applicable for active state only. status.realized.backend-addresses[].state (string) – State of the backend for load-balancing service traffic status.realized.backend-addresses[].weight (integer) – Backend weight status.realized.flags.extTrafficPolicy (string) – Service external traffic policy status.realized.flags.healthCheckNodePort (integer) – Service health check node port status.realized.flags.intTrafficPolicy (string) – Service internal traffic policy status.realized.flags.name (string) – Service name (e.g. Kubernetes service name) status.realized.flags.namespace (string) – Service namespace (e.g. Kubernetes namespace) status.realized.flags.natPolicy (string) – Service protocol NAT policy status.realized.flags.trafficPolicy (string) – Service external traffic policy (deprecated in favor of extTrafficPolicy) status.realized.flags.type (string) – Service type status.realized.frontend-address.ip (string) – Layer 3 address status.realized.frontend-address.port (integer) – Layer 4 port number status.realized.frontend-address.protocol (string) – Layer 4 protocol status.realized.frontend-address.scope (string) – Load balancing scope for frontend address status.realized.id (integer) – Unique identification status.realized.updateServices (boolean) – Update all services selecting the backends with their given states (id and frontend are ignored) PUT /service/{id}\\uf0c1 Create or update service Parameters id (integer) – ID of service Request JSON Object backend-addresses[].ip (string) – Layer 3 address (required) backend-addresses[].nodeName (string) – Optional name of the node on which this backend runs backend-addresses[].port (integer) – Layer 4 port number backend-addresses[].preferred (boolean) – Indicator if this backend is preferred in the context of clustermesh service affinity. The value is set based on related annotation of global service. Applicable for active state only. backend-addresses[].state (string) – State of the backend for load-balancing service traffic backend-addresses[].weight (integer) – Backend weight flags.extTrafficPolicy (string) – Service external traffic policy flags.healthCheckNodePort (integer) – Service health check node port flags.intTrafficPolicy (string) – Service internal traffic policy flags.name (string) – Service name (e.g. Kubernetes service name) flags.namespace (string) – Service namespace (e.g. Kubernetes namespace) flags.natPolicy (string) – Service protocol NAT policy flags.trafficPolicy (string) – Service external traffic policy (deprecated in favor of extTrafficPolicy) flags.type (string) – Service type frontend-address.ip (string) – Layer 3 address frontend-address.port (integer) – Layer 4 port number frontend-address.protocol (string) – Layer 4 protocol frontend-address.scope (string) – Load balancing scope for frontend address id (integer) – Unique identification updateServices (boolean) – Update all services selecting the backends with their given states (id and frontend are ignored) Status Codes 200 OK – Updated 201 Created – Created 460 – Invalid frontend in service configuration 461 – Invalid backend in service configuration 500 Internal Server Error – Error while creating service 501 Not Implemented – Error while updating backend states DELETE /service/{id}\\uf0c1 Delete a service Parameters id (integer) – ID of service Status Codes 200 OK – Success 404 Not Found – Service not found 500 Internal Server Error – Service deletion failed GET /recorder\\uf0c1 Retrieve list of all recorders Status Codes 200 OK – Success Response JSON Object [].spec.capture-length (integer) – Maximum packet length or zero for full packet length [].spec.filters[].dst-port (string) – Layer 4 destination port, zero (or in future range) [].spec.filters[].dst-prefix (string) – Layer 3 destination CIDR [].spec.filters[].protocol (string) – Layer 4 protocol [].spec.filters[].src-port (string) – Layer 4 source port, zero (or in future range) [].spec.filters[].src-prefix (string) – Layer 3 source CIDR [].spec.id (integer) – Unique identification (required) [].status.realized.capture-length (integer) – Maximum packet length or zero for full packet length [].status.realized.filters[].dst-port (string) – Layer 4 destination port, zero (or in future range) [].status.realized.filters[].dst-prefix (string) – Layer 3 destination CIDR [].status.realized.filters[].protocol (string) – Layer 4 protocol [].status.realized.filters[].src-port (string) – Layer 4 source port, zero (or in future range) [].status.realized.filters[].src-prefix (string) – Layer 3 source CIDR [].status.realized.id (integer) – Unique identification (required) GET /recorder/masks\\uf0c1 Retrieve list of all recorder masks Status Codes 200 OK – Success Response JSON Object [].status.realized.dst-port-mask (string) – Layer 4 destination port mask [].status.realized.dst-prefix-mask (string) – Layer 3 destination IP mask [].status.realized.priority (integer) – Priority of this mask [].status.realized.protocol-mask (string) – Layer 4 protocol mask [].status.realized.src-port-mask (string) – Layer 4 source port mask [].status.realized.src-prefix-mask (string) – Layer 3 source IP mask [].status.realized.users (integer) – Number of users of this mask GET /recorder/{id}\\uf0c1 Retrieve configuration of a recorder Parameters id (integer) – ID of recorder Status Codes 200 OK – Success 404 Not Found – Recorder not found Response JSON Object spec.capture-length (integer) – Maximum packet length or zero for full packet length spec.filters[].dst-port (string) – Layer 4 destination port, zero (or in future range) spec.filters[].dst-prefix (string) – Layer 3 destination CIDR spec.filters[].protocol (string) – Layer 4 protocol spec.filters[].src-port (string) – Layer 4 source port, zero (or in future range) spec.filters[].src-prefix (string) – Layer 3 source CIDR spec.id (integer) – Unique identification (required) status.realized.capture-length (integer) – Maximum packet length or zero for full packet length status.realized.filters[].dst-port (string) – Layer 4 destination port, zero (or in future range) status.realized.filters[].dst-prefix (string) – Layer 3 destination CIDR status.realized.filters[].protocol (string) – Layer 4 protocol status.realized.filters[].src-port (string) – Layer 4 source port, zero (or in future range) status.realized.filters[].src-prefix (string) – Layer 3 source CIDR status.realized.id (integer) – Unique identification (required) PUT /recorder/{id}\\uf0c1 Create or update recorder Parameters id (integer) – ID of recorder Request JSON Object capture-length (integer) – Maximum packet length or zero for full packet length filters[].dst-port (string) – Layer 4 destination port, zero (or in future range) filters[].dst-prefix (string) – Layer 3 destination CIDR filters[].protocol (string) – Layer 4 protocol filters[].src-port (string) – Layer 4 source port, zero (or in future range) filters[].src-prefix (string) – Layer 3 source CIDR id (integer) – Unique identification (required) Status Codes 200 OK – Updated 201 Created – Created 500 Internal Server Error – Error while creating recorder DELETE /recorder/{id}\\uf0c1 Delete a recorder Parameters id (integer) – ID of recorder Status Codes 200 OK – Success 404 Not Found – Recorder not found 500 Internal Server Error – Recorder deletion failed GET /prefilter\\uf0c1 Retrieve list of CIDRs Status Codes 200 OK – Success 500 Internal Server Error – Prefilter get failed Response JSON Object spec.deny[] (string) – spec.revision (integer) – status.realized.deny[] (string) – status.realized.revision (integer) – PATCH /prefilter\\uf0c1 Update list of CIDRs Request JSON Object deny[] (string) – revision (integer) – Status Codes 200 OK – Updated 461 – Invalid CIDR prefix 500 Internal Server Error – Prefilter update failed Response JSON Object spec.deny[] (string) – spec.revision (integer) – status.realized.deny[] (string) – status.realized.revision (integer) – DELETE /prefilter\\uf0c1 Delete list of CIDRs Request JSON Object deny[] (string) – revision (integer) – Status Codes 200 OK – Deleted 461 – Invalid CIDR prefix 500 Internal Server Error – Prefilter delete failed Response JSON Object spec.deny[] (string) – spec.revision (integer) – status.realized.deny[] (string) – status.realized.revision (integer) – GET /debuginfo\\uf0c1 Retrieve information about the agent and evironment for debugging Status Codes 200 OK – Success 500 Internal Server Error – DebugInfo get failed Response JSON Object cilium-memory-map (string) – cilium-nodemonitor-memory-map (string) – cilium-status.bandwidth-manager.congestionControl (string) – cilium-status.bandwidth-manager.devices[] (string) – cilium-status.bandwidth-manager.enabled (boolean) – Is bandwidth manager enabled cilium-status.bpf-maps.dynamic-size-ratio (number) – Ratio of total system memory to use for dynamic sizing of BPF maps cilium-status.bpf-maps.maps[].name (string) – Name of the BPF map cilium-status.bpf-maps.maps[].size (integer) – Size of the BPF map cilium-status.cilium.msg (string) – Human readable status/error/warning message cilium-status.cilium.state (string) – State the component is in cilium-status.client-id (integer) – When supported by the API, this client ID should be used by the client when making another request to the server. See for example “/cluster/nodes”. cilium-status.clock-source.hertz (integer) – Kernel Hz cilium-status.clock-source.mode (string) – Datapath clock source cilium-status.cluster (any) – Status of cluster +k8s:deepcopy-gen=true cilium-status.cluster-mesh (any) – Status of ClusterMesh +k8s:deepcopy-gen=true cilium-status.cni-chaining (any) – Status of CNI chaining +k8s:deepcopy-gen=true cilium-status.cni-file.msg (string) – Human readable status/error/warning message cilium-status.cni-file.state (string) – State the component is in cilium-status.container-runtime.msg (string) – Human readable status/error/warning message cilium-status.container-runtime.state (string) – State the component is in cilium-status.controllers[].configuration.error-retry (boolean) – Retry on error cilium-status.controllers[].configuration.error-retry-base (string) – Base error retry back-off time cilium-status.controllers[].configuration.interval (string) – Regular synchronization interval cilium-status.controllers[].name (string) – Name of controller cilium-status.controllers[].status.consecutive-failure-count (integer) – Number of consecutive errors since last success cilium-status.controllers[].status.failure-count (integer) – Total number of failed runs cilium-status.controllers[].status.last-failure-msg (string) – Error message of last failed run cilium-status.controllers[].status.last-failure-timestamp (string) – Timestamp of last error cilium-status.controllers[].status.last-success-timestamp (string) – Timestamp of last success cilium-status.controllers[].status.success-count (integer) – Total number of successful runs cilium-status.controllers[].uuid (string) – UUID of controller cilium-status.encryption (any) – Status of transparent encryption +k8s:deepcopy-gen=true cilium-status.host-firewall.devices[] (string) – cilium-status.host-firewall.mode (string) – cilium-status.host-routing.mode (string) – Datapath routing mode cilium-status.hubble.metrics.state (string) – State of the Hubble metrics cilium-status.hubble.msg (string) – Human readable status/error/warning message cilium-status.hubble.observer.current-flows (integer) – Current number of flows this Hubble observer stores cilium-status.hubble.observer.max-flows (integer) – Maximum number of flows this Hubble observer is able to store cilium-status.hubble.observer.seen-flows (integer) – Total number of flows this Hubble observer has seen cilium-status.hubble.observer.uptime (string) – Uptime of this Hubble observer instance cilium-status.hubble.state (string) – State the component is in cilium-status.identity-range (any) – Status of identity range of the cluster +k8s:deepcopy-gen=true cilium-status.ipam (any) – Status of IP address management +k8s:deepcopy-gen=true cilium-status.ipv6-big-tcp.enabled (boolean) – Is IPv6 BIG TCP enabled cilium-status.kube-proxy-replacement.deviceList[].ip[] (string) – cilium-status.kube-proxy-replacement.deviceList[].name (string) – cilium-status.kube-proxy-replacement.devices[] (string) – cilium-status.kube-proxy-replacement.directRoutingDevice (string) – cilium-status.kube-proxy-replacement.features.bpfSocketLBHostnsOnly (boolean) – flag bpf-lb-sock-hostns-only cilium-status.kube-proxy-replacement.features.externalIPs.enabled (boolean) – cilium-status.kube-proxy-replacement.features.gracefulTermination.enabled (boolean) – cilium-status.kube-proxy-replacement.features.hostPort.enabled (boolean) – cilium-status.kube-proxy-replacement.features.hostReachableServices.enabled (boolean) – cilium-status.kube-proxy-replacement.features.hostReachableServices.protocols[] (string) – cilium-status.kube-proxy-replacement.features.nat46X64.enabled (boolean) – cilium-status.kube-proxy-replacement.features.nat46X64.gateway.enabled (boolean) – cilium-status.kube-proxy-replacement.features.nat46X64.gateway.prefixes[] (string) – cilium-status.kube-proxy-replacement.features.nat46X64.service.enabled (boolean) – cilium-status.kube-proxy-replacement.features.nodePort.acceleration (string) – cilium-status.kube-proxy-replacement.features.nodePort.algorithm (string) – cilium-status.kube-proxy-replacement.features.nodePort.enabled (boolean) – cilium-status.kube-proxy-replacement.features.nodePort.lutSize (integer) – cilium-status.kube-proxy-replacement.features.nodePort.mode (string) – cilium-status.kube-proxy-replacement.features.nodePort.portMax (integer) – cilium-status.kube-proxy-replacement.features.nodePort.portMin (integer) – cilium-status.kube-proxy-replacement.features.sessionAffinity.enabled (boolean) – cilium-status.kube-proxy-replacement.features.socketLB.enabled (boolean) – cilium-status.kube-proxy-replacement.features.socketLBTracing.enabled (boolean) – cilium-status.kube-proxy-replacement.mode (string) – cilium-status.kubernetes.k8s-api-versions[] (string) – cilium-status.kubernetes.msg (string) – Human readable status/error/warning message cilium-status.kubernetes.state (string) – State the component is in cilium-status.kvstore.msg (string) – Human readable status/error/warning message cilium-status.kvstore.state (string) – State the component is in cilium-status.masquerading.enabled (boolean) – cilium-status.masquerading.enabledProtocols.ipv4 (boolean) – Is masquerading enabled for IPv4 traffic cilium-status.masquerading.enabledProtocols.ipv6 (boolean) – Is masquerading enabled for IPv6 traffic cilium-status.masquerading.ip-masq-agent (boolean) – Is BPF ip-masq-agent enabled cilium-status.masquerading.mode (string) – cilium-status.masquerading.snat-exclusion-cidr (string) – This field is obsolete, please use snat-exclusion-cidr-v4 or snat-exclusion-cidr-v6. cilium-status.masquerading.snat-exclusion-cidr-v4 (string) – SnatExclusionCIDRv4 exempts SNAT from being performed on any packet sent to an IPv4 address that belongs to this CIDR. cilium-status.masquerading.snat-exclusion-cidr-v6 (string) – SnatExclusionCIDRv6 exempts SNAT from being performed on any packet sent to an IPv6 address that belongs to this CIDR. For IPv6 we only do masquerading in iptables mode. cilium-status.nodeMonitor (any) – Status of the node monitor cilium-status.proxy.ip (string) – IP address that the proxy listens on cilium-status.proxy.port-range (string) – Port range used for proxying cilium-status.proxy.redirects[].name (string) – Name of the proxy redirect cilium-status.proxy.redirects[].proxy (string) – Name of the proxy this redirect points to cilium-status.proxy.redirects[].proxy-port (integer) – Host port that this redirect points to cilium-status.proxy.total-ports (integer) – Total number of listening proxy ports cilium-status.proxy.total-redirects (integer) – Total number of ports configured to redirect to proxies cilium-status.stale (object) – List of stale information in the status cilium-version (string) – encryption.wireguard (any) – Status of the Wireguard agent +k8s:deepcopy-gen=true endpoint-list[].id (integer) – The cilium-agent-local ID of the endpoint endpoint-list[].spec.label-configuration.user[] (string) – endpoint-list[].spec.options (object) – Map of configuration key/value pairs. endpoint-list[].status.controllers[].configuration.error-retry (boolean) – Retry on error endpoint-list[].status.controllers[].configuration.error-retry-base (string) – Base error retry back-off time endpoint-list[].status.controllers[].configuration.interval (string) – Regular synchronization interval endpoint-list[].status.controllers[].name (string) – Name of controller endpoint-list[].status.controllers[].status.consecutive-failure-count (integer) – Number of consecutive errors since last success endpoint-list[].status.controllers[].status.failure-count (integer) – Total number of failed runs endpoint-list[].status.controllers[].status.last-failure-msg (string) – Error message of last failed run endpoint-list[].status.controllers[].status.last-failure-timestamp (string) – Timestamp of last error endpoint-list[].status.controllers[].status.last-success-timestamp (string) – Timestamp of last success endpoint-list[].status.controllers[].status.success-count (integer) – Total number of successful runs endpoint-list[].status.controllers[].uuid (string) – UUID of controller endpoint-list[].status.external-identifiers.container-id (string) – ID assigned by container runtime endpoint-list[].status.external-identifiers.container-name (string) – Name assigned to container endpoint-list[].status.external-identifiers.docker-endpoint-id (string) – Docker endpoint ID endpoint-list[].status.external-identifiers.docker-network-id (string) – Docker network ID endpoint-list[].status.external-identifiers.k8s-namespace (string) – K8s namespace for this endpoint endpoint-list[].status.external-identifiers.k8s-pod-name (string) – K8s pod name for this endpoint endpoint-list[].status.external-identifiers.pod-name (string) – K8s pod for this endpoint(Deprecated, use K8sPodName and K8sNamespace instead) endpoint-list[].status.health.bpf (string) – A common set of statuses for endpoint health * OK = All components operational * Bootstrap = This component is being created * Pending = A change is being processed to be applied * Warning = This component is not applying up-to-date policies (but is still applying the previous version) * Failure = An error has occurred and no policy is being applied * Disabled = This endpoint is disabled and will not handle traffic endpoint-list[].status.health.connected (boolean) – Is this endpoint reachable endpoint-list[].status.health.overallHealth (string) – A common set of statuses for endpoint health * OK = All components operational * Bootstrap = This component is being created * Pending = A change is being processed to be applied * Warning = This component is not applying up-to-date policies (but is still applying the previous version) * Failure = An error has occurred and no policy is being applied * Disabled = This endpoint is disabled and will not handle traffic endpoint-list[].status.health.policy (string) – A common set of statuses for endpoint health * OK = All components operational * Bootstrap = This component is being created * Pending = A change is being processed to be applied * Warning = This component is not applying up-to-date policies (but is still applying the previous version) * Failure = An error has occurred and no policy is being applied * Disabled = This endpoint is disabled and will not handle traffic endpoint-list[].status.identity.id (integer) – Unique identifier endpoint-list[].status.identity.labelsSHA256 (string) – SHA256 of labels endpoint-list[].status.identity.labels[] (string) – endpoint-list[].status.labels.derived[] (string) – endpoint-list[].status.labels.disabled[] (string) – endpoint-list[].status.labels.realized.user[] (string) – endpoint-list[].status.labels.security-relevant[] (string) – endpoint-list[].status.log[].code (string) – Code indicate type of status change endpoint-list[].status.log[].message (string) – Status message endpoint-list[].status.log[].state (string) – State of endpoint endpoint-list[].status.log[].timestamp (string) – Timestamp when status change occurred endpoint-list[].status.namedPorts[].name (string) – Optional layer 4 port name endpoint-list[].status.namedPorts[].port (integer) – Layer 4 port number endpoint-list[].status.namedPorts[].protocol (string) – Layer 4 protocol endpoint-list[].status.networking.addressing[].ipv4 (string) – IPv4 address endpoint-list[].status.networking.addressing[].ipv4-expiration-uuid (string) – UUID of IPv4 expiration timer endpoint-list[].status.networking.addressing[].ipv6 (string) – IPv6 address endpoint-list[].status.networking.addressing[].ipv6-expiration-uuid (string) – UUID of IPv6 expiration timer endpoint-list[].status.networking.host-addressing.ipv4.address-type (string) – Node address type, one of HostName, ExternalIP or InternalIP endpoint-list[].status.networking.host-addressing.ipv4.alloc-range (string) – Address pool to be used for local endpoints endpoint-list[].status.networking.host-addressing.ipv4.enabled (boolean) – True if address family is enabled endpoint-list[].status.networking.host-addressing.ipv4.ip (string) – IP address of node endpoint-list[].status.networking.host-addressing.ipv6.address-type (string) – Node address type, one of HostName, ExternalIP or InternalIP endpoint-list[].status.networking.host-addressing.ipv6.alloc-range (string) – Address pool to be used for local endpoints endpoint-list[].status.networking.host-addressing.ipv6.enabled (boolean) – True if address family is enabled endpoint-list[].status.networking.host-addressing.ipv6.ip (string) – IP address of node endpoint-list[].status.networking.host-mac (string) – MAC address endpoint-list[].status.networking.interface-index (integer) – Index of network device endpoint-list[].status.networking.interface-name (string) – Name of network device endpoint-list[].status.networking.mac (string) – MAC address endpoint-list[].status.policy.proxy-policy-revision (integer) – The policy revision currently enforced in the proxy for this endpoint endpoint-list[].status.policy.proxy-statistics[].allocated-proxy-port (integer) – The port the proxy is listening on endpoint-list[].status.policy.proxy-statistics[].location (string) – Location of where the redirect is installed endpoint-list[].status.policy.proxy-statistics[].port (integer) – The port subject to the redirect endpoint-list[].status.policy.proxy-statistics[].protocol (string) – Name of the L7 protocol endpoint-list[].status.policy.proxy-statistics[].statistics.requests.denied (integer) – Number of messages denied endpoint-list[].status.policy.proxy-statistics[].statistics.requests.error (integer) – Number of errors while parsing messages endpoint-list[].status.policy.proxy-statistics[].statistics.requests.forwarded (integer) – Number of messages forwarded endpoint-list[].status.policy.proxy-statistics[].statistics.requests.received (integer) – Number of messages received endpoint-list[].status.policy.proxy-statistics[].statistics.responses.denied (integer) – Number of messages denied endpoint-list[].status.policy.proxy-statistics[].statistics.responses.error (integer) – Number of errors while parsing messages endpoint-list[].status.policy.proxy-statistics[].statistics.responses.forwarded (integer) – Number of messages forwarded endpoint-list[].status.policy.proxy-statistics[].statistics.responses.received (integer) – Number of messages received endpoint-list[].status.policy.realized.allowed-egress-identities[] (integer) – endpoint-list[].status.policy.realized.allowed-ingress-identities[] (integer) – endpoint-list[].status.policy.realized.build (integer) – Build number of calculated policy in use endpoint-list[].status.policy.realized.cidr-policy.egress[] (any) – A policy rule including the rule labels it derives from +k8s:deepcopy-gen=true endpoint-list[].status.policy.realized.cidr-policy.ingress[] (any) – A policy rule including the rule labels it derives from +k8s:deepcopy-gen=true endpoint-list[].status.policy.realized.denied-egress-identities[] (integer) – endpoint-list[].status.policy.realized.denied-ingress-identities[] (integer) – endpoint-list[].status.policy.realized.id (integer) – Own identity of endpoint endpoint-list[].status.policy.realized.l4.egress[] (any) – A policy rule including the rule labels it derives from +k8s:deepcopy-gen=true endpoint-list[].status.policy.realized.l4.ingress[] (any) – A policy rule including the rule labels it derives from +k8s:deepcopy-gen=true endpoint-list[].status.policy.realized.policy-enabled (string) – Whether policy enforcement is enabled (ingress, egress, both or none) endpoint-list[].status.policy.realized.policy-revision (integer) – The agent-local policy revision endpoint-list[].status.policy.spec.allowed-egress-identities[] (integer) – endpoint-list[].status.policy.spec.allowed-ingress-identities[] (integer) – endpoint-list[].status.policy.spec.build (integer) – Build number of calculated policy in use endpoint-list[].status.policy.spec.cidr-policy.egress[] (any) – A policy rule including the rule labels it derives from +k8s:deepcopy-gen=true endpoint-list[].status.policy.spec.cidr-policy.ingress[] (any) – A policy rule including the rule labels it derives from +k8s:deepcopy-gen=true endpoint-list[].status.policy.spec.denied-egress-identities[] (integer) – endpoint-list[].status.policy.spec.denied-ingress-identities[] (integer) – endpoint-list[].status.policy.spec.id (integer) – Own identity of endpoint endpoint-list[].status.policy.spec.l4.egress[] (any) – A policy rule including the rule labels it derives from +k8s:deepcopy-gen=true endpoint-list[].status.policy.spec.l4.ingress[] (any) – A policy rule including the rule labels it derives from +k8s:deepcopy-gen=true endpoint-list[].status.policy.spec.policy-enabled (string) – Whether policy enforcement is enabled (ingress, egress, both or none) endpoint-list[].status.policy.spec.policy-revision (integer) – The agent-local policy revision endpoint-list[].status.realized.label-configuration.user[] (string) – endpoint-list[].status.realized.options (object) – Map of configuration key/value pairs. endpoint-list[].status.state (string) – State of endpoint (required) environment-variables[] (string) – kernel-version (string) – policy.policy (string) – Policy definition as JSON. policy.revision (integer) – Revision number of the policy. Incremented each time the policy is changed in the agent’s repository service-list[].spec.backend-addresses[].ip (string) – Layer 3 address (required) service-list[].spec.backend-addresses[].nodeName (string) – Optional name of the node on which this backend runs service-list[].spec.backend-addresses[].port (integer) – Layer 4 port number service-list[].spec.backend-addresses[].preferred (boolean) – Indicator if this backend is preferred in the context of clustermesh service affinity. The value is set based on related annotation of global service. Applicable for active state only. service-list[].spec.backend-addresses[].state (string) – State of the backend for load-balancing service traffic service-list[].spec.backend-addresses[].weight (integer) – Backend weight service-list[].spec.flags.extTrafficPolicy (string) – Service external traffic policy service-list[].spec.flags.healthCheckNodePort (integer) – Service health check node port service-list[].spec.flags.intTrafficPolicy (string) – Service internal traffic policy service-list[].spec.flags.name (string) – Service name (e.g. Kubernetes service name) service-list[].spec.flags.namespace (string) – Service namespace (e.g. Kubernetes namespace) service-list[].spec.flags.natPolicy (string) – Service protocol NAT policy service-list[].spec.flags.trafficPolicy (string) – Service external traffic policy (deprecated in favor of extTrafficPolicy) service-list[].spec.flags.type (string) – Service type service-list[].spec.frontend-address.ip (string) – Layer 3 address service-list[].spec.frontend-address.port (integer) – Layer 4 port number service-list[].spec.frontend-address.protocol (string) – Layer 4 protocol service-list[].spec.frontend-address.scope (string) – Load balancing scope for frontend address service-list[].spec.id (integer) – Unique identification service-list[].spec.updateServices (boolean) – Update all services selecting the backends with their given states (id and frontend are ignored) service-list[].status.realized.backend-addresses[].ip (string) – Layer 3 address (required) service-list[].status.realized.backend-addresses[].nodeName (string) – Optional name of the node on which this backend runs service-list[].status.realized.backend-addresses[].port (integer) – Layer 4 port number service-list[].status.realized.backend-addresses[].preferred (boolean) – Indicator if this backend is preferred in the context of clustermesh service affinity. The value is set based on related annotation of global service. Applicable for active state only. service-list[].status.realized.backend-addresses[].state (string) – State of the backend for load-balancing service traffic service-list[].status.realized.backend-addresses[].weight (integer) – Backend weight service-list[].status.realized.flags.extTrafficPolicy (string) – Service external traffic policy service-list[].status.realized.flags.healthCheckNodePort (integer) – Service health check node port service-list[].status.realized.flags.intTrafficPolicy (string) – Service internal traffic policy service-list[].status.realized.flags.name (string) – Service name (e.g. Kubernetes service name) service-list[].status.realized.flags.namespace (string) – Service namespace (e.g. Kubernetes namespace) service-list[].status.realized.flags.natPolicy (string) – Service protocol NAT policy service-list[].status.realized.flags.trafficPolicy (string) – Service external traffic policy (deprecated in favor of extTrafficPolicy) service-list[].status.realized.flags.type (string) – Service type service-list[].status.realized.frontend-address.ip (string) – Layer 3 address service-list[].status.realized.frontend-address.port (integer) – Layer 4 port number service-list[].status.realized.frontend-address.protocol (string) – Layer 4 protocol service-list[].status.realized.frontend-address.scope (string) – Load balancing scope for frontend address service-list[].status.realized.id (integer) – Unique identification service-list[].status.realized.updateServices (boolean) – Update all services selecting the backends with their given states (id and frontend are ignored) subsystem (object) – GET /cgroup-dump-metadata\\uf0c1 Retrieve cgroup metadata for all pods Status Codes 200 OK – Success 500 Internal Server Error – CgroupDumpMetadata get failed Response JSON Object pod-metadatas[].containers[].cgroup-id (integer) – pod-metadatas[].containers[].cgroup-path (string) – pod-metadatas[].ips[] (string) – pod-metadatas[].name (string) – pod-metadatas[].namespace (string) – GET /map\\uf0c1 List all open maps Status Codes 200 OK – Success Response JSON Object maps[].cache[].desired-action (string) – Desired action to be performed maps[].cache[].key (string) – Key of map entry maps[].cache[].last-error (string) – Last error seen while performing desired action maps[].cache[].value (string) – Value of map entry maps[].path (string) – Path to BPF map GET /map/{name}\\uf0c1 Retrieve contents of BPF map Parameters name (string) – Name of map Status Codes 200 OK – Success 404 Not Found – Map not found Response JSON Object cache[].desired-action (string) – Desired action to be performed cache[].key (string) – Key of map entry cache[].last-error (string) – Last error seen while performing desired action cache[].value (string) – Value of map entry path (string) – Path to BPF map GET /map/{name}/events\\uf0c1 Retrieves the recent event logs associated with this endpoint. Parameters name (string) – Name of map Query Parameters follow (boolean) – Whether to follow streamed requests Status Codes 200 OK – Success 404 Not Found – Map not found GET /metrics/\\uf0c1 Retrieve cilium metrics Status Codes 200 OK – Success 500 Internal Server Error – Metrics cannot be retrieved Response JSON Object [].labels (object) – Labels of the metric [].name (string) – Name of the metric [].value (number) – Value of the metric GET /fqdn/cache\\uf0c1 Retrieves the list of DNS lookups intercepted from all endpoints. Retrieves the list of DNS lookups intercepted from endpoints, optionally filtered by DNS name, CIDR IP range or source. Query Parameters matchpattern (string) – A toFQDNs compatible matchPattern expression cidr (string) – A CIDR range of IPs source (string) – Source from which FQDN entries come from Status Codes 200 OK – Success 400 Bad Request – Invalid request (error parsing parameters) 404 Not Found – No DNS data with provided parameters found Response JSON Object [].endpoint-id (integer) – The endpoint that made this lookup, or 0 for the agent itself. [].expiration-time (string) – The absolute time when this data will expire in this cache [].fqdn (string) – DNS name [].ips[] (string) – [].lookup-time (string) – The absolute time when this data was received [].source (string) – The reason this FQDN IP association exists. Either a DNS lookup or an ongoing connection to an IP that was created by a DNS lookup. [].ttl (integer) – The TTL in the DNS response DELETE /fqdn/cache\\uf0c1 Deletes matching DNS lookups from the policy-generation cache. Deletes matching DNS lookups from the cache, optionally restricted by DNS name. The removed IP data will no longer be used in generated policies. Query Parameters matchpattern (string) – A toFQDNs compatible matchPattern expression Status Codes 200 OK – Success 400 Bad Request – Invalid request (error parsing parameters) GET /fqdn/cache/{id}\\uf0c1 Retrieves the list of DNS lookups intercepted from an endpoint. Retrieves the list of DNS lookups intercepted from the specific endpoint, optionally filtered by endpoint id, DNS name, CIDR IP range or source. Parameters id (string) – String describing an endpoint with the format [prefix:]id. If no prefix is specified, a prefix of cilium-local: is assumed. Not all endpoints will be addressable by all endpoint ID prefixes with the exception of the local Cilium UUID which is assigned to all endpoints. Supported endpoint id prefixes: cilium-local: Local Cilium endpoint UUID, e.g. cilium-local:3389595 cilium-global: Global Cilium endpoint UUID, e.g. cilium-global:cluster1:nodeX:452343 container-id: Container runtime ID, e.g. container-id:22222 container-name: Container name, e.g. container-name:foobar pod-name: pod name for this container if K8s is enabled, e.g. pod-name:default:foobar docker-endpoint: Docker libnetwork endpoint ID, e.g. docker-endpoint:4444 Query Parameters matchpattern (string) – A toFQDNs compatible matchPattern expression cidr (string) – A CIDR range of IPs source (string) – Source from which FQDN entries come from Status Codes 200 OK – Success 400 Bad Request – Invalid request (error parsing parameters) 404 Not Found – No DNS data with provided parameters found Response JSON Object [].endpoint-id (integer) – The endpoint that made this lookup, or 0 for the agent itself. [].expiration-time (string) – The absolute time when this data will expire in this cache [].fqdn (string) – DNS name [].ips[] (string) – [].lookup-time (string) – The absolute time when this data was received [].source (string) – The reason this FQDN IP association exists. Either a DNS lookup or an ongoing connection to an IP that was created by a DNS lookup. [].ttl (integer) – The TTL in the DNS response GET /fqdn/names\\uf0c1 List internal DNS selector representations Retrieves the list of DNS-related fields (names to poll, selectors and their corresponding regexes). Status Codes 200 OK – Success 400 Bad Request – Invalid request (error parsing parameters) Response JSON Object DNSPollNames[] (string) – FQDNPolicySelectors[].regexString (string) – String representation of regular expression form of FQDNSelector FQDNPolicySelectors[].selectorString (string) – FQDNSelector in string representation GET /ip\\uf0c1 Lists information about known IP addresses Retrieves a list of IPs with known associated information such as their identities, host addresses, Kubernetes pod names, etc. The list can optionally filtered by a CIDR IP range. Query Parameters cidr (string) – A CIDR range of IPs Status Codes 200 OK – Success 400 Bad Request – Invalid request (error parsing parameters) 404 Not Found – No IP cache entries with provided parameters found Response JSON Object [].cidr (string) – Key of the entry in the form of a CIDR range (required) [].encryptKey (integer) – The context ID for the encryption session [].hostIP (string) – IP address of the host [].identity (integer) – Numerical identity assigned to the IP (required) [].metadata.name (string) – Name assigned to the IP (e.g. Kubernetes pod name) [].metadata.namespace (string) – Namespace of the IP (e.g. Kubernetes namespace) [].metadata.source (string) – Source of the IP entry and its metadata GET /node/ids\\uf0c1 List information about known node IDs Retrieves a list of node IDs allocated by the agent and their associated node IP addresses. Status Codes 200 OK – Success Response JSON Object [].id (integer) – ID allocated by the agent for the node (required) [].ips[] (string) – GET /bgp/peers\\uf0c1 Lists operational state of BGP peers Retrieves current operational state of BGP peers created by Cilium BGP virtual router. This includes session state, uptime, information per address family, etc. Status Codes 200 OK – Success Response JSON Object [] (any) – State of a BGP Peer +k8s:deepcopy-gen=true Previous Next © Copyright Cilium Authors. Revision 8f2445df. Built with Sphinx using a theme provided by Read the Docs.'}"
            ]
          },
          "execution_count": 38,
          "metadata": {},
          "output_type": "execute_result"
        }
      ],
      "source": [
        "data[5]"
      ]
    },
    {
      "attachments": {},
      "cell_type": "markdown",
      "metadata": {
        "id": "ouY4rcx7z2oa"
      },
      "source": [
        "Create a tokenizer that will be used to tokenize the text."
      ]
    },
    {
      "cell_type": "code",
      "execution_count": 39,
      "metadata": {
        "id": "Rb7KxUqYzsuV"
      },
      "outputs": [],
      "source": [
        "import tiktoken\n",
        "\n",
        "tokenizer = tiktoken.get_encoding('p50k_base')\n",
        "\n",
        "# create the length function\n",
        "def tiktoken_len(text):\n",
        "    tokens = tokenizer.encode(\n",
        "        text,\n",
        "        disallowed_special=()\n",
        "    )\n",
        "    return len(tokens)"
      ]
    },
    {
      "attachments": {},
      "cell_type": "markdown",
      "metadata": {},
      "source": [
        "Create a text spliter that splits the text into chunks of 500 "
      ]
    },
    {
      "cell_type": "code",
      "execution_count": 40,
      "metadata": {
        "id": "OKO8e3Dp0dQS"
      },
      "outputs": [
        {
          "name": "stdout",
          "output_type": "stream",
          "text": [
            "<langchain.text_splitter.RecursiveCharacterTextSplitter object at 0x169c11b10>\n"
          ]
        }
      ],
      "source": [
        "from langchain.text_splitter import RecursiveCharacterTextSplitter\n",
        "\n",
        "text_splitter = RecursiveCharacterTextSplitter(\n",
        "    chunk_size=500,\n",
        "    chunk_overlap=20,\n",
        "    length_function=tiktoken_len,\n",
        "    separators=[\"\\n\\n\", \"\\n\", \" \", \"\"]\n",
        ")\n",
        "\n",
        "print(text_splitter)"
      ]
    },
    {
      "attachments": {},
      "cell_type": "markdown",
      "metadata": {
        "id": "bLdvW8eq06Zd"
      },
      "source": [
        "Create chunks that inlcude a UUID, the text, a chunk number and the URL."
      ]
    },
    {
      "cell_type": "code",
      "execution_count": 41,
      "metadata": {
        "colab": {
          "base_uri": "https://localhost:8080/",
          "height": 49,
          "referenced_widgets": [
            "fe4aa5160ef74ecd820f9c6f7de035a0",
            "8f0edead487948358efe478a01316209",
            "bcd3e274345a44dc950890c1fa1026a7",
            "153f898146264d50b77b5ef23db92408",
            "30d7236e54844058b7c76404e1f2ccb8",
            "348fe1bd02ed4dca8df422031d1184f6",
            "157f79e1ecf0423393cb15dcd2e66996",
            "a43a7db5cab149b3a8aeef23d3fb936f",
            "865d0f1e70cc4889aaf91cf1ad82b909",
            "1bed5d4ebf054e80b4d63d6f8a2593d8",
            "04fd6e9cebaa4c9287d16cb8c861c8a3"
          ]
        },
        "id": "uOdPyiAQ0uWs",
        "outputId": "b1d00544-a432-4a41-a68e-59a0f9825070"
      },
      "outputs": [
        {
          "name": "stderr",
          "output_type": "stream",
          "text": [
            "100%|██████████| 1167/1167 [00:07<00:00, 153.47it/s]"
          ]
        },
        {
          "name": "stdout",
          "output_type": "stream",
          "text": [
            "{'id': '333f264c-f939-417b-bde8-78bea7d8a123', 'text': '» Welcome to Cilium’s documentation! Welcome to Cilium’s documentation!\\uf0c1 The documentation is divided into the following sections: Cilium Quick Installation: Provides a simple tutorial for running a small Cilium setup on your laptop. Intended as an easy way to get your hands dirty applying Cilium security policies between containers. Getting Started : Details instructions for installing, configuring, and troubleshooting Cilium in different deployment modes. Network Policy : Detailed walkthrough of the policy language structure and the supported formats. Monitoring & Metrics : Instructions for configuring metrics collection from Cilium. Troubleshooting : Describes how to troubleshoot Cilium in different deployment modes. BPF and XDP Reference Guide : Provides a technical deep dive of eBPF and XDP technology, primarily focused at developers. API Reference : Details the Cilium agent API for interacting with a local Cilium instance. Development : Gives background to those looking to develop and contribute modifications to the Cilium code or documentation. A hands-on tutorial in a live environment is also available for users looking for a way to quickly get started and experiment with Cilium. Overview Introduction to Cilium & Hubble What is Cilium? What is Hubble? Why', 'chunk': 0, 'url': 'https://docs.cilium.io/en/v1.13/'}\n"
          ]
        },
        {
          "name": "stderr",
          "output_type": "stream",
          "text": [
            "\n"
          ]
        }
      ],
      "source": [
        "from uuid import uuid4\n",
        "from tqdm.auto import tqdm\n",
        "\n",
        "chunks = []\n",
        "\n",
        "for idx, record in enumerate(tqdm(data)):\n",
        "    texts = text_splitter.split_text(record['text'])\n",
        "    chunks.extend([{\n",
        "        'id': str(uuid4()),\n",
        "        'text': texts[i],\n",
        "        'chunk': i,\n",
        "        'url': record['url']\n",
        "    } for i in range(len(texts))])\n",
        "\n",
        "print(chunks[0])"
      ]
    },
    {
      "cell_type": "markdown",
      "metadata": {
        "id": "JegURaAg2PuN"
      },
      "source": [
        "Our chunks are ready so now we move onto embedding and indexing everything."
      ]
    },
    {
      "cell_type": "markdown",
      "metadata": {
        "id": "zGIZbQqJ2WBh"
      },
      "source": [
        "## Initialize Embedding Model\n",
        "\n",
        "We use `text-embedding-ada-002` as the embedding model. We can embed text like so:"
      ]
    },
    {
      "cell_type": "code",
      "execution_count": 42,
      "metadata": {},
      "outputs": [
        {
          "data": {
            "text/plain": [
              "<OpenAIObject list at 0x1696dc9b0> JSON: {\n",
              "  \"data\": [\n",
              "    {\n",
              "      \"created\": null,\n",
              "      \"id\": \"babbage\",\n",
              "      \"object\": \"engine\",\n",
              "      \"owner\": \"openai\",\n",
              "      \"permissions\": null,\n",
              "      \"ready\": true\n",
              "    },\n",
              "    {\n",
              "      \"created\": null,\n",
              "      \"id\": \"davinci\",\n",
              "      \"object\": \"engine\",\n",
              "      \"owner\": \"openai\",\n",
              "      \"permissions\": null,\n",
              "      \"ready\": true\n",
              "    },\n",
              "    {\n",
              "      \"created\": null,\n",
              "      \"id\": \"text-davinci-edit-001\",\n",
              "      \"object\": \"engine\",\n",
              "      \"owner\": \"openai\",\n",
              "      \"permissions\": null,\n",
              "      \"ready\": true\n",
              "    },\n",
              "    {\n",
              "      \"created\": null,\n",
              "      \"id\": \"babbage-code-search-code\",\n",
              "      \"object\": \"engine\",\n",
              "      \"owner\": \"openai-dev\",\n",
              "      \"permissions\": null,\n",
              "      \"ready\": true\n",
              "    },\n",
              "    {\n",
              "      \"created\": null,\n",
              "      \"id\": \"text-similarity-babbage-001\",\n",
              "      \"object\": \"engine\",\n",
              "      \"owner\": \"openai-dev\",\n",
              "      \"permissions\": null,\n",
              "      \"ready\": true\n",
              "    },\n",
              "    {\n",
              "      \"created\": null,\n",
              "      \"id\": \"code-davinci-edit-001\",\n",
              "      \"object\": \"engine\",\n",
              "      \"owner\": \"openai\",\n",
              "      \"permissions\": null,\n",
              "      \"ready\": true\n",
              "    },\n",
              "    {\n",
              "      \"created\": null,\n",
              "      \"id\": \"text-davinci-001\",\n",
              "      \"object\": \"engine\",\n",
              "      \"owner\": \"openai\",\n",
              "      \"permissions\": null,\n",
              "      \"ready\": true\n",
              "    },\n",
              "    {\n",
              "      \"created\": null,\n",
              "      \"id\": \"ada\",\n",
              "      \"object\": \"engine\",\n",
              "      \"owner\": \"openai\",\n",
              "      \"permissions\": null,\n",
              "      \"ready\": true\n",
              "    },\n",
              "    {\n",
              "      \"created\": null,\n",
              "      \"id\": \"babbage-code-search-text\",\n",
              "      \"object\": \"engine\",\n",
              "      \"owner\": \"openai-dev\",\n",
              "      \"permissions\": null,\n",
              "      \"ready\": true\n",
              "    },\n",
              "    {\n",
              "      \"created\": null,\n",
              "      \"id\": \"babbage-similarity\",\n",
              "      \"object\": \"engine\",\n",
              "      \"owner\": \"openai-dev\",\n",
              "      \"permissions\": null,\n",
              "      \"ready\": true\n",
              "    },\n",
              "    {\n",
              "      \"created\": null,\n",
              "      \"id\": \"code-search-babbage-text-001\",\n",
              "      \"object\": \"engine\",\n",
              "      \"owner\": \"openai-dev\",\n",
              "      \"permissions\": null,\n",
              "      \"ready\": true\n",
              "    },\n",
              "    {\n",
              "      \"created\": null,\n",
              "      \"id\": \"text-curie-001\",\n",
              "      \"object\": \"engine\",\n",
              "      \"owner\": \"openai\",\n",
              "      \"permissions\": null,\n",
              "      \"ready\": true\n",
              "    },\n",
              "    {\n",
              "      \"created\": null,\n",
              "      \"id\": \"code-search-babbage-code-001\",\n",
              "      \"object\": \"engine\",\n",
              "      \"owner\": \"openai-dev\",\n",
              "      \"permissions\": null,\n",
              "      \"ready\": true\n",
              "    },\n",
              "    {\n",
              "      \"created\": null,\n",
              "      \"id\": \"text-ada-001\",\n",
              "      \"object\": \"engine\",\n",
              "      \"owner\": \"openai\",\n",
              "      \"permissions\": null,\n",
              "      \"ready\": true\n",
              "    },\n",
              "    {\n",
              "      \"created\": null,\n",
              "      \"id\": \"text-embedding-ada-002\",\n",
              "      \"object\": \"engine\",\n",
              "      \"owner\": \"openai-internal\",\n",
              "      \"permissions\": null,\n",
              "      \"ready\": true\n",
              "    },\n",
              "    {\n",
              "      \"created\": null,\n",
              "      \"id\": \"text-similarity-ada-001\",\n",
              "      \"object\": \"engine\",\n",
              "      \"owner\": \"openai-dev\",\n",
              "      \"permissions\": null,\n",
              "      \"ready\": true\n",
              "    },\n",
              "    {\n",
              "      \"created\": null,\n",
              "      \"id\": \"curie-instruct-beta\",\n",
              "      \"object\": \"engine\",\n",
              "      \"owner\": \"openai\",\n",
              "      \"permissions\": null,\n",
              "      \"ready\": true\n",
              "    },\n",
              "    {\n",
              "      \"created\": null,\n",
              "      \"id\": \"ada-code-search-code\",\n",
              "      \"object\": \"engine\",\n",
              "      \"owner\": \"openai-dev\",\n",
              "      \"permissions\": null,\n",
              "      \"ready\": true\n",
              "    },\n",
              "    {\n",
              "      \"created\": null,\n",
              "      \"id\": \"ada-similarity\",\n",
              "      \"object\": \"engine\",\n",
              "      \"owner\": \"openai-dev\",\n",
              "      \"permissions\": null,\n",
              "      \"ready\": true\n",
              "    },\n",
              "    {\n",
              "      \"created\": null,\n",
              "      \"id\": \"code-search-ada-text-001\",\n",
              "      \"object\": \"engine\",\n",
              "      \"owner\": \"openai-dev\",\n",
              "      \"permissions\": null,\n",
              "      \"ready\": true\n",
              "    },\n",
              "    {\n",
              "      \"created\": null,\n",
              "      \"id\": \"text-search-ada-query-001\",\n",
              "      \"object\": \"engine\",\n",
              "      \"owner\": \"openai-dev\",\n",
              "      \"permissions\": null,\n",
              "      \"ready\": true\n",
              "    },\n",
              "    {\n",
              "      \"created\": null,\n",
              "      \"id\": \"davinci-search-document\",\n",
              "      \"object\": \"engine\",\n",
              "      \"owner\": \"openai-dev\",\n",
              "      \"permissions\": null,\n",
              "      \"ready\": true\n",
              "    },\n",
              "    {\n",
              "      \"created\": null,\n",
              "      \"id\": \"ada-code-search-text\",\n",
              "      \"object\": \"engine\",\n",
              "      \"owner\": \"openai-dev\",\n",
              "      \"permissions\": null,\n",
              "      \"ready\": true\n",
              "    },\n",
              "    {\n",
              "      \"created\": null,\n",
              "      \"id\": \"text-search-ada-doc-001\",\n",
              "      \"object\": \"engine\",\n",
              "      \"owner\": \"openai-dev\",\n",
              "      \"permissions\": null,\n",
              "      \"ready\": true\n",
              "    },\n",
              "    {\n",
              "      \"created\": null,\n",
              "      \"id\": \"davinci-instruct-beta\",\n",
              "      \"object\": \"engine\",\n",
              "      \"owner\": \"openai\",\n",
              "      \"permissions\": null,\n",
              "      \"ready\": true\n",
              "    },\n",
              "    {\n",
              "      \"created\": null,\n",
              "      \"id\": \"gpt-3.5-turbo\",\n",
              "      \"object\": \"engine\",\n",
              "      \"owner\": \"openai\",\n",
              "      \"permissions\": null,\n",
              "      \"ready\": true\n",
              "    },\n",
              "    {\n",
              "      \"created\": null,\n",
              "      \"id\": \"text-similarity-curie-001\",\n",
              "      \"object\": \"engine\",\n",
              "      \"owner\": \"openai-dev\",\n",
              "      \"permissions\": null,\n",
              "      \"ready\": true\n",
              "    },\n",
              "    {\n",
              "      \"created\": null,\n",
              "      \"id\": \"code-search-ada-code-001\",\n",
              "      \"object\": \"engine\",\n",
              "      \"owner\": \"openai-dev\",\n",
              "      \"permissions\": null,\n",
              "      \"ready\": true\n",
              "    },\n",
              "    {\n",
              "      \"created\": null,\n",
              "      \"id\": \"ada-search-query\",\n",
              "      \"object\": \"engine\",\n",
              "      \"owner\": \"openai-dev\",\n",
              "      \"permissions\": null,\n",
              "      \"ready\": true\n",
              "    },\n",
              "    {\n",
              "      \"created\": null,\n",
              "      \"id\": \"text-search-davinci-query-001\",\n",
              "      \"object\": \"engine\",\n",
              "      \"owner\": \"openai-dev\",\n",
              "      \"permissions\": null,\n",
              "      \"ready\": true\n",
              "    },\n",
              "    {\n",
              "      \"created\": null,\n",
              "      \"id\": \"curie-search-query\",\n",
              "      \"object\": \"engine\",\n",
              "      \"owner\": \"openai-dev\",\n",
              "      \"permissions\": null,\n",
              "      \"ready\": true\n",
              "    },\n",
              "    {\n",
              "      \"created\": null,\n",
              "      \"id\": \"gpt-3.5-turbo-0301\",\n",
              "      \"object\": \"engine\",\n",
              "      \"owner\": \"openai\",\n",
              "      \"permissions\": null,\n",
              "      \"ready\": true\n",
              "    },\n",
              "    {\n",
              "      \"created\": null,\n",
              "      \"id\": \"davinci-search-query\",\n",
              "      \"object\": \"engine\",\n",
              "      \"owner\": \"openai-dev\",\n",
              "      \"permissions\": null,\n",
              "      \"ready\": true\n",
              "    },\n",
              "    {\n",
              "      \"created\": null,\n",
              "      \"id\": \"babbage-search-document\",\n",
              "      \"object\": \"engine\",\n",
              "      \"owner\": \"openai-dev\",\n",
              "      \"permissions\": null,\n",
              "      \"ready\": true\n",
              "    },\n",
              "    {\n",
              "      \"created\": null,\n",
              "      \"id\": \"ada-search-document\",\n",
              "      \"object\": \"engine\",\n",
              "      \"owner\": \"openai-dev\",\n",
              "      \"permissions\": null,\n",
              "      \"ready\": true\n",
              "    },\n",
              "    {\n",
              "      \"created\": null,\n",
              "      \"id\": \"text-search-curie-query-001\",\n",
              "      \"object\": \"engine\",\n",
              "      \"owner\": \"openai-dev\",\n",
              "      \"permissions\": null,\n",
              "      \"ready\": true\n",
              "    },\n",
              "    {\n",
              "      \"created\": null,\n",
              "      \"id\": \"whisper-1\",\n",
              "      \"object\": \"engine\",\n",
              "      \"owner\": \"openai-internal\",\n",
              "      \"permissions\": null,\n",
              "      \"ready\": true\n",
              "    },\n",
              "    {\n",
              "      \"created\": null,\n",
              "      \"id\": \"text-search-babbage-doc-001\",\n",
              "      \"object\": \"engine\",\n",
              "      \"owner\": \"openai-dev\",\n",
              "      \"permissions\": null,\n",
              "      \"ready\": true\n",
              "    },\n",
              "    {\n",
              "      \"created\": null,\n",
              "      \"id\": \"curie-search-document\",\n",
              "      \"object\": \"engine\",\n",
              "      \"owner\": \"openai-dev\",\n",
              "      \"permissions\": null,\n",
              "      \"ready\": true\n",
              "    },\n",
              "    {\n",
              "      \"created\": null,\n",
              "      \"id\": \"text-davinci-003\",\n",
              "      \"object\": \"engine\",\n",
              "      \"owner\": \"openai-internal\",\n",
              "      \"permissions\": null,\n",
              "      \"ready\": true\n",
              "    },\n",
              "    {\n",
              "      \"created\": null,\n",
              "      \"id\": \"text-search-curie-doc-001\",\n",
              "      \"object\": \"engine\",\n",
              "      \"owner\": \"openai-dev\",\n",
              "      \"permissions\": null,\n",
              "      \"ready\": true\n",
              "    },\n",
              "    {\n",
              "      \"created\": null,\n",
              "      \"id\": \"babbage-search-query\",\n",
              "      \"object\": \"engine\",\n",
              "      \"owner\": \"openai-dev\",\n",
              "      \"permissions\": null,\n",
              "      \"ready\": true\n",
              "    },\n",
              "    {\n",
              "      \"created\": null,\n",
              "      \"id\": \"text-babbage-001\",\n",
              "      \"object\": \"engine\",\n",
              "      \"owner\": \"openai\",\n",
              "      \"permissions\": null,\n",
              "      \"ready\": true\n",
              "    },\n",
              "    {\n",
              "      \"created\": null,\n",
              "      \"id\": \"text-search-davinci-doc-001\",\n",
              "      \"object\": \"engine\",\n",
              "      \"owner\": \"openai-dev\",\n",
              "      \"permissions\": null,\n",
              "      \"ready\": true\n",
              "    },\n",
              "    {\n",
              "      \"created\": null,\n",
              "      \"id\": \"text-search-babbage-query-001\",\n",
              "      \"object\": \"engine\",\n",
              "      \"owner\": \"openai-dev\",\n",
              "      \"permissions\": null,\n",
              "      \"ready\": true\n",
              "    },\n",
              "    {\n",
              "      \"created\": null,\n",
              "      \"id\": \"curie-similarity\",\n",
              "      \"object\": \"engine\",\n",
              "      \"owner\": \"openai-dev\",\n",
              "      \"permissions\": null,\n",
              "      \"ready\": true\n",
              "    },\n",
              "    {\n",
              "      \"created\": null,\n",
              "      \"id\": \"curie\",\n",
              "      \"object\": \"engine\",\n",
              "      \"owner\": \"openai\",\n",
              "      \"permissions\": null,\n",
              "      \"ready\": true\n",
              "    },\n",
              "    {\n",
              "      \"created\": null,\n",
              "      \"id\": \"text-similarity-davinci-001\",\n",
              "      \"object\": \"engine\",\n",
              "      \"owner\": \"openai-dev\",\n",
              "      \"permissions\": null,\n",
              "      \"ready\": true\n",
              "    },\n",
              "    {\n",
              "      \"created\": null,\n",
              "      \"id\": \"text-davinci-002\",\n",
              "      \"object\": \"engine\",\n",
              "      \"owner\": \"openai\",\n",
              "      \"permissions\": null,\n",
              "      \"ready\": true\n",
              "    },\n",
              "    {\n",
              "      \"created\": null,\n",
              "      \"id\": \"davinci-similarity\",\n",
              "      \"object\": \"engine\",\n",
              "      \"owner\": \"openai-dev\",\n",
              "      \"permissions\": null,\n",
              "      \"ready\": true\n",
              "    }\n",
              "  ],\n",
              "  \"object\": \"list\"\n",
              "}"
            ]
          },
          "execution_count": 42,
          "metadata": {},
          "output_type": "execute_result"
        }
      ],
      "source": [
        "import os\n",
        "import openai\n",
        "\n",
        "openai.api_key = os.getenv(\"OPENAI_API_KEY\")\n",
        "\n",
        "openai.Engine.list()  # check we have authenticated"
      ]
    },
    {
      "cell_type": "code",
      "execution_count": 43,
      "metadata": {
        "id": "kteZ69Z5M55S"
      },
      "outputs": [],
      "source": [
        "embed_model = \"text-embedding-ada-002\"\n",
        "\n",
        "res = openai.Embedding.create(\n",
        "    input=[\n",
        "        \"Sample document text goes here\",\n",
        "        \"there will be several phrases in each batch\"\n",
        "    ], engine=embed_model\n",
        ")"
      ]
    },
    {
      "cell_type": "markdown",
      "metadata": {
        "id": "aNZ7IWekNLbu"
      },
      "source": [
        "In the response `res` we will find a JSON-like object containing our new embeddings within the `'data'` field."
      ]
    },
    {
      "cell_type": "code",
      "execution_count": 44,
      "metadata": {
        "colab": {
          "base_uri": "https://localhost:8080/"
        },
        "id": "esagZj6iNLPZ",
        "outputId": "0e8b59d7-6c26-4fbf-e093-56d35aa18ab5"
      },
      "outputs": [
        {
          "data": {
            "text/plain": [
              "dict_keys(['object', 'data', 'model', 'usage'])"
            ]
          },
          "execution_count": 44,
          "metadata": {},
          "output_type": "execute_result"
        }
      ],
      "source": [
        "res.keys()"
      ]
    },
    {
      "cell_type": "markdown",
      "metadata": {
        "id": "zStnHFpkNVIU"
      },
      "source": [
        "Inside `'data'` we will find two records, one for each of the two sentences we just embedded. Each vector embedding contains `1536` dimensions (the output dimensionality of the `text-embedding-ada-002` model."
      ]
    },
    {
      "cell_type": "code",
      "execution_count": 45,
      "metadata": {
        "colab": {
          "base_uri": "https://localhost:8080/"
        },
        "id": "uVoP9VcINWAC",
        "outputId": "36329c98-2191-4e3d-b064-60af9b905dae"
      },
      "outputs": [
        {
          "data": {
            "text/plain": [
              "2"
            ]
          },
          "execution_count": 45,
          "metadata": {},
          "output_type": "execute_result"
        }
      ],
      "source": [
        "len(res['data'])"
      ]
    },
    {
      "cell_type": "code",
      "execution_count": 46,
      "metadata": {
        "colab": {
          "base_uri": "https://localhost:8080/"
        },
        "id": "s-zraDCjNeC6",
        "outputId": "a7c79486-6fb4-4bc6-efec-320e9f525766"
      },
      "outputs": [
        {
          "data": {
            "text/plain": [
              "(1536, 1536)"
            ]
          },
          "execution_count": 46,
          "metadata": {},
          "output_type": "execute_result"
        }
      ],
      "source": [
        "len(res['data'][0]['embedding']), len(res['data'][1]['embedding'])"
      ]
    },
    {
      "cell_type": "markdown",
      "metadata": {
        "id": "XPd41MjANhmp"
      },
      "source": [
        "We will apply this same embedding logic to the langchain docs dataset we've just scraped. But before doing so we must create a place to store the embeddings."
      ]
    },
    {
      "cell_type": "markdown",
      "metadata": {
        "id": "WPi4MZvMNvUH"
      },
      "source": [
        "## Initializing the Index"
      ]
    },
    {
      "cell_type": "markdown",
      "metadata": {
        "id": "H5RRQArrN2lN"
      },
      "source": [
        "Now we need a place to store these embeddings and enable a efficient vector search through them all. To do that we use Pinecone, we can get a [free API key](https://app.pinecone.io/) and enter it below where we will initialize our connection to Pinecone and create a new index."
      ]
    },
    {
      "cell_type": "code",
      "execution_count": 47,
      "metadata": {},
      "outputs": [
        {
          "data": {
            "text/plain": [
              "WhoAmIResponse(username='1946a7a', user_label='default', projectname='26d3f25')"
            ]
          },
          "execution_count": 47,
          "metadata": {},
          "output_type": "execute_result"
        }
      ],
      "source": [
        "import pinecone\n",
        "\n",
        "api_key = os.getenv(\"PINECONE_API_KEY\")\n",
        "env = os.getenv(\"PINECONE_ENVIRONMENT\")\n",
        "\n",
        "pinecone.init(api_key=api_key, environment=env)\n",
        "pinecone.whoami()"
      ]
    },
    {
      "cell_type": "code",
      "execution_count": 48,
      "metadata": {
        "tags": [
          "parameters"
        ]
      },
      "outputs": [],
      "source": [
        "index_name = 'cilium-docs-langchain'"
      ]
    },
    {
      "cell_type": "code",
      "execution_count": 49,
      "metadata": {
        "colab": {
          "base_uri": "https://localhost:8080/"
        },
        "id": "EO8sbJFZNyIZ",
        "outputId": "f2d2efca-65be-47ea-ab1d-1dab2786a6b9"
      },
      "outputs": [
        {
          "data": {
            "text/plain": [
              "{'dimension': 1536,\n",
              " 'index_fullness': 0.1,\n",
              " 'namespaces': {'': {'vector_count': 9136}},\n",
              " 'total_vector_count': 9136}"
            ]
          },
          "execution_count": 49,
          "metadata": {},
          "output_type": "execute_result"
        }
      ],
      "source": [
        "# check if index already exists (it shouldn't if this is first time)\n",
        "if index_name not in pinecone.list_indexes():\n",
        "    # if does not exist, create index\n",
        "    pinecone.create_index(\n",
        "        index_name,\n",
        "        dimension=len(res['data'][0]['embedding']),\n",
        "        metric='dotproduct'\n",
        "    )\n",
        "# connect to index\n",
        "index = pinecone.GRPCIndex(index_name)\n",
        "# view index stats\n",
        "index.describe_index_stats()"
      ]
    },
    {
      "cell_type": "markdown",
      "metadata": {
        "id": "ezSTzN2rPa2o"
      },
      "source": [
        "We can see the index is currently empty with a `total_vector_count` of `0`. We can begin populating it with OpenAI `text-embedding-ada-002` built embeddings like so:"
      ]
    },
    {
      "cell_type": "code",
      "execution_count": 50,
      "metadata": {
        "colab": {
          "base_uri": "https://localhost:8080/",
          "height": 49,
          "referenced_widgets": [
            "b6b5865b02504e10a020ad5f42241df6",
            "b1489d5d6c1f498fadaea8aeb16ab60f",
            "90aa35cbdf0c45a1bb7b9075c48a6f7d",
            "70eaf7d1a5b24e49a32490fd3a75ea15",
            "144e2e3c8a014c549e0f552a64a670ef",
            "e5b49411f2134a9b9649528314f746d6",
            "7d78613ce91b4427a4afacb699ef031e",
            "1b93eb9d358041ab99fe87045f7f0660",
            "af4f336bfcb446afb9e6a513d49d791f",
            "a9552f4dca1642e2924ee152067f1f3d",
            "c82f8fbcef0648489f1dcbb4af5ea8c4"
          ]
        },
        "id": "iZbFbulAPeop",
        "outputId": "a017780a-19d0-4e6f-a68c-529c0c96e4f8"
      },
      "outputs": [
        {
          "name": "stderr",
          "output_type": "stream",
          "text": [
            "100%|██████████| 91/91 [04:32<00:00,  2.99s/it]\n"
          ]
        }
      ],
      "source": [
        "from tqdm.auto import tqdm\n",
        "from time import sleep\n",
        "\n",
        "batch_size = 100  # how many embeddings we create and insert at once\n",
        "\n",
        "for i in tqdm(range(0, len(chunks), batch_size)):\n",
        "    # find end of batch\n",
        "    i_end = min(len(chunks), i+batch_size)\n",
        "    meta_batch = chunks[i:i_end]\n",
        "    # get ids\n",
        "    ids_batch = [x['id'] for x in meta_batch]\n",
        "    # get texts to encode\n",
        "    texts = [x['text'] for x in meta_batch]\n",
        "    # create embeddings (try-except added to avoid RateLimitError)\n",
        "    try:\n",
        "        res = openai.Embedding.create(input=texts, engine=embed_model)\n",
        "    except:\n",
        "        done = False\n",
        "        while not done:\n",
        "            sleep(5)\n",
        "            try:\n",
        "                res = openai.Embedding.create(input=texts, engine=embed_model)\n",
        "                done = True\n",
        "            except:\n",
        "                pass\n",
        "    embeds = [record['embedding'] for record in res['data']]\n",
        "    # cleanup metadata\n",
        "    meta_batch = [{\n",
        "        'text': x['text'],\n",
        "        'chunk': x['chunk'],\n",
        "        'url': x['url']\n",
        "    } for x in meta_batch]\n",
        "    to_upsert = list(zip(ids_batch, embeds, meta_batch))\n",
        "    # upsert to Pinecone\n",
        "    index.upsert(vectors=to_upsert)"
      ]
    },
    {
      "cell_type": "markdown",
      "metadata": {
        "id": "YttJOrEtQIF9"
      },
      "source": [
        "Now we've added all of our langchain docs to the index. With that we can move on to retrieval and then answer generation using GPT-4."
      ]
    },
    {
      "cell_type": "markdown",
      "metadata": {
        "id": "FumVmMRlQQ7w"
      },
      "source": [
        "## Retrieval"
      ]
    },
    {
      "cell_type": "markdown",
      "metadata": {
        "id": "nLRODeL-QTJ9"
      },
      "source": [
        "To search through our documents we first need to create a query vector `xq`. Using `xq` we will retrieve the most relevant chunks from the LangChain docs, like so:"
      ]
    },
    {
      "cell_type": "code",
      "execution_count": 65,
      "metadata": {
        "id": "FMUPdX9cQQYC"
      },
      "outputs": [],
      "source": [
        "query = \"How can I configure LB IPAM. Show me the YAML config\"\n",
        "\n",
        "res = openai.Embedding.create(\n",
        "    input=[query],\n",
        "    engine=embed_model\n",
        ")\n",
        "\n",
        "# retrieve from Pinecone\n",
        "xq = res['data'][0]['embedding']\n",
        "\n",
        "# get relevant contexts (including the questions)\n",
        "res = index.query(xq, top_k=5, include_metadata=True)"
      ]
    },
    {
      "cell_type": "code",
      "execution_count": 66,
      "metadata": {
        "colab": {
          "base_uri": "https://localhost:8080/"
        },
        "id": "zl9SrFPkQjg-",
        "outputId": "86a8c598-15d1-4ad1-db32-6db2b3e0af1e"
      },
      "outputs": [
        {
          "data": {
            "text/plain": [
              "{'matches': [{'id': '81bd18a7-6afb-45c2-94cc-1bc088202bca',\n",
              "              'metadata': {'chunk': 0.0,\n",
              "                           'text': '» BGP » LoadBalancer IP Address Management '\n",
              "                                   '(LB IPAM) LoadBalancer IP Address '\n",
              "                                   'Management (LB IPAM)\\uf0c1 LB IPAM is a '\n",
              "                                   'feature that allows Cilium to assign IP '\n",
              "                                   'addresses to Services of type '\n",
              "                                   'LoadBalancer. This functionality is '\n",
              "                                   'usually left up to a cloud provider, '\n",
              "                                   'however, when deploying in a private cloud '\n",
              "                                   'environment, these facilities are not '\n",
              "                                   'always available. LB IPAM works in '\n",
              "                                   'conjunction with features like the Cilium '\n",
              "                                   'BGP Control Plane. Where LB IPAM is '\n",
              "                                   'responsible for allocation and assigning '\n",
              "                                   'of IPs to Service objects and other '\n",
              "                                   'features are responsible for load '\n",
              "                                   'balancing and/or advertisement of these '\n",
              "                                   'IPs. LB IPAM is always enabled but '\n",
              "                                   'dormant. The controller is awoken when the '\n",
              "                                   'first IP Pool is added to the cluster. '\n",
              "                                   'Pools\\uf0c1 LB IPAM has the notion of IP '\n",
              "                                   'Pools which the administrator can create '\n",
              "                                   'to tell Cilium which IP ranges can be used '\n",
              "                                   'to allocate IPs from. A basic IP Pools '\n",
              "                                   'with both an IPv4 and IPv6 range looks '\n",
              "                                   'like this: apiVersion: '\n",
              "                                   '\"cilium.io/v2alpha1\" kind: '\n",
              "                                   'CiliumLoadBalancerIPPool metadata: name: '\n",
              "                                   '\"blue-pool\" spec: cidrs: - cidr: '\n",
              "                                   '\"10.0.10.0/24\" - cidr: \"2004::0/64\" After '\n",
              "                                   'adding the pool to the cluster, it appears '\n",
              "                                   'like so.',\n",
              "                           'url': 'https://docs.cilium.io/en/v1.13/network/lb-ipam/'},\n",
              "              'score': 0.83722633,\n",
              "              'sparse_values': {'indices': [], 'values': []},\n",
              "              'values': []},\n",
              "             {'id': 'c9700310-dbe7-4a6e-83c0-f5d32737e10c',\n",
              "              'metadata': {'chunk': 0.0,\n",
              "                           'text': '» BGP » LoadBalancer IP Address Management '\n",
              "                                   '(LB IPAM) LoadBalancer IP Address '\n",
              "                                   'Management (LB IPAM)\\uf0c1 LB IPAM is a '\n",
              "                                   'feature that allows Cilium to assign IP '\n",
              "                                   'addresses to Services of type '\n",
              "                                   'LoadBalancer. This functionality is '\n",
              "                                   'usually left up to a cloud provider, '\n",
              "                                   'however, when deploying in a private cloud '\n",
              "                                   'environment, these facilities are not '\n",
              "                                   'always available. LB IPAM works in '\n",
              "                                   'conjunction with features like the Cilium '\n",
              "                                   'BGP Control Plane. Where LB IPAM is '\n",
              "                                   'responsible for allocation and assigning '\n",
              "                                   'of IPs to Service objects and other '\n",
              "                                   'features are responsible for load '\n",
              "                                   'balancing and/or advertisement of these '\n",
              "                                   'IPs. LB IPAM is always enabled but '\n",
              "                                   'dormant. The controller is awoken when the '\n",
              "                                   'first IP Pool is added to the cluster. '\n",
              "                                   'Pools\\uf0c1 LB IPAM has the notion of IP '\n",
              "                                   'Pools which the administrator can create '\n",
              "                                   'to tell Cilium which IP ranges can be used '\n",
              "                                   'to allocate IPs from. A basic IP Pools '\n",
              "                                   'with both an IPv4 and IPv6 range looks '\n",
              "                                   'like this: apiVersion: '\n",
              "                                   '\"cilium.io/v2alpha1\" kind: '\n",
              "                                   'CiliumLoadBalancerIPPool metadata: name: '\n",
              "                                   '\"blue-pool\" spec: cidrs: - cidr: '\n",
              "                                   '\"10.0.10.0/24\" - cidr: \"2004::0/64\" After '\n",
              "                                   'adding the pool to the cluster, it appears '\n",
              "                                   'like so.',\n",
              "                           'url': 'https://docs.cilium.io/en/v1.13/network/lb-ipam/#pools'},\n",
              "              'score': 0.83717227,\n",
              "              'sparse_values': {'indices': [], 'values': []},\n",
              "              'values': []},\n",
              "             {'id': 'd4d5f935-400e-44fc-a2cd-310af912d587',\n",
              "              'metadata': {'chunk': 0.0,\n",
              "                           'text': '» BGP » LoadBalancer IP Address Management '\n",
              "                                   '(LB IPAM) LoadBalancer IP Address '\n",
              "                                   'Management (LB IPAM)\\uf0c1 LB IPAM is a '\n",
              "                                   'feature that allows Cilium to assign IP '\n",
              "                                   'addresses to Services of type '\n",
              "                                   'LoadBalancer. This functionality is '\n",
              "                                   'usually left up to a cloud provider, '\n",
              "                                   'however, when deploying in a private cloud '\n",
              "                                   'environment, these facilities are not '\n",
              "                                   'always available. LB IPAM works in '\n",
              "                                   'conjunction with features like the Cilium '\n",
              "                                   'BGP Control Plane. Where LB IPAM is '\n",
              "                                   'responsible for allocation and assigning '\n",
              "                                   'of IPs to Service objects and other '\n",
              "                                   'features are responsible for load '\n",
              "                                   'balancing and/or advertisement of these '\n",
              "                                   'IPs. LB IPAM is always enabled but '\n",
              "                                   'dormant. The controller is awoken when the '\n",
              "                                   'first IP Pool is added to the cluster. '\n",
              "                                   'Pools\\uf0c1 LB IPAM has the notion of IP '\n",
              "                                   'Pools which the administrator can create '\n",
              "                                   'to tell Cilium which IP ranges can be used '\n",
              "                                   'to allocate IPs from. A basic IP Pools '\n",
              "                                   'with both an IPv4 and IPv6 range looks '\n",
              "                                   'like this: apiVersion: '\n",
              "                                   '\"cilium.io/v2alpha1\" kind: '\n",
              "                                   'CiliumLoadBalancerIPPool metadata: name: '\n",
              "                                   '\"blue-pool\" spec: cidrs: - cidr: '\n",
              "                                   '\"10.0.10.0/24\" - cidr: \"2004::0/64\" After '\n",
              "                                   'adding the pool to the cluster, it appears '\n",
              "                                   'like so.',\n",
              "                           'url': 'https://docs.cilium.io/en/v1.13/network/lb-ipam/#services'},\n",
              "              'score': 0.83717227,\n",
              "              'sparse_values': {'indices': [], 'values': []},\n",
              "              'values': []},\n",
              "             {'id': '315f5c0a-e4f8-4c96-990b-5fb39870dd31',\n",
              "              'metadata': {'chunk': 0.0,\n",
              "                           'text': '» BGP » LoadBalancer IP Address Management '\n",
              "                                   '(LB IPAM) LoadBalancer IP Address '\n",
              "                                   'Management (LB IPAM)\\uf0c1 LB IPAM is a '\n",
              "                                   'feature that allows Cilium to assign IP '\n",
              "                                   'addresses to Services of type '\n",
              "                                   'LoadBalancer. This functionality is '\n",
              "                                   'usually left up to a cloud provider, '\n",
              "                                   'however, when deploying in a private cloud '\n",
              "                                   'environment, these facilities are not '\n",
              "                                   'always available. LB IPAM works in '\n",
              "                                   'conjunction with features like the Cilium '\n",
              "                                   'BGP Control Plane. Where LB IPAM is '\n",
              "                                   'responsible for allocation and assigning '\n",
              "                                   'of IPs to Service objects and other '\n",
              "                                   'features are responsible for load '\n",
              "                                   'balancing and/or advertisement of these '\n",
              "                                   'IPs. LB IPAM is always enabled but '\n",
              "                                   'dormant. The controller is awoken when the '\n",
              "                                   'first IP Pool is added to the cluster. '\n",
              "                                   'Pools\\uf0c1 LB IPAM has the notion of IP '\n",
              "                                   'Pools which the administrator can create '\n",
              "                                   'to tell Cilium which IP ranges can be used '\n",
              "                                   'to allocate IPs from. A basic IP Pools '\n",
              "                                   'with both an IPv4 and IPv6 range looks '\n",
              "                                   'like this: apiVersion: '\n",
              "                                   '\"cilium.io/v2alpha1\" kind: '\n",
              "                                   'CiliumLoadBalancerIPPool metadata: name: '\n",
              "                                   '\"blue-pool\" spec: cidrs: - cidr: '\n",
              "                                   '\"10.0.10.0/24\" - cidr: \"2004::0/64\" After '\n",
              "                                   'adding the pool to the cluster, it appears '\n",
              "                                   'like so.',\n",
              "                           'url': 'https://docs.cilium.io/en/v1.13/network/lb-ipam/'},\n",
              "              'score': 0.83717227,\n",
              "              'sparse_values': {'indices': [], 'values': []},\n",
              "              'values': []},\n",
              "             {'id': '35ec47a7-878e-40f2-870d-efa271552693',\n",
              "              'metadata': {'chunk': 0.0,\n",
              "                           'text': '» BGP » LoadBalancer IP Address Management '\n",
              "                                   '(LB IPAM) LoadBalancer IP Address '\n",
              "                                   'Management (LB IPAM)\\uf0c1 LB IPAM is a '\n",
              "                                   'feature that allows Cilium to assign IP '\n",
              "                                   'addresses to Services of type '\n",
              "                                   'LoadBalancer. This functionality is '\n",
              "                                   'usually left up to a cloud provider, '\n",
              "                                   'however, when deploying in a private cloud '\n",
              "                                   'environment, these facilities are not '\n",
              "                                   'always available. LB IPAM works in '\n",
              "                                   'conjunction with features like the Cilium '\n",
              "                                   'BGP Control Plane. Where LB IPAM is '\n",
              "                                   'responsible for allocation and assigning '\n",
              "                                   'of IPs to Service objects and other '\n",
              "                                   'features are responsible for load '\n",
              "                                   'balancing and/or advertisement of these '\n",
              "                                   'IPs. LB IPAM is always enabled but '\n",
              "                                   'dormant. The controller is awoken when the '\n",
              "                                   'first IP Pool is added to the cluster. '\n",
              "                                   'Pools\\uf0c1 LB IPAM has the notion of IP '\n",
              "                                   'Pools which the administrator can create '\n",
              "                                   'to tell Cilium which IP ranges can be used '\n",
              "                                   'to allocate IPs from. A basic IP Pools '\n",
              "                                   'with both an IPv4 and IPv6 range looks '\n",
              "                                   'like this: apiVersion: '\n",
              "                                   '\"cilium.io/v2alpha1\" kind: '\n",
              "                                   'CiliumLoadBalancerIPPool metadata: name: '\n",
              "                                   '\"blue-pool\" spec: cidrs: - cidr: '\n",
              "                                   '\"10.0.10.0/24\" - cidr: \"2004::0/64\" After '\n",
              "                                   'adding the pool to the cluster, it appears '\n",
              "                                   'like so.',\n",
              "                           'url': 'https://docs.cilium.io/en/v1.13/network/lb-ipam/#pools'},\n",
              "              'score': 0.83717227,\n",
              "              'sparse_values': {'indices': [], 'values': []},\n",
              "              'values': []}],\n",
              " 'namespace': ''}"
            ]
          },
          "execution_count": 66,
          "metadata": {},
          "output_type": "execute_result"
        }
      ],
      "source": [
        "res"
      ]
    },
    {
      "cell_type": "markdown",
      "metadata": {
        "id": "MoBSiDLIUADZ"
      },
      "source": [
        "With retrieval complete, we move on to feeding these into GPT-4 to produce answers."
      ]
    },
    {
      "cell_type": "markdown",
      "metadata": {
        "id": "qfzS4-6-UXgX"
      },
      "source": [
        "## Retrieval Augmented Generation"
      ]
    },
    {
      "cell_type": "markdown",
      "metadata": {
        "id": "XPC1jQaKUcy0"
      },
      "source": [
        "GPT-4 is currently accessed via the `ChatCompletions` endpoint of OpenAI. To add the information we retrieved into the model, we need to pass it into our user prompts *alongside* our original query. We can do that like so:"
      ]
    },
    {
      "cell_type": "code",
      "execution_count": 67,
      "metadata": {
        "id": "unZstoHNUHeG"
      },
      "outputs": [],
      "source": [
        "# get list of retrieved text\n",
        "contexts = [item['metadata']['text'] for item in res['matches']]\n",
        "\n",
        "augmented_query = \"\\n\\n---\\n\\n\".join(contexts)+\"\\n\\n-----\\n\\n\"+query"
      ]
    },
    {
      "cell_type": "code",
      "execution_count": 68,
      "metadata": {
        "colab": {
          "base_uri": "https://localhost:8080/"
        },
        "id": "LRcEHm0Z9fXE",
        "outputId": "872a7f7e-2001-44b5-ff44-cb045365a515"
      },
      "outputs": [
        {
          "name": "stdout",
          "output_type": "stream",
          "text": [
            "» BGP » LoadBalancer IP Address Management (LB IPAM) LoadBalancer IP Address Management (LB IPAM) LB IPAM is a feature that allows Cilium to assign IP addresses to Services of type LoadBalancer. This functionality is usually left up to a cloud provider, however, when deploying in a private cloud environment, these facilities are not always available. LB IPAM works in conjunction with features like the Cilium BGP Control Plane. Where LB IPAM is responsible for allocation and assigning of IPs to Service objects and other features are responsible for load balancing and/or advertisement of these IPs. LB IPAM is always enabled but dormant. The controller is awoken when the first IP Pool is added to the cluster. Pools LB IPAM has the notion of IP Pools which the administrator can create to tell Cilium which IP ranges can be used to allocate IPs from. A basic IP Pools with both an IPv4 and IPv6 range looks like this: apiVersion: \"cilium.io/v2alpha1\" kind: CiliumLoadBalancerIPPool metadata: name: \"blue-pool\" spec: cidrs: - cidr: \"10.0.10.0/24\" - cidr: \"2004::0/64\" After adding the pool to the cluster, it appears like so.\n",
            "\n",
            "---\n",
            "\n",
            "» BGP » LoadBalancer IP Address Management (LB IPAM) LoadBalancer IP Address Management (LB IPAM) LB IPAM is a feature that allows Cilium to assign IP addresses to Services of type LoadBalancer. This functionality is usually left up to a cloud provider, however, when deploying in a private cloud environment, these facilities are not always available. LB IPAM works in conjunction with features like the Cilium BGP Control Plane. Where LB IPAM is responsible for allocation and assigning of IPs to Service objects and other features are responsible for load balancing and/or advertisement of these IPs. LB IPAM is always enabled but dormant. The controller is awoken when the first IP Pool is added to the cluster. Pools LB IPAM has the notion of IP Pools which the administrator can create to tell Cilium which IP ranges can be used to allocate IPs from. A basic IP Pools with both an IPv4 and IPv6 range looks like this: apiVersion: \"cilium.io/v2alpha1\" kind: CiliumLoadBalancerIPPool metadata: name: \"blue-pool\" spec: cidrs: - cidr: \"10.0.10.0/24\" - cidr: \"2004::0/64\" After adding the pool to the cluster, it appears like so.\n",
            "\n",
            "---\n",
            "\n",
            "» BGP » LoadBalancer IP Address Management (LB IPAM) LoadBalancer IP Address Management (LB IPAM) LB IPAM is a feature that allows Cilium to assign IP addresses to Services of type LoadBalancer. This functionality is usually left up to a cloud provider, however, when deploying in a private cloud environment, these facilities are not always available. LB IPAM works in conjunction with features like the Cilium BGP Control Plane. Where LB IPAM is responsible for allocation and assigning of IPs to Service objects and other features are responsible for load balancing and/or advertisement of these IPs. LB IPAM is always enabled but dormant. The controller is awoken when the first IP Pool is added to the cluster. Pools LB IPAM has the notion of IP Pools which the administrator can create to tell Cilium which IP ranges can be used to allocate IPs from. A basic IP Pools with both an IPv4 and IPv6 range looks like this: apiVersion: \"cilium.io/v2alpha1\" kind: CiliumLoadBalancerIPPool metadata: name: \"blue-pool\" spec: cidrs: - cidr: \"10.0.10.0/24\" - cidr: \"2004::0/64\" After adding the pool to the cluster, it appears like so.\n",
            "\n",
            "---\n",
            "\n",
            "» BGP » LoadBalancer IP Address Management (LB IPAM) LoadBalancer IP Address Management (LB IPAM) LB IPAM is a feature that allows Cilium to assign IP addresses to Services of type LoadBalancer. This functionality is usually left up to a cloud provider, however, when deploying in a private cloud environment, these facilities are not always available. LB IPAM works in conjunction with features like the Cilium BGP Control Plane. Where LB IPAM is responsible for allocation and assigning of IPs to Service objects and other features are responsible for load balancing and/or advertisement of these IPs. LB IPAM is always enabled but dormant. The controller is awoken when the first IP Pool is added to the cluster. Pools LB IPAM has the notion of IP Pools which the administrator can create to tell Cilium which IP ranges can be used to allocate IPs from. A basic IP Pools with both an IPv4 and IPv6 range looks like this: apiVersion: \"cilium.io/v2alpha1\" kind: CiliumLoadBalancerIPPool metadata: name: \"blue-pool\" spec: cidrs: - cidr: \"10.0.10.0/24\" - cidr: \"2004::0/64\" After adding the pool to the cluster, it appears like so.\n",
            "\n",
            "---\n",
            "\n",
            "» BGP » LoadBalancer IP Address Management (LB IPAM) LoadBalancer IP Address Management (LB IPAM) LB IPAM is a feature that allows Cilium to assign IP addresses to Services of type LoadBalancer. This functionality is usually left up to a cloud provider, however, when deploying in a private cloud environment, these facilities are not always available. LB IPAM works in conjunction with features like the Cilium BGP Control Plane. Where LB IPAM is responsible for allocation and assigning of IPs to Service objects and other features are responsible for load balancing and/or advertisement of these IPs. LB IPAM is always enabled but dormant. The controller is awoken when the first IP Pool is added to the cluster. Pools LB IPAM has the notion of IP Pools which the administrator can create to tell Cilium which IP ranges can be used to allocate IPs from. A basic IP Pools with both an IPv4 and IPv6 range looks like this: apiVersion: \"cilium.io/v2alpha1\" kind: CiliumLoadBalancerIPPool metadata: name: \"blue-pool\" spec: cidrs: - cidr: \"10.0.10.0/24\" - cidr: \"2004::0/64\" After adding the pool to the cluster, it appears like so.\n",
            "\n",
            "-----\n",
            "\n",
            "How can I configure LB IPAM. Show me the YAML config\n"
          ]
        }
      ],
      "source": [
        "print(augmented_query)"
      ]
    },
    {
      "cell_type": "markdown",
      "metadata": {
        "id": "sihH_GMiV5_p"
      },
      "source": [
        "Now we ask the question:"
      ]
    },
    {
      "cell_type": "code",
      "execution_count": 69,
      "metadata": {
        "id": "IThBqBi8V70d"
      },
      "outputs": [],
      "source": [
        "# system message to 'prime' the model\n",
        "primer = f\"\"\"You are Q&A bot. A highly intelligent system that answers\n",
        "user questions based on the information provided by the user above\n",
        "each question. If the information can not be found in the information\n",
        "provided by the user you truthfully say \"I don't know\".\n",
        "\"\"\"\n",
        "\n",
        "res = openai.ChatCompletion.create(\n",
        "    model=\"gpt-3.5-turbo\",\n",
        "    messages=[\n",
        "        {\"role\": \"system\", \"content\": primer},\n",
        "        {\"role\": \"user\", \"content\": augmented_query}\n",
        "    ]\n",
        ")"
      ]
    },
    {
      "cell_type": "markdown",
      "metadata": {
        "id": "QvS1yJhOWpiJ"
      },
      "source": [
        "To display this response nicely, we will display it in markdown."
      ]
    },
    {
      "cell_type": "code",
      "execution_count": 70,
      "metadata": {
        "colab": {
          "base_uri": "https://localhost:8080/",
          "height": 488
        },
        "id": "RDo2qeMHWto1",
        "outputId": "26d30abb-767a-4256-cd48-50af20128c84"
      },
      "outputs": [
        {
          "data": {
            "text/markdown": [
              "Here is an example of how to configure LB IPAM using YAML config:\n",
              "\n",
              "```\n",
              "apiVersion: \"cilium.io/v2alpha1\"\n",
              "kind: CiliumLoadBalancerIPPool\n",
              "metadata:\n",
              "  name: \"blue-pool\"\n",
              "spec:\n",
              "  cidrs:\n",
              "    - cidr: \"10.0.10.0/24\"\n",
              "    - cidr: \"2004::0/64\"\n",
              "```\n",
              "\n",
              "This example creates an IP pool named \"blue-pool\" with an IPv4 CIDR block of \"10.0.10.0/24\" and an IPv6 CIDR block of \"2004::0/64\"."
            ],
            "text/plain": [
              "<IPython.core.display.Markdown object>"
            ]
          },
          "metadata": {},
          "output_type": "display_data"
        }
      ],
      "source": [
        "from IPython.display import Markdown\n",
        "\n",
        "display(Markdown(res['choices'][0]['message']['content']))"
      ]
    },
    {
      "cell_type": "markdown",
      "metadata": {
        "id": "eJ-a8MHg0eYQ"
      },
      "source": [
        "Let's compare this to a non-augmented query..."
      ]
    },
    {
      "cell_type": "code",
      "execution_count": 71,
      "metadata": {
        "colab": {
          "base_uri": "https://localhost:8080/",
          "height": 46
        },
        "id": "vwhaSgdF0ZDX",
        "outputId": "7a139208-bc40-4784-fae8-a10caf09800e"
      },
      "outputs": [
        {
          "data": {
            "text/markdown": [
              "I'm sorry, but I don't have enough information to answer your question. Can you provide me with more context and details about what you mean by \"LB IPAM\" and what type of system or platform you are referring to? Additionally, without knowing your specific requirements and environment, it's not possible to provide a YAML configuration that would be suitable for your needs."
            ],
            "text/plain": [
              "<IPython.core.display.Markdown object>"
            ]
          },
          "metadata": {},
          "output_type": "display_data"
        }
      ],
      "source": [
        "res = openai.ChatCompletion.create(\n",
        "    model=\"gpt-3.5-turbo\",\n",
        "    messages=[\n",
        "        {\"role\": \"system\", \"content\": primer},\n",
        "        {\"role\": \"user\", \"content\": query}\n",
        "    ]\n",
        ")\n",
        "display(Markdown(res['choices'][0]['message']['content']))"
      ]
    },
    {
      "cell_type": "markdown",
      "metadata": {
        "id": "5CSsA-dW0m_P"
      },
      "source": [
        "If we drop the `\"I don't know\"` part of the `primer`?"
      ]
    },
    {
      "cell_type": "code",
      "execution_count": 72,
      "metadata": {
        "colab": {
          "base_uri": "https://localhost:8080/",
          "height": 163
        },
        "id": "Z3svdTCZ0iJ2",
        "outputId": "e6a8c0bf-e575-454c-bd20-e3b1db3e47b0"
      },
      "outputs": [
        {
          "data": {
            "text/markdown": [
              "To configure LoadBalancer IPAM (LB IPAM) in Kubernetes, you can use the following YAML config as an example:\n",
              "\n",
              "```\n",
              "apiVersion: crd.projectcalico.org/v1alpha1\n",
              "kind: IPPool\n",
              "metadata:\n",
              "  name: lb-ippool\n",
              "spec:\n",
              "  blockSize: 26\n",
              "  cidr: {{LB_CIDR}}\n",
              "  ipipMode: Always\n",
              "  natOutgoing: true\n",
              "  nodeSelector: has(lb-node)=true\n",
              "  vxlanMode: Never\n",
              "\n",
              "---\n",
              "\n",
              "apiVersion: projectcalico.org/v3\n",
              "kind: IPPoolClaim\n",
              "metadata:\n",
              "  name: lb-ippool-claim\n",
              "spec:\n",
              "  cidr: {{LB_CIDR}}\n",
              "  ipam: ipam-controller\n",
              "```\n",
              "\n",
              "In this config, you define an IP pool for LB IPAM using the `IPPool` resource, which sets parameters like CIDR range and node selection. Then, you create a pool claim using the `IPPoolClaim` resource, which associates the IP pool with an IPAM controller. \n",
              "\n",
              "You will need to replace `{{LB_CIDR}}` with your desired CIDR range for the load balancer IP addresses."
            ],
            "text/plain": [
              "<IPython.core.display.Markdown object>"
            ]
          },
          "metadata": {},
          "output_type": "display_data"
        }
      ],
      "source": [
        "res = openai.ChatCompletion.create(\n",
        "    model=\"gpt-3.5-turbo\",\n",
        "    messages=[\n",
        "        {\"role\": \"system\", \"content\": \"You are Q&A bot. A highly intelligent system that answers user questions\"},\n",
        "        {\"role\": \"user\", \"content\": query}\n",
        "    ]\n",
        ")\n",
        "display(Markdown(res['choices'][0]['message']['content']))"
      ]
    }
  ],
  "metadata": {
    "colab": {
      "provenance": []
    },
    "kernelspec": {
      "display_name": "Python 3",
      "name": "python3"
    },
    "language_info": {
      "codemirror_mode": {
        "name": "ipython",
        "version": 3
      },
      "file_extension": ".py",
      "mimetype": "text/x-python",
      "name": "python",
      "nbconvert_exporter": "python",
      "pygments_lexer": "ipython3",
      "version": "3.11.2"
    },
    "widgets": {
      "application/vnd.jupyter.widget-state+json": {
        "04fd6e9cebaa4c9287d16cb8c861c8a3": {
          "model_module": "@jupyter-widgets/controls",
          "model_module_version": "1.5.0",
          "model_name": "DescriptionStyleModel",
          "state": {
            "_model_module": "@jupyter-widgets/controls",
            "_model_module_version": "1.5.0",
            "_model_name": "DescriptionStyleModel",
            "_view_count": null,
            "_view_module": "@jupyter-widgets/base",
            "_view_module_version": "1.2.0",
            "_view_name": "StyleView",
            "description_width": ""
          }
        },
        "144e2e3c8a014c549e0f552a64a670ef": {
          "model_module": "@jupyter-widgets/base",
          "model_module_version": "1.2.0",
          "model_name": "LayoutModel",
          "state": {
            "_model_module": "@jupyter-widgets/base",
            "_model_module_version": "1.2.0",
            "_model_name": "LayoutModel",
            "_view_count": null,
            "_view_module": "@jupyter-widgets/base",
            "_view_module_version": "1.2.0",
            "_view_name": "LayoutView",
            "align_content": null,
            "align_items": null,
            "align_self": null,
            "border": null,
            "bottom": null,
            "display": null,
            "flex": null,
            "flex_flow": null,
            "grid_area": null,
            "grid_auto_columns": null,
            "grid_auto_flow": null,
            "grid_auto_rows": null,
            "grid_column": null,
            "grid_gap": null,
            "grid_row": null,
            "grid_template_areas": null,
            "grid_template_columns": null,
            "grid_template_rows": null,
            "height": null,
            "justify_content": null,
            "justify_items": null,
            "left": null,
            "margin": null,
            "max_height": null,
            "max_width": null,
            "min_height": null,
            "min_width": null,
            "object_fit": null,
            "object_position": null,
            "order": null,
            "overflow": null,
            "overflow_x": null,
            "overflow_y": null,
            "padding": null,
            "right": null,
            "top": null,
            "visibility": null,
            "width": null
          }
        },
        "153f898146264d50b77b5ef23db92408": {
          "model_module": "@jupyter-widgets/controls",
          "model_module_version": "1.5.0",
          "model_name": "HTMLModel",
          "state": {
            "_dom_classes": [],
            "_model_module": "@jupyter-widgets/controls",
            "_model_module_version": "1.5.0",
            "_model_name": "HTMLModel",
            "_view_count": null,
            "_view_module": "@jupyter-widgets/controls",
            "_view_module_version": "1.5.0",
            "_view_name": "HTMLView",
            "description": "",
            "description_tooltip": null,
            "layout": "IPY_MODEL_1bed5d4ebf054e80b4d63d6f8a2593d8",
            "placeholder": "​",
            "style": "IPY_MODEL_04fd6e9cebaa4c9287d16cb8c861c8a3",
            "value": " 231/231 [00:01&lt;00:00, 193.80it/s]"
          }
        },
        "157f79e1ecf0423393cb15dcd2e66996": {
          "model_module": "@jupyter-widgets/controls",
          "model_module_version": "1.5.0",
          "model_name": "DescriptionStyleModel",
          "state": {
            "_model_module": "@jupyter-widgets/controls",
            "_model_module_version": "1.5.0",
            "_model_name": "DescriptionStyleModel",
            "_view_count": null,
            "_view_module": "@jupyter-widgets/base",
            "_view_module_version": "1.2.0",
            "_view_name": "StyleView",
            "description_width": ""
          }
        },
        "1b93eb9d358041ab99fe87045f7f0660": {
          "model_module": "@jupyter-widgets/base",
          "model_module_version": "1.2.0",
          "model_name": "LayoutModel",
          "state": {
            "_model_module": "@jupyter-widgets/base",
            "_model_module_version": "1.2.0",
            "_model_name": "LayoutModel",
            "_view_count": null,
            "_view_module": "@jupyter-widgets/base",
            "_view_module_version": "1.2.0",
            "_view_name": "LayoutView",
            "align_content": null,
            "align_items": null,
            "align_self": null,
            "border": null,
            "bottom": null,
            "display": null,
            "flex": null,
            "flex_flow": null,
            "grid_area": null,
            "grid_auto_columns": null,
            "grid_auto_flow": null,
            "grid_auto_rows": null,
            "grid_column": null,
            "grid_gap": null,
            "grid_row": null,
            "grid_template_areas": null,
            "grid_template_columns": null,
            "grid_template_rows": null,
            "height": null,
            "justify_content": null,
            "justify_items": null,
            "left": null,
            "margin": null,
            "max_height": null,
            "max_width": null,
            "min_height": null,
            "min_width": null,
            "object_fit": null,
            "object_position": null,
            "order": null,
            "overflow": null,
            "overflow_x": null,
            "overflow_y": null,
            "padding": null,
            "right": null,
            "top": null,
            "visibility": null,
            "width": null
          }
        },
        "1bed5d4ebf054e80b4d63d6f8a2593d8": {
          "model_module": "@jupyter-widgets/base",
          "model_module_version": "1.2.0",
          "model_name": "LayoutModel",
          "state": {
            "_model_module": "@jupyter-widgets/base",
            "_model_module_version": "1.2.0",
            "_model_name": "LayoutModel",
            "_view_count": null,
            "_view_module": "@jupyter-widgets/base",
            "_view_module_version": "1.2.0",
            "_view_name": "LayoutView",
            "align_content": null,
            "align_items": null,
            "align_self": null,
            "border": null,
            "bottom": null,
            "display": null,
            "flex": null,
            "flex_flow": null,
            "grid_area": null,
            "grid_auto_columns": null,
            "grid_auto_flow": null,
            "grid_auto_rows": null,
            "grid_column": null,
            "grid_gap": null,
            "grid_row": null,
            "grid_template_areas": null,
            "grid_template_columns": null,
            "grid_template_rows": null,
            "height": null,
            "justify_content": null,
            "justify_items": null,
            "left": null,
            "margin": null,
            "max_height": null,
            "max_width": null,
            "min_height": null,
            "min_width": null,
            "object_fit": null,
            "object_position": null,
            "order": null,
            "overflow": null,
            "overflow_x": null,
            "overflow_y": null,
            "padding": null,
            "right": null,
            "top": null,
            "visibility": null,
            "width": null
          }
        },
        "30d7236e54844058b7c76404e1f2ccb8": {
          "model_module": "@jupyter-widgets/base",
          "model_module_version": "1.2.0",
          "model_name": "LayoutModel",
          "state": {
            "_model_module": "@jupyter-widgets/base",
            "_model_module_version": "1.2.0",
            "_model_name": "LayoutModel",
            "_view_count": null,
            "_view_module": "@jupyter-widgets/base",
            "_view_module_version": "1.2.0",
            "_view_name": "LayoutView",
            "align_content": null,
            "align_items": null,
            "align_self": null,
            "border": null,
            "bottom": null,
            "display": null,
            "flex": null,
            "flex_flow": null,
            "grid_area": null,
            "grid_auto_columns": null,
            "grid_auto_flow": null,
            "grid_auto_rows": null,
            "grid_column": null,
            "grid_gap": null,
            "grid_row": null,
            "grid_template_areas": null,
            "grid_template_columns": null,
            "grid_template_rows": null,
            "height": null,
            "justify_content": null,
            "justify_items": null,
            "left": null,
            "margin": null,
            "max_height": null,
            "max_width": null,
            "min_height": null,
            "min_width": null,
            "object_fit": null,
            "object_position": null,
            "order": null,
            "overflow": null,
            "overflow_x": null,
            "overflow_y": null,
            "padding": null,
            "right": null,
            "top": null,
            "visibility": null,
            "width": null
          }
        },
        "348fe1bd02ed4dca8df422031d1184f6": {
          "model_module": "@jupyter-widgets/base",
          "model_module_version": "1.2.0",
          "model_name": "LayoutModel",
          "state": {
            "_model_module": "@jupyter-widgets/base",
            "_model_module_version": "1.2.0",
            "_model_name": "LayoutModel",
            "_view_count": null,
            "_view_module": "@jupyter-widgets/base",
            "_view_module_version": "1.2.0",
            "_view_name": "LayoutView",
            "align_content": null,
            "align_items": null,
            "align_self": null,
            "border": null,
            "bottom": null,
            "display": null,
            "flex": null,
            "flex_flow": null,
            "grid_area": null,
            "grid_auto_columns": null,
            "grid_auto_flow": null,
            "grid_auto_rows": null,
            "grid_column": null,
            "grid_gap": null,
            "grid_row": null,
            "grid_template_areas": null,
            "grid_template_columns": null,
            "grid_template_rows": null,
            "height": null,
            "justify_content": null,
            "justify_items": null,
            "left": null,
            "margin": null,
            "max_height": null,
            "max_width": null,
            "min_height": null,
            "min_width": null,
            "object_fit": null,
            "object_position": null,
            "order": null,
            "overflow": null,
            "overflow_x": null,
            "overflow_y": null,
            "padding": null,
            "right": null,
            "top": null,
            "visibility": null,
            "width": null
          }
        },
        "70eaf7d1a5b24e49a32490fd3a75ea15": {
          "model_module": "@jupyter-widgets/controls",
          "model_module_version": "1.5.0",
          "model_name": "HTMLModel",
          "state": {
            "_dom_classes": [],
            "_model_module": "@jupyter-widgets/controls",
            "_model_module_version": "1.5.0",
            "_model_name": "HTMLModel",
            "_view_count": null,
            "_view_module": "@jupyter-widgets/controls",
            "_view_module_version": "1.5.0",
            "_view_name": "HTMLView",
            "description": "",
            "description_tooltip": null,
            "layout": "IPY_MODEL_a9552f4dca1642e2924ee152067f1f3d",
            "placeholder": "​",
            "style": "IPY_MODEL_c82f8fbcef0648489f1dcbb4af5ea8c4",
            "value": " 12/12 [00:18&lt;00:00,  3.12s/it]"
          }
        },
        "7d78613ce91b4427a4afacb699ef031e": {
          "model_module": "@jupyter-widgets/controls",
          "model_module_version": "1.5.0",
          "model_name": "DescriptionStyleModel",
          "state": {
            "_model_module": "@jupyter-widgets/controls",
            "_model_module_version": "1.5.0",
            "_model_name": "DescriptionStyleModel",
            "_view_count": null,
            "_view_module": "@jupyter-widgets/base",
            "_view_module_version": "1.2.0",
            "_view_name": "StyleView",
            "description_width": ""
          }
        },
        "865d0f1e70cc4889aaf91cf1ad82b909": {
          "model_module": "@jupyter-widgets/controls",
          "model_module_version": "1.5.0",
          "model_name": "ProgressStyleModel",
          "state": {
            "_model_module": "@jupyter-widgets/controls",
            "_model_module_version": "1.5.0",
            "_model_name": "ProgressStyleModel",
            "_view_count": null,
            "_view_module": "@jupyter-widgets/base",
            "_view_module_version": "1.2.0",
            "_view_name": "StyleView",
            "bar_color": null,
            "description_width": ""
          }
        },
        "8f0edead487948358efe478a01316209": {
          "model_module": "@jupyter-widgets/controls",
          "model_module_version": "1.5.0",
          "model_name": "HTMLModel",
          "state": {
            "_dom_classes": [],
            "_model_module": "@jupyter-widgets/controls",
            "_model_module_version": "1.5.0",
            "_model_name": "HTMLModel",
            "_view_count": null,
            "_view_module": "@jupyter-widgets/controls",
            "_view_module_version": "1.5.0",
            "_view_name": "HTMLView",
            "description": "",
            "description_tooltip": null,
            "layout": "IPY_MODEL_348fe1bd02ed4dca8df422031d1184f6",
            "placeholder": "​",
            "style": "IPY_MODEL_157f79e1ecf0423393cb15dcd2e66996",
            "value": "100%"
          }
        },
        "90aa35cbdf0c45a1bb7b9075c48a6f7d": {
          "model_module": "@jupyter-widgets/controls",
          "model_module_version": "1.5.0",
          "model_name": "FloatProgressModel",
          "state": {
            "_dom_classes": [],
            "_model_module": "@jupyter-widgets/controls",
            "_model_module_version": "1.5.0",
            "_model_name": "FloatProgressModel",
            "_view_count": null,
            "_view_module": "@jupyter-widgets/controls",
            "_view_module_version": "1.5.0",
            "_view_name": "ProgressView",
            "bar_style": "success",
            "description": "",
            "description_tooltip": null,
            "layout": "IPY_MODEL_1b93eb9d358041ab99fe87045f7f0660",
            "max": 12,
            "min": 0,
            "orientation": "horizontal",
            "style": "IPY_MODEL_af4f336bfcb446afb9e6a513d49d791f",
            "value": 12
          }
        },
        "a43a7db5cab149b3a8aeef23d3fb936f": {
          "model_module": "@jupyter-widgets/base",
          "model_module_version": "1.2.0",
          "model_name": "LayoutModel",
          "state": {
            "_model_module": "@jupyter-widgets/base",
            "_model_module_version": "1.2.0",
            "_model_name": "LayoutModel",
            "_view_count": null,
            "_view_module": "@jupyter-widgets/base",
            "_view_module_version": "1.2.0",
            "_view_name": "LayoutView",
            "align_content": null,
            "align_items": null,
            "align_self": null,
            "border": null,
            "bottom": null,
            "display": null,
            "flex": null,
            "flex_flow": null,
            "grid_area": null,
            "grid_auto_columns": null,
            "grid_auto_flow": null,
            "grid_auto_rows": null,
            "grid_column": null,
            "grid_gap": null,
            "grid_row": null,
            "grid_template_areas": null,
            "grid_template_columns": null,
            "grid_template_rows": null,
            "height": null,
            "justify_content": null,
            "justify_items": null,
            "left": null,
            "margin": null,
            "max_height": null,
            "max_width": null,
            "min_height": null,
            "min_width": null,
            "object_fit": null,
            "object_position": null,
            "order": null,
            "overflow": null,
            "overflow_x": null,
            "overflow_y": null,
            "padding": null,
            "right": null,
            "top": null,
            "visibility": null,
            "width": null
          }
        },
        "a9552f4dca1642e2924ee152067f1f3d": {
          "model_module": "@jupyter-widgets/base",
          "model_module_version": "1.2.0",
          "model_name": "LayoutModel",
          "state": {
            "_model_module": "@jupyter-widgets/base",
            "_model_module_version": "1.2.0",
            "_model_name": "LayoutModel",
            "_view_count": null,
            "_view_module": "@jupyter-widgets/base",
            "_view_module_version": "1.2.0",
            "_view_name": "LayoutView",
            "align_content": null,
            "align_items": null,
            "align_self": null,
            "border": null,
            "bottom": null,
            "display": null,
            "flex": null,
            "flex_flow": null,
            "grid_area": null,
            "grid_auto_columns": null,
            "grid_auto_flow": null,
            "grid_auto_rows": null,
            "grid_column": null,
            "grid_gap": null,
            "grid_row": null,
            "grid_template_areas": null,
            "grid_template_columns": null,
            "grid_template_rows": null,
            "height": null,
            "justify_content": null,
            "justify_items": null,
            "left": null,
            "margin": null,
            "max_height": null,
            "max_width": null,
            "min_height": null,
            "min_width": null,
            "object_fit": null,
            "object_position": null,
            "order": null,
            "overflow": null,
            "overflow_x": null,
            "overflow_y": null,
            "padding": null,
            "right": null,
            "top": null,
            "visibility": null,
            "width": null
          }
        },
        "af4f336bfcb446afb9e6a513d49d791f": {
          "model_module": "@jupyter-widgets/controls",
          "model_module_version": "1.5.0",
          "model_name": "ProgressStyleModel",
          "state": {
            "_model_module": "@jupyter-widgets/controls",
            "_model_module_version": "1.5.0",
            "_model_name": "ProgressStyleModel",
            "_view_count": null,
            "_view_module": "@jupyter-widgets/base",
            "_view_module_version": "1.2.0",
            "_view_name": "StyleView",
            "bar_color": null,
            "description_width": ""
          }
        },
        "b1489d5d6c1f498fadaea8aeb16ab60f": {
          "model_module": "@jupyter-widgets/controls",
          "model_module_version": "1.5.0",
          "model_name": "HTMLModel",
          "state": {
            "_dom_classes": [],
            "_model_module": "@jupyter-widgets/controls",
            "_model_module_version": "1.5.0",
            "_model_name": "HTMLModel",
            "_view_count": null,
            "_view_module": "@jupyter-widgets/controls",
            "_view_module_version": "1.5.0",
            "_view_name": "HTMLView",
            "description": "",
            "description_tooltip": null,
            "layout": "IPY_MODEL_e5b49411f2134a9b9649528314f746d6",
            "placeholder": "​",
            "style": "IPY_MODEL_7d78613ce91b4427a4afacb699ef031e",
            "value": "100%"
          }
        },
        "b6b5865b02504e10a020ad5f42241df6": {
          "model_module": "@jupyter-widgets/controls",
          "model_module_version": "1.5.0",
          "model_name": "HBoxModel",
          "state": {
            "_dom_classes": [],
            "_model_module": "@jupyter-widgets/controls",
            "_model_module_version": "1.5.0",
            "_model_name": "HBoxModel",
            "_view_count": null,
            "_view_module": "@jupyter-widgets/controls",
            "_view_module_version": "1.5.0",
            "_view_name": "HBoxView",
            "box_style": "",
            "children": [
              "IPY_MODEL_b1489d5d6c1f498fadaea8aeb16ab60f",
              "IPY_MODEL_90aa35cbdf0c45a1bb7b9075c48a6f7d",
              "IPY_MODEL_70eaf7d1a5b24e49a32490fd3a75ea15"
            ],
            "layout": "IPY_MODEL_144e2e3c8a014c549e0f552a64a670ef"
          }
        },
        "bcd3e274345a44dc950890c1fa1026a7": {
          "model_module": "@jupyter-widgets/controls",
          "model_module_version": "1.5.0",
          "model_name": "FloatProgressModel",
          "state": {
            "_dom_classes": [],
            "_model_module": "@jupyter-widgets/controls",
            "_model_module_version": "1.5.0",
            "_model_name": "FloatProgressModel",
            "_view_count": null,
            "_view_module": "@jupyter-widgets/controls",
            "_view_module_version": "1.5.0",
            "_view_name": "ProgressView",
            "bar_style": "success",
            "description": "",
            "description_tooltip": null,
            "layout": "IPY_MODEL_a43a7db5cab149b3a8aeef23d3fb936f",
            "max": 231,
            "min": 0,
            "orientation": "horizontal",
            "style": "IPY_MODEL_865d0f1e70cc4889aaf91cf1ad82b909",
            "value": 231
          }
        },
        "c82f8fbcef0648489f1dcbb4af5ea8c4": {
          "model_module": "@jupyter-widgets/controls",
          "model_module_version": "1.5.0",
          "model_name": "DescriptionStyleModel",
          "state": {
            "_model_module": "@jupyter-widgets/controls",
            "_model_module_version": "1.5.0",
            "_model_name": "DescriptionStyleModel",
            "_view_count": null,
            "_view_module": "@jupyter-widgets/base",
            "_view_module_version": "1.2.0",
            "_view_name": "StyleView",
            "description_width": ""
          }
        },
        "e5b49411f2134a9b9649528314f746d6": {
          "model_module": "@jupyter-widgets/base",
          "model_module_version": "1.2.0",
          "model_name": "LayoutModel",
          "state": {
            "_model_module": "@jupyter-widgets/base",
            "_model_module_version": "1.2.0",
            "_model_name": "LayoutModel",
            "_view_count": null,
            "_view_module": "@jupyter-widgets/base",
            "_view_module_version": "1.2.0",
            "_view_name": "LayoutView",
            "align_content": null,
            "align_items": null,
            "align_self": null,
            "border": null,
            "bottom": null,
            "display": null,
            "flex": null,
            "flex_flow": null,
            "grid_area": null,
            "grid_auto_columns": null,
            "grid_auto_flow": null,
            "grid_auto_rows": null,
            "grid_column": null,
            "grid_gap": null,
            "grid_row": null,
            "grid_template_areas": null,
            "grid_template_columns": null,
            "grid_template_rows": null,
            "height": null,
            "justify_content": null,
            "justify_items": null,
            "left": null,
            "margin": null,
            "max_height": null,
            "max_width": null,
            "min_height": null,
            "min_width": null,
            "object_fit": null,
            "object_position": null,
            "order": null,
            "overflow": null,
            "overflow_x": null,
            "overflow_y": null,
            "padding": null,
            "right": null,
            "top": null,
            "visibility": null,
            "width": null
          }
        },
        "fe4aa5160ef74ecd820f9c6f7de035a0": {
          "model_module": "@jupyter-widgets/controls",
          "model_module_version": "1.5.0",
          "model_name": "HBoxModel",
          "state": {
            "_dom_classes": [],
            "_model_module": "@jupyter-widgets/controls",
            "_model_module_version": "1.5.0",
            "_model_name": "HBoxModel",
            "_view_count": null,
            "_view_module": "@jupyter-widgets/controls",
            "_view_module_version": "1.5.0",
            "_view_name": "HBoxView",
            "box_style": "",
            "children": [
              "IPY_MODEL_8f0edead487948358efe478a01316209",
              "IPY_MODEL_bcd3e274345a44dc950890c1fa1026a7",
              "IPY_MODEL_153f898146264d50b77b5ef23db92408"
            ],
            "layout": "IPY_MODEL_30d7236e54844058b7c76404e1f2ccb8"
          }
        }
      }
    }
  },
  "nbformat": 4,
  "nbformat_minor": 0
}
